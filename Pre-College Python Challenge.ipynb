{
 "cells": [
  {
   "cell_type": "markdown",
   "metadata": {},
   "source": [
    "# Pre-College Python Additional Exercise"
   ]
  },
  {
   "cell_type": "markdown",
   "metadata": {},
   "source": [
    "## Challenge 1: Warm-up"
   ]
  },
  {
   "cell_type": "markdown",
   "metadata": {},
   "source": [
    "Create a function `is_uppercase(s)`\n",
    "\n",
    "<b>input:</b> a string `s` \n",
    "\n",
    "<b>return:</b> `True` if the string is ALL CAPS and `False` otherwise \n",
    "\n",
    "For example:"
   ]
  },
  {
   "cell_type": "markdown",
   "metadata": {},
   "source": [
    "`is_uppercase(\"c\")` returns `False`"
   ]
  },
  {
   "cell_type": "markdown",
   "metadata": {},
   "source": [
    "`is_uppercase(\"HELLO I AM DONALD\")` returns `True`"
   ]
  },
  {
   "cell_type": "code",
   "execution_count": 1,
   "metadata": {},
   "outputs": [],
   "source": [
    "def is_uppercase(s):\n",
    "    ''' \n",
    "    s: a string\n",
    "    Returns True is s is ALL CAPS and False otherwise\n",
    "    '''\n",
    "    return s.isupper()"
   ]
  },
  {
   "cell_type": "code",
   "execution_count": 2,
   "metadata": {},
   "outputs": [
    {
     "data": {
      "text/plain": [
       "False"
      ]
     },
     "execution_count": 2,
     "metadata": {},
     "output_type": "execute_result"
    }
   ],
   "source": [
    "is_uppercase(\"c\")"
   ]
  },
  {
   "cell_type": "code",
   "execution_count": 3,
   "metadata": {},
   "outputs": [
    {
     "data": {
      "text/plain": [
       "True"
      ]
     },
     "execution_count": 3,
     "metadata": {},
     "output_type": "execute_result"
    }
   ],
   "source": [
    "is_uppercase(\"HELLO I AM DONALD\")"
   ]
  },
  {
   "cell_type": "markdown",
   "metadata": {},
   "source": [
    "## Challenge 2: The Caesar's Cipher"
   ]
  },
  {
   "cell_type": "markdown",
   "metadata": {},
   "source": [
    "The Caesar's Cipher technique is one of the earliest and simplest method of encryption technique. It’s simply a type of substitution cipher, i.e., each letter of a given text is replaced by a letter some fixed number of positions down the alphabet. \n",
    "\n",
    "For example with a shift of 1, A would be replaced by B, B would become C, and so on, and Z would become A. The method is apparently named after Julius Caesar, who apparently used it to communicate with his officials.\n"
   ]
  },
  {
   "cell_type": "markdown",
   "metadata": {},
   "source": [
    "Create a function `encrypt(text, shift)`\n",
    "\n",
    "<b>input:</b> a string of upper-case letters, `text`, and an integer between `0` and `25` denoting the required shift, `shift` \n",
    "\n",
    "<b>return:</b> the new encrypted string generated\n",
    "\n",
    "For example,"
   ]
  },
  {
   "cell_type": "markdown",
   "metadata": {},
   "source": [
    "`text = ATTACKATONCE`\n",
    "\n",
    "`encrypt(text, 4)` returns `EXXEGOEXSRGI`"
   ]
  },
  {
   "cell_type": "code",
   "execution_count": 4,
   "metadata": {},
   "outputs": [],
   "source": [
    "def encrypt(text, shift):\n",
    "    ''' \n",
    "    text: a string of upper-case letters\n",
    "    shift: integer 0-25\n",
    "    Returns the new encrypted string\n",
    "    '''\n",
    "    result = ''\n",
    "    alphabet = 'ABCDEFGHIJKLMNOPQRSTUVWXYZ'\n",
    "    \n",
    "    for ch in text:\n",
    "        old_index = alphabet.index(ch)\n",
    "        new_index = (old_index + shift) % 26\n",
    "        result = result + alphabet[new_index]\n",
    "    \n",
    "    return result"
   ]
  },
  {
   "cell_type": "code",
   "execution_count": 5,
   "metadata": {},
   "outputs": [
    {
     "data": {
      "text/plain": [
       "'EXXEGOEXSRGI'"
      ]
     },
     "execution_count": 5,
     "metadata": {},
     "output_type": "execute_result"
    }
   ],
   "source": [
    "encrypt('ATTACKATONCE', 4)"
   ]
  },
  {
   "cell_type": "markdown",
   "metadata": {},
   "source": [
    "## *Challenge 3: Heroes of Might & Magic: One-on-One"
   ]
  },
  {
   "cell_type": "markdown",
   "metadata": {},
   "source": [
    "Two groups of monsters will attack each other, and your job is to find out who wins. Each group will have a stat for each of the following: number of units, hitpoints per unit, damage per unit, and monster type.\n",
    "\n",
    "If you are not familiar with the game, just think of each group as standing in a line so that when they are attacked the unit at the front of the line takes the hit before the others, and if he dies the remaining damage will hit the next unit and so on. Therefore multiple units (or even the whole group) can die in one attack.\n",
    "\n",
    "Each group takes turns attacking, and does so until only one remains. \n",
    "\n",
    "The inputs for this game will be two dictionaries, each with the stats of each monster. The first input is the first to attack. Using the stats, calculate which group wins, and how many units in that group stay alive (unless they are undead :P), and return it as a string - formatted as below:"
   ]
  },
  {
   "cell_type": "code",
   "execution_count": 6,
   "metadata": {},
   "outputs": [
    {
     "data": {
      "text/plain": [
       "'[NUMBER LEFT] [TYPE](s) won'"
      ]
     },
     "execution_count": 6,
     "metadata": {},
     "output_type": "execute_result"
    }
   ],
   "source": [
    "# Input:\n",
    "mon1 = {\"type\": \"Roc\",     \"hitpoints\": 40, \"number\": 6, \"damage\" : 8 }\n",
    "mon2 = {\"type\": \"Unicorn\", \"hitpoints\": 40, \"number\": 4, \"damage\" : 13}\n",
    "\n",
    "# Output:\n",
    "\"[NUMBER LEFT] [TYPE](s) won\"   # in this case \"5 Roc(s) won\""
   ]
  },
  {
   "cell_type": "markdown",
   "metadata": {},
   "source": [
    "The damage of each attack is calculated simply as `(number of units) * (damage per unit)`.\n",
    "\n",
    "You must also take into account that the first unit in the group may injured BUT he still attacks with full strength."
   ]
  },
  {
   "cell_type": "markdown",
   "metadata": {},
   "source": [
    "Fighting mechanics explanation:\n",
    ">`mon1 = {\"type\": \"Roc\", \"hitpoints\": 40, \"number\": 6, \"damage\":8 }`\n",
    ">\n",
    ">`mon2 = {\"type\": \"Unicorn\", \"hitpoints\": 40, \"number\": 4, \"damage\":13}`\n",
    ">\n",
    ">1) The Rocs attack the Unicorns for 48 damage (6 * 8),\n",
    ">   killing one and damaging the next - leaving it with 32/40 hitpoints.\n",
    ">\n",
    ">2) The remaining 3 Unicorns attack the Rocs for 39 damage (3 * 13),\n",
    ">   killing 0 but leaving the first one with only 1/40 hitpoints.\n",
    ">\n",
    ">3) Repeat until one of the groups is left with 0 units in total."
   ]
  },
  {
   "cell_type": "code",
   "execution_count": 7,
   "metadata": {},
   "outputs": [],
   "source": [
    "def who_would_win(mon1, mon2):\n",
    "    ''' \n",
    "    mon1: dictionary of monster with 4 keys: type, hitpoints, number, damage\n",
    "    mon2: dictionary of monster with 4 keys: type, hitpoints, number, damage\n",
    "    Note: mon1 will hit first\n",
    "    Returns a string \"[NUMBER] [TYPE](s) won\"  \n",
    "    ''' \n",
    "    turn = 0\n",
    "    mons = [mon1, mon2]\n",
    "    hp_last = [mon1['hitpoints'], mon2['hitpoints']]\n",
    "\n",
    "    while True:\n",
    "        mona = mons[turn % 2]  # attack side\n",
    "        monr = mons[(turn + 1) % 2] # receive damage side\n",
    "        dam = mona['number'] * mona['damage']\n",
    "        \n",
    "        hp = (monr['number'] - 1)* monr['hitpoints'] + hp_last[(turn + 1) % 2] - dam\n",
    "\n",
    "        if hp > 0:\n",
    "            monr['number'] = hp // monr['hitpoints'] + 1\n",
    "            hp_last[(turn + 1) % 2] = hp % monr['hitpoints']\n",
    "        else:\n",
    "            break\n",
    "            \n",
    "        turn += 1\n",
    "    \n",
    "    return f\"{mons[turn % 2]['number']} {mons[turn % 2]['type']}(s) won\"\n",
    "  "
   ]
  },
  {
   "cell_type": "code",
   "execution_count": 8,
   "metadata": {},
   "outputs": [
    {
     "data": {
      "text/plain": [
       "'5 Roc(s) won'"
      ]
     },
     "execution_count": 8,
     "metadata": {},
     "output_type": "execute_result"
    }
   ],
   "source": [
    "mon1 = {\"type\": \"Roc\",     \"hitpoints\": 40, \"number\": 6, \"damage\" : 8 }\n",
    "mon2 = {\"type\": \"Unicorn\", \"hitpoints\": 40, \"number\": 4, \"damage\" : 13}\n",
    "\n",
    "who_would_win(mon1, mon2)"
   ]
  },
  {
   "cell_type": "markdown",
   "metadata": {},
   "source": [
    "## Challenge 4: Gimme the ratios"
   ]
  },
  {
   "cell_type": "markdown",
   "metadata": {},
   "source": [
    "Assume `L1` and `L2` are lists of equal lengths . Return  a list containing floats `L1[i]/L2[i]` for `i <= len(L1)`\n",
    "\n",
    "Handle `ZeroDivisionError` by appending `NaN` which stands for Not a Number at that location\n",
    "\n",
    "Handle `ValueError` by printing `\"get_ratios called with bad arguments\"`"
   ]
  },
  {
   "cell_type": "code",
   "execution_count": 9,
   "metadata": {},
   "outputs": [],
   "source": [
    "def get_ratios(L1, L2):\n",
    "    ''' \n",
    "    L1 and L2 are lists of equal lengths\n",
    "    Returns another list containing L1[i]/L2[i]\n",
    "    '''\n",
    "    ratios = []\n",
    "    for index in range(len(L1)):\n",
    "        try:\n",
    "            ratios.append(L1[index]/float(L2[index]))\n",
    "        except ZeroDivisionError:\n",
    "            ratios.append(float('NaN'))\n",
    "        except ValueError:\n",
    "            print(\"get_ratios called with bad arguments\")\n",
    "    return ratios"
   ]
  },
  {
   "cell_type": "code",
   "execution_count": 10,
   "metadata": {},
   "outputs": [
    {
     "data": {
      "text/plain": [
       "[0.3333333333333333, 1.0, 3.0, nan]"
      ]
     },
     "execution_count": 10,
     "metadata": {},
     "output_type": "execute_result"
    }
   ],
   "source": [
    "L1 = [1, 2, 3, 4]\n",
    "L2 = [3, 2, 1, 0]\n",
    "get_ratios(L1, L2)"
   ]
  },
  {
   "cell_type": "markdown",
   "metadata": {},
   "source": [
    "## Challenge 5: Pirates!! Are the Cannons ready!??"
   ]
  },
  {
   "cell_type": "markdown",
   "metadata": {},
   "source": [
    "Ahoy Matey!\n",
    "\n",
    "Welcome to the seven seas.\n",
    "\n",
    "You are the captain of a pirate ship.\n",
    "\n",
    "You are in battle against the royal navy.\n",
    "\n",
    "You have cannons at the ready.... or are they?\n",
    "\n",
    "Your task is to check if the gunners are loaded and ready, if they are: `Fire!`\n",
    "\n",
    "If they aren't ready: `Shiver me timbers!`\n",
    "\n",
    "Your gunners for each test case are `4` or less.\n",
    "\n",
    "When you check if they are ready their answers are in a dictionary and will either be: aye or nay\n",
    "\n",
    "Firing with less than all gunners ready is non-optimum (this is not fire at will, this is fire by the captain's orders or walk the plank, dirty sea-dog!)\n",
    "\n",
    "If all answers are `'aye'` then `Fire!` if one or more are `'nay'` then `Shiver me timbers!`"
   ]
  },
  {
   "cell_type": "code",
   "execution_count": 11,
   "metadata": {},
   "outputs": [],
   "source": [
    "def cannons_ready(gunners):\n",
    "    ''' \n",
    "    gunners is a dictionary of key pirate name and value 'aye' or 'nay'\n",
    "    Returns 'Fire!' or 'Shiver me timbers!'\n",
    "    '''\n",
    "    for val in gunners.values():\n",
    "        if val == 'nay':\n",
    "            return 'Shiver me timbers!'\n",
    "    return 'Fire'"
   ]
  },
  {
   "cell_type": "code",
   "execution_count": 12,
   "metadata": {},
   "outputs": [],
   "source": [
    "#test case:\n",
    "\n",
    "a = {'Mike':'aye','Joe':'aye','Johnson':'aye','Peter':'aye'}\n",
    "b = {'Mike':'aye','Joe':'nay','Johnson':'aye','Peter':'aye'}\n"
   ]
  },
  {
   "cell_type": "code",
   "execution_count": 13,
   "metadata": {},
   "outputs": [
    {
     "data": {
      "text/plain": [
       "'Fire'"
      ]
     },
     "execution_count": 13,
     "metadata": {},
     "output_type": "execute_result"
    }
   ],
   "source": [
    "cannons_ready(a)"
   ]
  },
  {
   "cell_type": "code",
   "execution_count": 14,
   "metadata": {},
   "outputs": [
    {
     "data": {
      "text/plain": [
       "'Shiver me timbers!'"
      ]
     },
     "execution_count": 14,
     "metadata": {},
     "output_type": "execute_result"
    }
   ],
   "source": [
    "cannons_ready(b)"
   ]
  },
  {
   "cell_type": "markdown",
   "metadata": {},
   "source": [
    "## **Challenge 6: Longest substring"
   ]
  },
  {
   "cell_type": "markdown",
   "metadata": {},
   "source": [
    "Assume `s` is a string of lower case characters.\n",
    "\n",
    "Write a program that prints the longest substring of `s` in which the letters occur in alphabetical order. For example, if `s = 'azcbobobegghakl'`, then your program should print"
   ]
  },
  {
   "cell_type": "markdown",
   "metadata": {},
   "source": [
    "`Longest substring in alphabetical order is: beggh`"
   ]
  },
  {
   "cell_type": "markdown",
   "metadata": {},
   "source": [
    "In the case of ties, print the first substring. For example, if `s = 'abcbcd'`, then your program should print"
   ]
  },
  {
   "cell_type": "markdown",
   "metadata": {},
   "source": [
    "`Longest substring in alphabetical order is: abc`"
   ]
  },
  {
   "cell_type": "code",
   "execution_count": 15,
   "metadata": {},
   "outputs": [],
   "source": [
    "def longest_substring(s):\n",
    "    ''' \n",
    "    s is a string of lower-case letters\n",
    "    returns longest substring\n",
    "    '''  \n",
    "    s_sub = s[0]\n",
    "    s_longest = s_sub\n",
    "\n",
    "    for x in range(1,len(s)):\n",
    "        if s[x] >= s_sub[-1]:\n",
    "            s_sub = s_sub + s[x]\n",
    "        else:\n",
    "            if len(s_sub) > len(s_longest):\n",
    "                s_longest = s_sub\n",
    "            s_sub = s[x]\n",
    "\n",
    "    if len(s_sub) > len(s_longest):\n",
    "        s_longest = s_sub\n",
    "        \n",
    "    print('Longest substring in alphabetical order is: ', s_longest)"
   ]
  },
  {
   "cell_type": "code",
   "execution_count": 16,
   "metadata": {},
   "outputs": [
    {
     "name": "stdout",
     "output_type": "stream",
     "text": [
      "Longest substring in alphabetical order is:  beggh\n"
     ]
    }
   ],
   "source": [
    "longest_substring('azcbobobegghakl')"
   ]
  },
  {
   "cell_type": "code",
   "execution_count": 17,
   "metadata": {},
   "outputs": [
    {
     "name": "stdout",
     "output_type": "stream",
     "text": [
      "Longest substring in alphabetical order is:  abc\n"
     ]
    }
   ],
   "source": [
    "longest_substring('abcbcd')"
   ]
  },
  {
   "cell_type": "markdown",
   "metadata": {},
   "source": [
    "## ***Challenge 7: Flattening the list"
   ]
  },
  {
   "cell_type": "markdown",
   "metadata": {},
   "source": [
    "Write a function to flatten a list. The list contains other lists, strings, or ints. For example,`[[1,'a',['cat'],2],[[[3]],'dog'],4,5]` is flattened into `[1,'a','cat',2,3,'dog',4,5]` (order matters).\n",
    "\n",
    "Hint: recursion may be useful"
   ]
  },
  {
   "cell_type": "code",
   "execution_count": 18,
   "metadata": {},
   "outputs": [],
   "source": [
    "def flatten(aList):\n",
    "    ''' \n",
    "    aList: a list \n",
    "    Returns a copy of aList, which is a flattened version of aList \n",
    "    '''\n",
    "    ls = []\n",
    "    for i in aList:\n",
    "        if type(i) != list:\n",
    "            ls.append(i)\n",
    "        else:\n",
    "            ls = ls + flatten(i)\n",
    "    return ls "
   ]
  },
  {
   "cell_type": "code",
   "execution_count": 19,
   "metadata": {},
   "outputs": [
    {
     "data": {
      "text/plain": [
       "[1, 'a', 'cat', 2, 3, 'dog', 4, 5]"
      ]
     },
     "execution_count": 19,
     "metadata": {},
     "output_type": "execute_result"
    }
   ],
   "source": [
    "aList = [[1,'a',['cat'],2],[[[3]],'dog'],4,5]\n",
    "flatten(aList)"
   ]
  },
  {
   "cell_type": "code",
   "execution_count": null,
   "metadata": {},
   "outputs": [],
   "source": []
  }
 ],
 "metadata": {
  "kernelspec": {
   "display_name": "Python 3",
   "language": "python",
   "name": "python3"
  },
  "language_info": {
   "codemirror_mode": {
    "name": "ipython",
    "version": 3
   },
   "file_extension": ".py",
   "mimetype": "text/x-python",
   "name": "python",
   "nbconvert_exporter": "python",
   "pygments_lexer": "ipython3",
   "version": "3.7.3"
  }
 },
 "nbformat": 4,
 "nbformat_minor": 4
}
