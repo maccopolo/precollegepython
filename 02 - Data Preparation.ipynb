{
 "cells": [
  {
   "cell_type": "markdown",
   "metadata": {
    "colab_type": "text",
    "id": "Gb-zQibY2Yyk"
   },
   "source": [
    "# Data Preparation\n",
    "Data preparation is one of the tasks that require a significant amount of time.  There are some reports indicating that this task consumes 80% or more time for data analytics.  This is due to several reasons, including data not in the proper formats, poor data quality, etc.\n",
    "\n",
    "Data preparation usually includes:\n",
    "- Data cleansing - handle missing data and outliers\n",
    "- Data transformation - mapping, discretizing, binning, sampling, etc.\n",
    "- Data wrangling - joining, combining, reshaping data"
   ]
  },
  {
   "cell_type": "code",
   "execution_count": null,
   "metadata": {
    "colab": {},
    "colab_type": "code",
    "id": "RgqMjWaI2Yyq"
   },
   "outputs": [],
   "source": [
    "import pandas as pd\n",
    "import numpy as np"
   ]
  },
  {
   "cell_type": "markdown",
   "metadata": {
    "colab_type": "text",
    "id": "YujWgQ6K2Yyu"
   },
   "source": [
    "## Handling Missing Data\n",
    "There are many ways to handle missing data.  This is based on the nature of the data.\n",
    "To handle missing data, we can:\n",
    "- filter out missing data\n",
    "- fill missing data with some values (constant, forward, stats)\n",
    "\n",
    "Note that all methods in this section can be applied with DataFrame."
   ]
  },
  {
   "cell_type": "code",
   "execution_count": null,
   "metadata": {
    "colab": {
     "base_uri": "https://localhost:8080/",
     "height": 153
    },
    "colab_type": "code",
    "executionInfo": {
     "elapsed": 1604,
     "status": "ok",
     "timestamp": 1574405107463,
     "user": {
      "displayName": "Mac Sriyanong",
      "photoUrl": "https://lh3.googleusercontent.com/a-/AAuE7mBDcSOx-hT0L-jUf7ZECeaUL0zXgJ7UsQk5jreA9w=s64",
      "userId": "08392812212861704534"
     },
     "user_tz": -420
    },
    "id": "G3BG5PLr2Yyv",
    "outputId": "398d8f84-c817-465c-8ecd-8eba1455514a",
    "scrolled": false
   },
   "outputs": [],
   "source": [
    "# create series from dict\n",
    "sdata = { 'Chiang Mai': 1687971, 'Lamphun': 403896, 'Phrae':  421653 , 'Lampang': 730980 }\n",
    "provinces = ['Lamphun', 'Chiang Mai', 'Lampang', 'Chiang Rai', 'Phrae', 'Nan', 'Mae Hong Sorn']\n",
    "s1 = pd.Series(sdata, index=provinces)\n",
    "s1"
   ]
  },
  {
   "cell_type": "markdown",
   "metadata": {
    "colab_type": "text",
    "id": "16mOdq5P2Yyx"
   },
   "source": [
    "### Detecting missing data\n",
    "We can detect missing data using *isnull* method."
   ]
  },
  {
   "cell_type": "code",
   "execution_count": null,
   "metadata": {
    "colab": {
     "base_uri": "https://localhost:8080/",
     "height": 153
    },
    "colab_type": "code",
    "executionInfo": {
     "elapsed": 1601,
     "status": "ok",
     "timestamp": 1574405107464,
     "user": {
      "displayName": "Mac Sriyanong",
      "photoUrl": "https://lh3.googleusercontent.com/a-/AAuE7mBDcSOx-hT0L-jUf7ZECeaUL0zXgJ7UsQk5jreA9w=s64",
      "userId": "08392812212861704534"
     },
     "user_tz": -420
    },
    "id": "L00Wixmd2Yyy",
    "outputId": "c413631a-3346-4998-e0c3-74f6e5969cc6"
   },
   "outputs": [],
   "source": [
    "s1.isnull()"
   ]
  },
  {
   "cell_type": "code",
   "execution_count": null,
   "metadata": {
    "colab": {
     "base_uri": "https://localhost:8080/",
     "height": 85
    },
    "colab_type": "code",
    "executionInfo": {
     "elapsed": 1598,
     "status": "ok",
     "timestamp": 1574405107464,
     "user": {
      "displayName": "Mac Sriyanong",
      "photoUrl": "https://lh3.googleusercontent.com/a-/AAuE7mBDcSOx-hT0L-jUf7ZECeaUL0zXgJ7UsQk5jreA9w=s64",
      "userId": "08392812212861704534"
     },
     "user_tz": -420
    },
    "id": "LiYdityg2Yy0",
    "outputId": "67c8c871-30d6-408b-8d02-3c4409df26f6"
   },
   "outputs": [],
   "source": [
    "# isolate missing data rows\n",
    "s1[s1.isnull()]"
   ]
  },
  {
   "cell_type": "code",
   "execution_count": null,
   "metadata": {
    "colab": {
     "base_uri": "https://localhost:8080/",
     "height": 34
    },
    "colab_type": "code",
    "executionInfo": {
     "elapsed": 1596,
     "status": "ok",
     "timestamp": 1574405107465,
     "user": {
      "displayName": "Mac Sriyanong",
      "photoUrl": "https://lh3.googleusercontent.com/a-/AAuE7mBDcSOx-hT0L-jUf7ZECeaUL0zXgJ7UsQk5jreA9w=s64",
      "userId": "08392812212861704534"
     },
     "user_tz": -420
    },
    "id": "dM21XCsc2Yy2",
    "outputId": "f04d7212-9d81-4f28-dbfc-8def72e801b6"
   },
   "outputs": [],
   "source": [
    "s1.shape"
   ]
  },
  {
   "cell_type": "code",
   "execution_count": null,
   "metadata": {
    "colab": {
     "base_uri": "https://localhost:8080/",
     "height": 34
    },
    "colab_type": "code",
    "executionInfo": {
     "elapsed": 1594,
     "status": "ok",
     "timestamp": 1574405107466,
     "user": {
      "displayName": "Mac Sriyanong",
      "photoUrl": "https://lh3.googleusercontent.com/a-/AAuE7mBDcSOx-hT0L-jUf7ZECeaUL0zXgJ7UsQk5jreA9w=s64",
      "userId": "08392812212861704534"
     },
     "user_tz": -420
    },
    "id": "sJ4p8hP92Yy4",
    "outputId": "c8f02220-6ad8-4827-e12d-643a565a5f8d"
   },
   "outputs": [],
   "source": [
    "s1.count()"
   ]
  },
  {
   "cell_type": "markdown",
   "metadata": {
    "colab_type": "text",
    "id": "rDBIOxs42Yy7"
   },
   "source": [
    "### Filtering out missing data\n",
    "We can use *isnull* method or *dropna* to remove rows with missing data"
   ]
  },
  {
   "cell_type": "code",
   "execution_count": null,
   "metadata": {
    "colab": {
     "base_uri": "https://localhost:8080/",
     "height": 153
    },
    "colab_type": "code",
    "executionInfo": {
     "elapsed": 1591,
     "status": "ok",
     "timestamp": 1574405107466,
     "user": {
      "displayName": "Mac Sriyanong",
      "photoUrl": "https://lh3.googleusercontent.com/a-/AAuE7mBDcSOx-hT0L-jUf7ZECeaUL0zXgJ7UsQk5jreA9w=s64",
      "userId": "08392812212861704534"
     },
     "user_tz": -420
    },
    "id": "zemOlkfA2Yy7",
    "outputId": "f5679803-a302-4e21-d852-344c02c5cdd3"
   },
   "outputs": [],
   "source": [
    "s2 = s1.copy()\n",
    "s2"
   ]
  },
  {
   "cell_type": "code",
   "execution_count": null,
   "metadata": {
    "colab": {
     "base_uri": "https://localhost:8080/",
     "height": 102
    },
    "colab_type": "code",
    "executionInfo": {
     "elapsed": 1589,
     "status": "ok",
     "timestamp": 1574405107467,
     "user": {
      "displayName": "Mac Sriyanong",
      "photoUrl": "https://lh3.googleusercontent.com/a-/AAuE7mBDcSOx-hT0L-jUf7ZECeaUL0zXgJ7UsQk5jreA9w=s64",
      "userId": "08392812212861704534"
     },
     "user_tz": -420
    },
    "id": "dpkDDH7z2Yy-",
    "outputId": "b5584047-e2a8-404e-a010-3cd5a2b46b15"
   },
   "outputs": [],
   "source": [
    "s2.dropna()"
   ]
  },
  {
   "cell_type": "code",
   "execution_count": null,
   "metadata": {
    "colab": {
     "base_uri": "https://localhost:8080/",
     "height": 102
    },
    "colab_type": "code",
    "executionInfo": {
     "elapsed": 1586,
     "status": "ok",
     "timestamp": 1574405107467,
     "user": {
      "displayName": "Mac Sriyanong",
      "photoUrl": "https://lh3.googleusercontent.com/a-/AAuE7mBDcSOx-hT0L-jUf7ZECeaUL0zXgJ7UsQk5jreA9w=s64",
      "userId": "08392812212861704534"
     },
     "user_tz": -420
    },
    "id": "oukVuLpF2YzA",
    "outputId": "2cd5714a-edb3-4f6a-fac2-c0f088f7fa89",
    "scrolled": true
   },
   "outputs": [],
   "source": [
    "s2[s2.notnull()]"
   ]
  },
  {
   "cell_type": "markdown",
   "metadata": {
    "colab_type": "text",
    "id": "ibZX07NE2YzD"
   },
   "source": [
    "*dropna* stores result in a new Series by default.  However, we can tell dropna to putback into the original Series."
   ]
  },
  {
   "cell_type": "code",
   "execution_count": null,
   "metadata": {
    "colab": {
     "base_uri": "https://localhost:8080/",
     "height": 153
    },
    "colab_type": "code",
    "executionInfo": {
     "elapsed": 1584,
     "status": "ok",
     "timestamp": 1574405107468,
     "user": {
      "displayName": "Mac Sriyanong",
      "photoUrl": "https://lh3.googleusercontent.com/a-/AAuE7mBDcSOx-hT0L-jUf7ZECeaUL0zXgJ7UsQk5jreA9w=s64",
      "userId": "08392812212861704534"
     },
     "user_tz": -420
    },
    "id": "7uUFHkVI2YzD",
    "outputId": "516a805d-c2dc-4301-9471-9f3ac2cde5d5"
   },
   "outputs": [],
   "source": [
    "s2"
   ]
  },
  {
   "cell_type": "code",
   "execution_count": null,
   "metadata": {
    "colab": {},
    "colab_type": "code",
    "id": "w32oN1tN2YzG"
   },
   "outputs": [],
   "source": [
    "s2.dropna(inplace=True)"
   ]
  },
  {
   "cell_type": "code",
   "execution_count": null,
   "metadata": {
    "colab": {
     "base_uri": "https://localhost:8080/",
     "height": 102
    },
    "colab_type": "code",
    "executionInfo": {
     "elapsed": 1579,
     "status": "ok",
     "timestamp": 1574405107469,
     "user": {
      "displayName": "Mac Sriyanong",
      "photoUrl": "https://lh3.googleusercontent.com/a-/AAuE7mBDcSOx-hT0L-jUf7ZECeaUL0zXgJ7UsQk5jreA9w=s64",
      "userId": "08392812212861704534"
     },
     "user_tz": -420
    },
    "id": "pFV4s3t82YzI",
    "outputId": "9046206c-19d4-429d-d93d-ef4103fede5c",
    "scrolled": true
   },
   "outputs": [],
   "source": [
    "s2"
   ]
  },
  {
   "cell_type": "markdown",
   "metadata": {
    "colab_type": "text",
    "id": "y44z8ABJ2YzK"
   },
   "source": [
    "### Fill missing data with values\n",
    "Instead of filter out missing data, in many cases, we can fill missing data with some values.  These can be constants, forward-fill, and value from function."
   ]
  },
  {
   "cell_type": "code",
   "execution_count": null,
   "metadata": {
    "colab": {
     "base_uri": "https://localhost:8080/",
     "height": 153
    },
    "colab_type": "code",
    "executionInfo": {
     "elapsed": 1577,
     "status": "ok",
     "timestamp": 1574405107470,
     "user": {
      "displayName": "Mac Sriyanong",
      "photoUrl": "https://lh3.googleusercontent.com/a-/AAuE7mBDcSOx-hT0L-jUf7ZECeaUL0zXgJ7UsQk5jreA9w=s64",
      "userId": "08392812212861704534"
     },
     "user_tz": -420
    },
    "id": "ftBp3uYb2YzL",
    "outputId": "8d1d52d3-af9c-479d-cdbe-fa9bb6319ef9"
   },
   "outputs": [],
   "source": [
    "s2 = s1.copy()\n",
    "s2"
   ]
  },
  {
   "cell_type": "code",
   "execution_count": null,
   "metadata": {
    "colab": {
     "base_uri": "https://localhost:8080/",
     "height": 153
    },
    "colab_type": "code",
    "executionInfo": {
     "elapsed": 1574,
     "status": "ok",
     "timestamp": 1574405107470,
     "user": {
      "displayName": "Mac Sriyanong",
      "photoUrl": "https://lh3.googleusercontent.com/a-/AAuE7mBDcSOx-hT0L-jUf7ZECeaUL0zXgJ7UsQk5jreA9w=s64",
      "userId": "08392812212861704534"
     },
     "user_tz": -420
    },
    "id": "A6OTRKlQ2YzN",
    "outputId": "db0f659e-81f0-4d6b-f515-ad6054f87b25"
   },
   "outputs": [],
   "source": [
    "s2.fillna(0)"
   ]
  },
  {
   "cell_type": "code",
   "execution_count": null,
   "metadata": {
    "colab": {
     "base_uri": "https://localhost:8080/",
     "height": 153
    },
    "colab_type": "code",
    "executionInfo": {
     "elapsed": 1572,
     "status": "ok",
     "timestamp": 1574405107471,
     "user": {
      "displayName": "Mac Sriyanong",
      "photoUrl": "https://lh3.googleusercontent.com/a-/AAuE7mBDcSOx-hT0L-jUf7ZECeaUL0zXgJ7UsQk5jreA9w=s64",
      "userId": "08392812212861704534"
     },
     "user_tz": -420
    },
    "id": "iq-_o8BP2YzP",
    "outputId": "79a12b3b-04f1-4ff0-deeb-3c24291015fe"
   },
   "outputs": [],
   "source": [
    "s2.fillna(method='ffill')"
   ]
  },
  {
   "cell_type": "code",
   "execution_count": null,
   "metadata": {
    "colab": {
     "base_uri": "https://localhost:8080/",
     "height": 153
    },
    "colab_type": "code",
    "executionInfo": {
     "elapsed": 1569,
     "status": "ok",
     "timestamp": 1574405107471,
     "user": {
      "displayName": "Mac Sriyanong",
      "photoUrl": "https://lh3.googleusercontent.com/a-/AAuE7mBDcSOx-hT0L-jUf7ZECeaUL0zXgJ7UsQk5jreA9w=s64",
      "userId": "08392812212861704534"
     },
     "user_tz": -420
    },
    "id": "mfd0GGTU2YzS",
    "outputId": "fb9b50e7-6c62-4312-801a-17336605fcee"
   },
   "outputs": [],
   "source": [
    "s2.fillna(s2.mean())"
   ]
  },
  {
   "cell_type": "markdown",
   "metadata": {
    "colab_type": "text",
    "id": "BT0fDEsb2YzU"
   },
   "source": [
    "### Discretization and Binning\n",
    "Continuous data is often discretized or separted into *bins* for analysis."
   ]
  },
  {
   "cell_type": "code",
   "execution_count": null,
   "metadata": {
    "colab": {
     "base_uri": "https://localhost:8080/",
     "height": 153
    },
    "colab_type": "code",
    "executionInfo": {
     "elapsed": 1567,
     "status": "ok",
     "timestamp": 1574405107472,
     "user": {
      "displayName": "Mac Sriyanong",
      "photoUrl": "https://lh3.googleusercontent.com/a-/AAuE7mBDcSOx-hT0L-jUf7ZECeaUL0zXgJ7UsQk5jreA9w=s64",
      "userId": "08392812212861704534"
     },
     "user_tz": -420
    },
    "id": "7geQYbdz2YzV",
    "outputId": "03906c0d-c7b1-40e3-de7f-876790c55250",
    "scrolled": true
   },
   "outputs": [],
   "source": [
    "s1"
   ]
  },
  {
   "cell_type": "markdown",
   "metadata": {
    "colab_type": "text",
    "id": "IEBBSTlK2YzX"
   },
   "source": [
    "Suppose we want to separate these provinces based on their population into 3 groups:\n",
    "- small city (population < 500,000)\n",
    "- medium city (500,000 <= population < 1,000,000)\n",
    "- large city (population >- 1,000,000)"
   ]
  },
  {
   "cell_type": "code",
   "execution_count": null,
   "metadata": {
    "colab": {
     "base_uri": "https://localhost:8080/",
     "height": 170
    },
    "colab_type": "code",
    "executionInfo": {
     "elapsed": 1564,
     "status": "ok",
     "timestamp": 1574405107472,
     "user": {
      "displayName": "Mac Sriyanong",
      "photoUrl": "https://lh3.googleusercontent.com/a-/AAuE7mBDcSOx-hT0L-jUf7ZECeaUL0zXgJ7UsQk5jreA9w=s64",
      "userId": "08392812212861704534"
     },
     "user_tz": -420
    },
    "id": "TBMP9l602YzY",
    "outputId": "b107b894-b095-4887-884e-096366edfe8b"
   },
   "outputs": [],
   "source": [
    "data_range = [0, 500000, 1000000, 10000000]\n",
    "bins = pd.cut(s1, data_range)\n",
    "bins"
   ]
  },
  {
   "cell_type": "code",
   "execution_count": null,
   "metadata": {
    "colab": {
     "base_uri": "https://localhost:8080/",
     "height": 85
    },
    "colab_type": "code",
    "executionInfo": {
     "elapsed": 1562,
     "status": "ok",
     "timestamp": 1574405107473,
     "user": {
      "displayName": "Mac Sriyanong",
      "photoUrl": "https://lh3.googleusercontent.com/a-/AAuE7mBDcSOx-hT0L-jUf7ZECeaUL0zXgJ7UsQk5jreA9w=s64",
      "userId": "08392812212861704534"
     },
     "user_tz": -420
    },
    "id": "-y_G9Ad42Yzc",
    "outputId": "0da4f722-0df8-48c5-904f-c37895b9acb2"
   },
   "outputs": [],
   "source": [
    "bins.value_counts()"
   ]
  },
  {
   "cell_type": "markdown",
   "metadata": {
    "colab_type": "text",
    "id": "sSGwwT5w2Yzf"
   },
   "source": [
    "We can assign name to bins to create categorical data"
   ]
  },
  {
   "cell_type": "code",
   "execution_count": null,
   "metadata": {
    "colab": {
     "base_uri": "https://localhost:8080/",
     "height": 170
    },
    "colab_type": "code",
    "executionInfo": {
     "elapsed": 1560,
     "status": "ok",
     "timestamp": 1574405107474,
     "user": {
      "displayName": "Mac Sriyanong",
      "photoUrl": "https://lh3.googleusercontent.com/a-/AAuE7mBDcSOx-hT0L-jUf7ZECeaUL0zXgJ7UsQk5jreA9w=s64",
      "userId": "08392812212861704534"
     },
     "user_tz": -420
    },
    "id": "1XvpfRbM2Yzg",
    "outputId": "ac3f9f50-b070-4234-c6d0-61ef76484ed4"
   },
   "outputs": [],
   "source": [
    "bin_names = ['small city', 'medium city', 'large city']\n",
    "bins = pd.cut(s1, data_range, labels=bin_names)\n",
    "bins"
   ]
  },
  {
   "cell_type": "code",
   "execution_count": null,
   "metadata": {
    "colab": {
     "base_uri": "https://localhost:8080/",
     "height": 85
    },
    "colab_type": "code",
    "executionInfo": {
     "elapsed": 1557,
     "status": "ok",
     "timestamp": 1574405107474,
     "user": {
      "displayName": "Mac Sriyanong",
      "photoUrl": "https://lh3.googleusercontent.com/a-/AAuE7mBDcSOx-hT0L-jUf7ZECeaUL0zXgJ7UsQk5jreA9w=s64",
      "userId": "08392812212861704534"
     },
     "user_tz": -420
    },
    "id": "E933WJGE2Yzi",
    "outputId": "5e1114ee-6dc7-478e-f9a3-d985f70749cf"
   },
   "outputs": [],
   "source": [
    "bins.value_counts()"
   ]
  },
  {
   "cell_type": "markdown",
   "metadata": {
    "colab_type": "text",
    "id": "NirAhR3l2Yzk"
   },
   "source": [
    "## Combining and Merging Datasets\n",
    "Data contained in pandas objects can be combined together in a number of ways:\n",
    "- *pandas.merge* connects rows in DataFrames based on one or more keys.  This is similar to SQL *join* operations\n",
    "- *pandas.concat* concatenates or 'stacks' together objects along an axis."
   ]
  },
  {
   "cell_type": "markdown",
   "metadata": {
    "colab_type": "text",
    "id": "HrHrG8eZ2Yzl"
   },
   "source": [
    "### Merging"
   ]
  },
  {
   "cell_type": "code",
   "execution_count": null,
   "metadata": {
    "colab": {
     "base_uri": "https://localhost:8080/",
     "height": 266
    },
    "colab_type": "code",
    "executionInfo": {
     "elapsed": 1555,
     "status": "ok",
     "timestamp": 1574405107475,
     "user": {
      "displayName": "Mac Sriyanong",
      "photoUrl": "https://lh3.googleusercontent.com/a-/AAuE7mBDcSOx-hT0L-jUf7ZECeaUL0zXgJ7UsQk5jreA9w=s64",
      "userId": "08392812212861704534"
     },
     "user_tz": -420
    },
    "id": "JNpwGn6Q2Yzm",
    "outputId": "7fccda5a-a245-4d52-e97f-03fe06806c16"
   },
   "outputs": [],
   "source": [
    "df1 = pd.DataFrame({ 'key': ['b', 'b', 'a', 'c', 'a', 'a', 'b'], 'data1': range(7)})\n",
    "df1"
   ]
  },
  {
   "cell_type": "code",
   "execution_count": null,
   "metadata": {
    "colab": {
     "base_uri": "https://localhost:8080/",
     "height": 142
    },
    "colab_type": "code",
    "executionInfo": {
     "elapsed": 1971,
     "status": "ok",
     "timestamp": 1574405107894,
     "user": {
      "displayName": "Mac Sriyanong",
      "photoUrl": "https://lh3.googleusercontent.com/a-/AAuE7mBDcSOx-hT0L-jUf7ZECeaUL0zXgJ7UsQk5jreA9w=s64",
      "userId": "08392812212861704534"
     },
     "user_tz": -420
    },
    "id": "thxCFadW2Yzo",
    "outputId": "bfd86158-bd79-484d-b6a5-93d9ef4f76ab"
   },
   "outputs": [],
   "source": [
    "df2 = pd.DataFrame({'key': ['a', 'b', 'd'], 'data2': range(3)})\n",
    "df2"
   ]
  },
  {
   "cell_type": "code",
   "execution_count": null,
   "metadata": {
    "colab": {
     "base_uri": "https://localhost:8080/",
     "height": 235
    },
    "colab_type": "code",
    "executionInfo": {
     "elapsed": 1970,
     "status": "ok",
     "timestamp": 1574405107895,
     "user": {
      "displayName": "Mac Sriyanong",
      "photoUrl": "https://lh3.googleusercontent.com/a-/AAuE7mBDcSOx-hT0L-jUf7ZECeaUL0zXgJ7UsQk5jreA9w=s64",
      "userId": "08392812212861704534"
     },
     "user_tz": -420
    },
    "id": "HaGqicep2Yzt",
    "outputId": "346e7c18-ede7-47b4-98e1-7c2190112222"
   },
   "outputs": [],
   "source": [
    "pd.merge(df1, df2)"
   ]
  },
  {
   "cell_type": "markdown",
   "metadata": {
    "colab_type": "text",
    "id": "zl3XSee62Yzv"
   },
   "source": [
    "Note that without specify column name, merge use the overlapping column names as the key."
   ]
  },
  {
   "cell_type": "code",
   "execution_count": null,
   "metadata": {
    "colab": {
     "base_uri": "https://localhost:8080/",
     "height": 235
    },
    "colab_type": "code",
    "executionInfo": {
     "elapsed": 1969,
     "status": "ok",
     "timestamp": 1574405107897,
     "user": {
      "displayName": "Mac Sriyanong",
      "photoUrl": "https://lh3.googleusercontent.com/a-/AAuE7mBDcSOx-hT0L-jUf7ZECeaUL0zXgJ7UsQk5jreA9w=s64",
      "userId": "08392812212861704534"
     },
     "user_tz": -420
    },
    "id": "xRGOa-PP2Yzv",
    "outputId": "51eba14d-e212-4dd5-e395-1e4eb08008b3"
   },
   "outputs": [],
   "source": [
    "# explicitly specify merge key\n",
    "pd.merge(df1, df2, on='key')"
   ]
  },
  {
   "cell_type": "code",
   "execution_count": null,
   "metadata": {
    "colab": {
     "base_uri": "https://localhost:8080/",
     "height": 235
    },
    "colab_type": "code",
    "executionInfo": {
     "elapsed": 1967,
     "status": "ok",
     "timestamp": 1574405107898,
     "user": {
      "displayName": "Mac Sriyanong",
      "photoUrl": "https://lh3.googleusercontent.com/a-/AAuE7mBDcSOx-hT0L-jUf7ZECeaUL0zXgJ7UsQk5jreA9w=s64",
      "userId": "08392812212861704534"
     },
     "user_tz": -420
    },
    "id": "KMfxeLhL2Yzx",
    "outputId": "edb17354-1f4d-478a-a90e-e6674745fe71",
    "scrolled": true
   },
   "outputs": [],
   "source": [
    "df_l = pd.DataFrame({ 'lkey': ['b', 'b', 'a', 'c', 'a', 'a', 'b'], 'data1': range(7)})\n",
    "df_r = pd.DataFrame({'rkey': ['a', 'b', 'd'], 'data2': range(3)})\n",
    "# we can specify keys if names are different\n",
    "pd.merge(df_l, df_r, left_on='lkey', right_on='rkey')"
   ]
  },
  {
   "cell_type": "markdown",
   "metadata": {
    "colab_type": "text",
    "id": "5WHVFEyD2Yzz"
   },
   "source": [
    "### Concatenation"
   ]
  },
  {
   "cell_type": "code",
   "execution_count": null,
   "metadata": {
    "colab": {
     "base_uri": "https://localhost:8080/",
     "height": 142
    },
    "colab_type": "code",
    "executionInfo": {
     "elapsed": 1965,
     "status": "ok",
     "timestamp": 1574405107899,
     "user": {
      "displayName": "Mac Sriyanong",
      "photoUrl": "https://lh3.googleusercontent.com/a-/AAuE7mBDcSOx-hT0L-jUf7ZECeaUL0zXgJ7UsQk5jreA9w=s64",
      "userId": "08392812212861704534"
     },
     "user_tz": -420
    },
    "id": "UWz7XBa62Yz0",
    "outputId": "3540a3f9-251b-4163-98d1-7b2a6af95391"
   },
   "outputs": [],
   "source": [
    "df1 = pd.DataFrame(np.random.randn(3,4), columns=['a', 'b', 'c', 'd'])\n",
    "df1"
   ]
  },
  {
   "cell_type": "code",
   "execution_count": null,
   "metadata": {
    "colab": {
     "base_uri": "https://localhost:8080/",
     "height": 111
    },
    "colab_type": "code",
    "executionInfo": {
     "elapsed": 1963,
     "status": "ok",
     "timestamp": 1574405107900,
     "user": {
      "displayName": "Mac Sriyanong",
      "photoUrl": "https://lh3.googleusercontent.com/a-/AAuE7mBDcSOx-hT0L-jUf7ZECeaUL0zXgJ7UsQk5jreA9w=s64",
      "userId": "08392812212861704534"
     },
     "user_tz": -420
    },
    "id": "ru_ULO7u2Yz2",
    "outputId": "a2c5ed74-32cd-4665-9d09-1fa790b7d7b7"
   },
   "outputs": [],
   "source": [
    "df2 = pd.DataFrame(np.random.randn(2, 3), columns=['b', 'd', 'a'])\n",
    "df2"
   ]
  },
  {
   "cell_type": "code",
   "execution_count": null,
   "metadata": {
    "colab": {
     "base_uri": "https://localhost:8080/",
     "height": 340
    },
    "colab_type": "code",
    "executionInfo": {
     "elapsed": 1962,
     "status": "ok",
     "timestamp": 1574405107902,
     "user": {
      "displayName": "Mac Sriyanong",
      "photoUrl": "https://lh3.googleusercontent.com/a-/AAuE7mBDcSOx-hT0L-jUf7ZECeaUL0zXgJ7UsQk5jreA9w=s64",
      "userId": "08392812212861704534"
     },
     "user_tz": -420
    },
    "id": "hwD9gIiH2Yz4",
    "outputId": "58dc5783-6a0f-41f7-cf0d-46c5d40d8f78"
   },
   "outputs": [],
   "source": [
    "pd.concat([df1, df2], ignore_index=True)"
   ]
  },
  {
   "cell_type": "markdown",
   "metadata": {
    "colab_type": "text",
    "id": "Xb2MoO_L2Yz6"
   },
   "source": [
    "## Aggregation and Group Operations\n",
    "We use aggregation and group operations to perform data analytics, especially during Exploratory Data Analysis."
   ]
  },
  {
   "cell_type": "markdown",
   "metadata": {
    "colab_type": "text",
    "id": "LgROGOn-2Yz7"
   },
   "source": [
    "### GroupBy\n",
    "GroupBy is the basic method that provides the foundation for group operations."
   ]
  },
  {
   "cell_type": "code",
   "execution_count": null,
   "metadata": {
    "colab": {
     "base_uri": "https://localhost:8080/",
     "height": 235
    },
    "colab_type": "code",
    "executionInfo": {
     "elapsed": 793,
     "status": "ok",
     "timestamp": 1574406207579,
     "user": {
      "displayName": "Mac Sriyanong",
      "photoUrl": "https://lh3.googleusercontent.com/a-/AAuE7mBDcSOx-hT0L-jUf7ZECeaUL0zXgJ7UsQk5jreA9w=s64",
      "userId": "08392812212861704534"
     },
     "user_tz": -420
    },
    "id": "FQxx2nn-2Yz7",
    "outputId": "7fe72c1e-cab1-4eb0-89aa-4580813c9aa5"
   },
   "outputs": [],
   "source": [
    "data = {\n",
    "    'province': ['Chiang Mai', 'Chiang Mai', 'Chiang Mai', 'Phrae', 'Phrae', 'Phrae'],\n",
    "    'year': [2016, 2017, 2018, 2016, 2017, 2018],\n",
    "    'population': [1630428, 1664012, 1687971, 398936, 410382, 421653],\n",
    "    'household': [ 499241, 540154, 577810, 104865, 129042, 145730]\n",
    "}\n",
    "df = pd.DataFrame(data)\n",
    "df"
   ]
  },
  {
   "cell_type": "code",
   "execution_count": null,
   "metadata": {
    "colab": {
     "base_uri": "https://localhost:8080/",
     "height": 102
    },
    "colab_type": "code",
    "executionInfo": {
     "elapsed": 1666,
     "status": "ok",
     "timestamp": 1574406247076,
     "user": {
      "displayName": "Mac Sriyanong",
      "photoUrl": "https://lh3.googleusercontent.com/a-/AAuE7mBDcSOx-hT0L-jUf7ZECeaUL0zXgJ7UsQk5jreA9w=s64",
      "userId": "08392812212861704534"
     },
     "user_tz": -420
    },
    "id": "ZO6sDz6p7DR4",
    "outputId": "34695f37-02b7-4376-f56f-d8217a07b063"
   },
   "outputs": [],
   "source": [
    "df.groupby('year').household.sum()"
   ]
  },
  {
   "cell_type": "code",
   "execution_count": null,
   "metadata": {
    "colab": {
     "base_uri": "https://localhost:8080/",
     "height": 102
    },
    "colab_type": "code",
    "executionInfo": {
     "elapsed": 1959,
     "status": "ok",
     "timestamp": 1574405107905,
     "user": {
      "displayName": "Mac Sriyanong",
      "photoUrl": "https://lh3.googleusercontent.com/a-/AAuE7mBDcSOx-hT0L-jUf7ZECeaUL0zXgJ7UsQk5jreA9w=s64",
      "userId": "08392812212861704534"
     },
     "user_tz": -420
    },
    "id": "sLJTpvi_2Yz-",
    "outputId": "4a105f63-c1e6-4bd5-b7e2-17f8978b5a50"
   },
   "outputs": [],
   "source": [
    "df.groupby('year').population.sum()"
   ]
  },
  {
   "cell_type": "code",
   "execution_count": null,
   "metadata": {
    "colab": {
     "base_uri": "https://localhost:8080/",
     "height": 85
    },
    "colab_type": "code",
    "executionInfo": {
     "elapsed": 3165,
     "status": "ok",
     "timestamp": 1574406319054,
     "user": {
      "displayName": "Mac Sriyanong",
      "photoUrl": "https://lh3.googleusercontent.com/a-/AAuE7mBDcSOx-hT0L-jUf7ZECeaUL0zXgJ7UsQk5jreA9w=s64",
      "userId": "08392812212861704534"
     },
     "user_tz": -420
    },
    "id": "NuKG-X8D2Y0A",
    "outputId": "1ba83be2-c65f-48fe-8031-adc9535168c9"
   },
   "outputs": [],
   "source": [
    "df.groupby('province').population.mean()"
   ]
  },
  {
   "cell_type": "code",
   "execution_count": null,
   "metadata": {
    "colab": {
     "base_uri": "https://localhost:8080/",
     "height": 34
    },
    "colab_type": "code",
    "executionInfo": {
     "elapsed": 1799,
     "status": "ok",
     "timestamp": 1574406338260,
     "user": {
      "displayName": "Mac Sriyanong",
      "photoUrl": "https://lh3.googleusercontent.com/a-/AAuE7mBDcSOx-hT0L-jUf7ZECeaUL0zXgJ7UsQk5jreA9w=s64",
      "userId": "08392812212861704534"
     },
     "user_tz": -420
    },
    "id": "fWIGLKqP7d79",
    "outputId": "83d60110-1abc-4603-8f92-584760f7397f"
   },
   "outputs": [],
   "source": [
    "df.groupby(['province', 'year']).population"
   ]
  },
  {
   "cell_type": "code",
   "execution_count": null,
   "metadata": {
    "colab": {
     "base_uri": "https://localhost:8080/",
     "height": 153
    },
    "colab_type": "code",
    "executionInfo": {
     "elapsed": 1954,
     "status": "ok",
     "timestamp": 1574405107906,
     "user": {
      "displayName": "Mac Sriyanong",
      "photoUrl": "https://lh3.googleusercontent.com/a-/AAuE7mBDcSOx-hT0L-jUf7ZECeaUL0zXgJ7UsQk5jreA9w=s64",
      "userId": "08392812212861704534"
     },
     "user_tz": -420
    },
    "id": "eastk1kL2Y0C",
    "outputId": "a59446e8-0428-499f-9647-07bfb1559ee2"
   },
   "outputs": [],
   "source": [
    "df.groupby(['province', 'year']).population.mean()"
   ]
  },
  {
   "cell_type": "code",
   "execution_count": null,
   "metadata": {
    "colab": {
     "base_uri": "https://localhost:8080/",
     "height": 266
    },
    "colab_type": "code",
    "executionInfo": {
     "elapsed": 1952,
     "status": "ok",
     "timestamp": 1574405107907,
     "user": {
      "displayName": "Mac Sriyanong",
      "photoUrl": "https://lh3.googleusercontent.com/a-/AAuE7mBDcSOx-hT0L-jUf7ZECeaUL0zXgJ7UsQk5jreA9w=s64",
      "userId": "08392812212861704534"
     },
     "user_tz": -420
    },
    "id": "I4Q2HRsO2Y0E",
    "outputId": "9a5dbf5c-9e4c-4f25-98cc-9e2833d07bfc"
   },
   "outputs": [],
   "source": [
    "df.pivot_table(index=['province', 'year'])"
   ]
  }
 ],
 "metadata": {
  "colab": {
   "collapsed_sections": [],
   "name": "Copy of 3 - Data Preparation.ipynb",
   "provenance": [
    {
     "file_id": "1ixKRRv7ZFS0pW1uECbQV19nlkNtNn3vh",
     "timestamp": 1574405064922
    }
   ]
  },
  "kernelspec": {
   "display_name": "Python 3",
   "language": "python",
   "name": "python3"
  },
  "language_info": {
   "codemirror_mode": {
    "name": "ipython",
    "version": 3
   },
   "file_extension": ".py",
   "mimetype": "text/x-python",
   "name": "python",
   "nbconvert_exporter": "python",
   "pygments_lexer": "ipython3",
   "version": "3.7.3"
  },
  "varInspector": {
   "cols": {
    "lenName": 16,
    "lenType": 16,
    "lenVar": 40
   },
   "kernels_config": {
    "python": {
     "delete_cmd_postfix": "",
     "delete_cmd_prefix": "del ",
     "library": "var_list.py",
     "varRefreshCmd": "print(var_dic_list())"
    },
    "r": {
     "delete_cmd_postfix": ") ",
     "delete_cmd_prefix": "rm(",
     "library": "var_list.r",
     "varRefreshCmd": "cat(var_dic_list()) "
    }
   },
   "types_to_exclude": [
    "module",
    "function",
    "builtin_function_or_method",
    "instance",
    "_Feature"
   ],
   "window_display": false
  }
 },
 "nbformat": 4,
 "nbformat_minor": 1
}
