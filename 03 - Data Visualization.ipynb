{
 "cells": [
  {
   "cell_type": "markdown",
   "metadata": {
    "colab_type": "text",
    "id": "VNux1XGw7yQX"
   },
   "source": [
    "# Data Visualization\n",
    "Data visualization is very important in data analytics, especially during data exploration.\n",
    "Although there are many great data visualization tools which are more user-friendly, the ability to embed data visualization provides flexibility and allows us to keep data preparation, data exploration, and data visualization in one place.\n",
    "\n",
    "There are several python packages that create great visualization.  Regardless, matplotlib is a bread and butter tool that work well with pandas."
   ]
  },
  {
   "cell_type": "code",
   "execution_count": null,
   "metadata": {
    "colab": {},
    "colab_type": "code",
    "id": "SGqAomXc7yQb"
   },
   "outputs": [],
   "source": [
    "import pandas as pd\n",
    "import numpy as np\n",
    "import matplotlib.pyplot as plt\n",
    "\n",
    "%matplotlib inline"
   ]
  },
  {
   "cell_type": "markdown",
   "metadata": {
    "colab_type": "text",
    "id": "kV4OcsIe7yQf"
   },
   "source": [
    "Note that the '%matplotlib inline' directive tells jupyter to display a plot right below the code"
   ]
  },
  {
   "cell_type": "markdown",
   "metadata": {
    "colab_type": "text",
    "id": "waqjXn2o7yQg"
   },
   "source": [
    "## matplotlib"
   ]
  },
  {
   "cell_type": "code",
   "execution_count": null,
   "metadata": {
    "colab": {
     "base_uri": "https://localhost:8080/",
     "height": 204
    },
    "colab_type": "code",
    "executionInfo": {
     "elapsed": 1631,
     "status": "ok",
     "timestamp": 1574406421226,
     "user": {
      "displayName": "Mac Sriyanong",
      "photoUrl": "https://lh3.googleusercontent.com/a-/AAuE7mBDcSOx-hT0L-jUf7ZECeaUL0zXgJ7UsQk5jreA9w=s64",
      "userId": "08392812212861704534"
     },
     "user_tz": -420
    },
    "id": "PL6PGEdg7yQg",
    "outputId": "4b2072cf-4a48-4e1f-8f27-f33cdce70518",
    "scrolled": false
   },
   "outputs": [],
   "source": [
    "s1 = pd.Series(range(10))\n",
    "s1"
   ]
  },
  {
   "cell_type": "code",
   "execution_count": null,
   "metadata": {
    "colab": {
     "base_uri": "https://localhost:8080/",
     "height": 282
    },
    "colab_type": "code",
    "executionInfo": {
     "elapsed": 1628,
     "status": "ok",
     "timestamp": 1574406421228,
     "user": {
      "displayName": "Mac Sriyanong",
      "photoUrl": "https://lh3.googleusercontent.com/a-/AAuE7mBDcSOx-hT0L-jUf7ZECeaUL0zXgJ7UsQk5jreA9w=s64",
      "userId": "08392812212861704534"
     },
     "user_tz": -420
    },
    "id": "uWGEtez-7yQj",
    "outputId": "2ade0515-1248-40b4-8034-6635114fa3ce",
    "scrolled": true
   },
   "outputs": [],
   "source": [
    "plt.plot(s1)"
   ]
  },
  {
   "cell_type": "markdown",
   "metadata": {
    "colab_type": "text",
    "id": "aY3l9vJR7yQl"
   },
   "source": [
    "### Figure and Subplots\n",
    "Plots in matplotlib reside within a *Figure* object.  You can create a new figure with *plt.figure* command.\n",
    "With figure, we can add plots, configure the apperance, and manage the display through the figure."
   ]
  },
  {
   "cell_type": "code",
   "execution_count": null,
   "metadata": {
    "colab": {
     "base_uri": "https://localhost:8080/",
     "height": 269
    },
    "colab_type": "code",
    "executionInfo": {
     "elapsed": 2378,
     "status": "ok",
     "timestamp": 1574406421981,
     "user": {
      "displayName": "Mac Sriyanong",
      "photoUrl": "https://lh3.googleusercontent.com/a-/AAuE7mBDcSOx-hT0L-jUf7ZECeaUL0zXgJ7UsQk5jreA9w=s64",
      "userId": "08392812212861704534"
     },
     "user_tz": -420
    },
    "id": "0jPgi59k7yQm",
    "outputId": "e5276dd9-203a-4862-8827-c4ae12d18b00",
    "scrolled": true
   },
   "outputs": [],
   "source": [
    "fig = plt.figure()\n",
    "ax1 = fig.add_subplot(2, 2, 1)\n",
    "ax2 = fig.add_subplot(2, 2, 2)\n",
    "ax3 = fig.add_subplot(2, 2, 3)"
   ]
  },
  {
   "cell_type": "markdown",
   "metadata": {
    "colab_type": "text",
    "id": "1q1oIE-c7yQp"
   },
   "source": [
    "Note that for jupyter, plots are reset after each cell is evaluated.  Thus, to create complex plots, we will have to put all plot commands in a single cell."
   ]
  },
  {
   "cell_type": "code",
   "execution_count": null,
   "metadata": {
    "colab": {
     "base_uri": "https://localhost:8080/",
     "height": 282
    },
    "colab_type": "code",
    "executionInfo": {
     "elapsed": 2376,
     "status": "ok",
     "timestamp": 1574406421982,
     "user": {
      "displayName": "Mac Sriyanong",
      "photoUrl": "https://lh3.googleusercontent.com/a-/AAuE7mBDcSOx-hT0L-jUf7ZECeaUL0zXgJ7UsQk5jreA9w=s64",
      "userId": "08392812212861704534"
     },
     "user_tz": -420
    },
    "id": "6IzQO2Mw7yQp",
    "outputId": "0cb4e9a1-525b-4519-b412-bb9c6133f734"
   },
   "outputs": [],
   "source": [
    "fig = plt.figure()\n",
    "ax1 = fig.add_subplot(2, 2, 1)\n",
    "ax1.hist(np.random.randn(10000), bins=20, color='k', alpha=0.3)\n",
    "ax2 = fig.add_subplot(2, 2, 2)\n",
    "ax2.scatter(np.arange(30), np.arange(30)+3*np.random.randn(30))\n",
    "ax3 = fig.add_subplot(2, 2, 3)\n",
    "ax3.plot(np.random.randn(50).cumsum(), 'k--')"
   ]
  },
  {
   "cell_type": "markdown",
   "metadata": {
    "colab_type": "text",
    "id": "zo11CLFh7yQs"
   },
   "source": [
    "matplotlib provides helper function to create a grid of subplots."
   ]
  },
  {
   "cell_type": "code",
   "execution_count": null,
   "metadata": {
    "colab": {
     "base_uri": "https://localhost:8080/",
     "height": 286
    },
    "colab_type": "code",
    "executionInfo": {
     "elapsed": 2945,
     "status": "ok",
     "timestamp": 1574406422554,
     "user": {
      "displayName": "Mac Sriyanong",
      "photoUrl": "https://lh3.googleusercontent.com/a-/AAuE7mBDcSOx-hT0L-jUf7ZECeaUL0zXgJ7UsQk5jreA9w=s64",
      "userId": "08392812212861704534"
     },
     "user_tz": -420
    },
    "id": "RoolCeGj7yQt",
    "outputId": "41a3a754-9fae-403b-f1eb-c03e01756eb2"
   },
   "outputs": [],
   "source": [
    "fig, axes = plt.subplots(2, 3)\n",
    "axes[0, 0].hist(np.random.randn(100), bins=20, color='k', alpha=0.3)\n",
    "axes[1, 1].scatter(np.arange(30), np.arange(30)+3*np.random.randn(30))\n",
    "axes[1, 2].plot(np.random.randn(50).cumsum(), 'k--')"
   ]
  },
  {
   "cell_type": "markdown",
   "metadata": {
    "colab_type": "text",
    "id": "w4UVYwIB7yQv"
   },
   "source": [
    "### Colors, Markers, and Line Styles\n",
    "We can control the style of the plot by setting the parameters or style shortcut."
   ]
  },
  {
   "cell_type": "code",
   "execution_count": null,
   "metadata": {
    "colab": {
     "base_uri": "https://localhost:8080/",
     "height": 282
    },
    "colab_type": "code",
    "executionInfo": {
     "elapsed": 3579,
     "status": "ok",
     "timestamp": 1574406423191,
     "user": {
      "displayName": "Mac Sriyanong",
      "photoUrl": "https://lh3.googleusercontent.com/a-/AAuE7mBDcSOx-hT0L-jUf7ZECeaUL0zXgJ7UsQk5jreA9w=s64",
      "userId": "08392812212861704534"
     },
     "user_tz": -420
    },
    "id": "hSgMmwni7yQw",
    "outputId": "5cb6b581-4317-48dd-93c8-3460be442a0f"
   },
   "outputs": [],
   "source": [
    "plt.plot(s1, 'g--')"
   ]
  },
  {
   "cell_type": "code",
   "execution_count": null,
   "metadata": {
    "colab": {
     "base_uri": "https://localhost:8080/",
     "height": 282
    },
    "colab_type": "code",
    "executionInfo": {
     "elapsed": 3578,
     "status": "ok",
     "timestamp": 1574406423193,
     "user": {
      "displayName": "Mac Sriyanong",
      "photoUrl": "https://lh3.googleusercontent.com/a-/AAuE7mBDcSOx-hT0L-jUf7ZECeaUL0zXgJ7UsQk5jreA9w=s64",
      "userId": "08392812212861704534"
     },
     "user_tz": -420
    },
    "id": "psuGgPOC7yQy",
    "outputId": "6c42df29-8a54-4e71-a939-06b2a4c8baa2"
   },
   "outputs": [],
   "source": [
    "plt.plot(s1, linestyle='--', color='g')"
   ]
  },
  {
   "cell_type": "code",
   "execution_count": null,
   "metadata": {
    "colab": {
     "base_uri": "https://localhost:8080/",
     "height": 282
    },
    "colab_type": "code",
    "executionInfo": {
     "elapsed": 3576,
     "status": "ok",
     "timestamp": 1574406423194,
     "user": {
      "displayName": "Mac Sriyanong",
      "photoUrl": "https://lh3.googleusercontent.com/a-/AAuE7mBDcSOx-hT0L-jUf7ZECeaUL0zXgJ7UsQk5jreA9w=s64",
      "userId": "08392812212861704534"
     },
     "user_tz": -420
    },
    "id": "sGzVYImk7yQ0",
    "outputId": "ad0d930c-cc29-48f7-cfb1-4db9c65ba9dd",
    "scrolled": true
   },
   "outputs": [],
   "source": [
    "data = np.random.randn(30).cumsum()\n",
    "plt.plot(data, 'bo--')"
   ]
  },
  {
   "cell_type": "code",
   "execution_count": null,
   "metadata": {
    "colab": {
     "base_uri": "https://localhost:8080/",
     "height": 282
    },
    "colab_type": "code",
    "executionInfo": {
     "elapsed": 3574,
     "status": "ok",
     "timestamp": 1574406423195,
     "user": {
      "displayName": "Mac Sriyanong",
      "photoUrl": "https://lh3.googleusercontent.com/a-/AAuE7mBDcSOx-hT0L-jUf7ZECeaUL0zXgJ7UsQk5jreA9w=s64",
      "userId": "08392812212861704534"
     },
     "user_tz": -420
    },
    "id": "kPJxY4b37yQ2",
    "outputId": "1da4c945-1091-4ad9-8ee8-2daed7c47422",
    "scrolled": true
   },
   "outputs": [],
   "source": [
    "plt.plot(data, color='b', linestyle='dashed', marker='o')"
   ]
  },
  {
   "cell_type": "markdown",
   "metadata": {
    "colab_type": "text",
    "id": "orNJLGyM7yQ5"
   },
   "source": [
    "We can use drawstyle to alter the plot behavior."
   ]
  },
  {
   "cell_type": "code",
   "execution_count": null,
   "metadata": {
    "colab": {
     "base_uri": "https://localhost:8080/",
     "height": 282
    },
    "colab_type": "code",
    "executionInfo": {
     "elapsed": 4545,
     "status": "ok",
     "timestamp": 1574406424169,
     "user": {
      "displayName": "Mac Sriyanong",
      "photoUrl": "https://lh3.googleusercontent.com/a-/AAuE7mBDcSOx-hT0L-jUf7ZECeaUL0zXgJ7UsQk5jreA9w=s64",
      "userId": "08392812212861704534"
     },
     "user_tz": -420
    },
    "id": "XmHcWRe-7yQ5",
    "outputId": "0c1a7a33-000d-4882-ceee-7130d7ff73ee"
   },
   "outputs": [],
   "source": [
    "plt.plot(data, 'b--', label='default')\n",
    "plt.plot(data, 'k-', drawstyle='steps-post', label='steps-post')\n",
    "plt.legend(loc='best')"
   ]
  },
  {
   "cell_type": "markdown",
   "metadata": {
    "colab_type": "text",
    "id": "eEgbTi137yQ8"
   },
   "source": [
    "### Ticks, labels, and legends\n",
    "We can use pyplot and ax.subplot to manage plot decorations.  There are several decorations including ticks, labels, legends, etc."
   ]
  },
  {
   "cell_type": "code",
   "execution_count": null,
   "metadata": {
    "colab": {
     "base_uri": "https://localhost:8080/",
     "height": 321
    },
    "colab_type": "code",
    "executionInfo": {
     "elapsed": 4543,
     "status": "ok",
     "timestamp": 1574406424170,
     "user": {
      "displayName": "Mac Sriyanong",
      "photoUrl": "https://lh3.googleusercontent.com/a-/AAuE7mBDcSOx-hT0L-jUf7ZECeaUL0zXgJ7UsQk5jreA9w=s64",
      "userId": "08392812212861704534"
     },
     "user_tz": -420
    },
    "id": "hBZTQLBK7yQ8",
    "outputId": "99b818c0-a853-4988-ccc0-4339c7414c84"
   },
   "outputs": [],
   "source": [
    "fig = plt.figure()\n",
    "ax = fig.add_subplot(1, 1, 1)\n",
    "ax.plot(np.random.randn(1000).cumsum())\n",
    "ticks = ax.set_xticks([0, 250, 500, 750, 1000])\n",
    "labels = ax.set_xticklabels(['one', 'two', 'three', 'four', 'five'], rotation=30, fontsize='small')\n",
    "props = {\n",
    "    'title': 'My random plot',\n",
    "    'xlabel': 'Stages'\n",
    "}\n",
    "ax.set(**props)"
   ]
  },
  {
   "cell_type": "markdown",
   "metadata": {
    "colab_type": "text",
    "id": "VhTFzKsc7yQ_"
   },
   "source": [
    "We can add legend by assigning label to each plot and set the location of the legends."
   ]
  },
  {
   "cell_type": "code",
   "execution_count": null,
   "metadata": {
    "colab": {
     "base_uri": "https://localhost:8080/",
     "height": 282
    },
    "colab_type": "code",
    "executionInfo": {
     "elapsed": 4541,
     "status": "ok",
     "timestamp": 1574406424171,
     "user": {
      "displayName": "Mac Sriyanong",
      "photoUrl": "https://lh3.googleusercontent.com/a-/AAuE7mBDcSOx-hT0L-jUf7ZECeaUL0zXgJ7UsQk5jreA9w=s64",
      "userId": "08392812212861704534"
     },
     "user_tz": -420
    },
    "id": "dzZjY2-r7yQ_",
    "outputId": "2a8d2f8f-0f97-450b-d023-1b9e2e942637"
   },
   "outputs": [],
   "source": [
    "fig = plt.figure()\n",
    "ax = fig.add_subplot(1, 1, 1)\n",
    "\n",
    "ax.plot(np.random.randn(1000).cumsum(), 'k', label='one')\n",
    "ax.plot(np.random.randn(1000).cumsum(), 'k--', label='two')\n",
    "ax.plot(np.random.randn(1000).cumsum(), 'k.', label='three')\n",
    "\n",
    "ax.legend(loc='best')"
   ]
  },
  {
   "cell_type": "markdown",
   "metadata": {
    "colab_type": "text",
    "id": "86gZAScP7yRC"
   },
   "source": [
    "## Ploting with Pandas\n",
    "pandas provides several helper functions to integrate its data structure with matplotlib."
   ]
  },
  {
   "cell_type": "markdown",
   "metadata": {
    "colab_type": "text",
    "id": "N89DjweM7yRC"
   },
   "source": [
    "### Line Plots\n",
    "Series and DataFrame have a *plot* attribute for making some basic plot types."
   ]
  },
  {
   "cell_type": "code",
   "execution_count": null,
   "metadata": {
    "colab": {
     "base_uri": "https://localhost:8080/",
     "height": 282
    },
    "colab_type": "code",
    "executionInfo": {
     "elapsed": 957,
     "status": "ok",
     "timestamp": 1574407184569,
     "user": {
      "displayName": "Mac Sriyanong",
      "photoUrl": "https://lh3.googleusercontent.com/a-/AAuE7mBDcSOx-hT0L-jUf7ZECeaUL0zXgJ7UsQk5jreA9w=s64",
      "userId": "08392812212861704534"
     },
     "user_tz": -420
    },
    "id": "b0eVkcKb7yRD",
    "outputId": "7da183b5-8ac6-4449-ab3f-c90340789864"
   },
   "outputs": [],
   "source": [
    "s = pd.Series(np.random.randn(10).cumsum(), index=np.arange(0, 100, 10))\n",
    "s.plot()"
   ]
  },
  {
   "cell_type": "code",
   "execution_count": null,
   "metadata": {
    "colab": {
     "base_uri": "https://localhost:8080/",
     "height": 51
    },
    "colab_type": "code",
    "executionInfo": {
     "elapsed": 872,
     "status": "ok",
     "timestamp": 1574407213617,
     "user": {
      "displayName": "Mac Sriyanong",
      "photoUrl": "https://lh3.googleusercontent.com/a-/AAuE7mBDcSOx-hT0L-jUf7ZECeaUL0zXgJ7UsQk5jreA9w=s64",
      "userId": "08392812212861704534"
     },
     "user_tz": -420
    },
    "id": "oDcpRnIM-xw7",
    "outputId": "704631be-a527-48cc-dc53-a861b16d4a8f"
   },
   "outputs": [],
   "source": [
    "np.random.randn(10).cumsum()"
   ]
  },
  {
   "cell_type": "code",
   "execution_count": null,
   "metadata": {
    "colab": {},
    "colab_type": "code",
    "id": "z6XdkJr97yRF"
   },
   "outputs": [],
   "source": [
    "df = pd.DataFrame(np.random.randn(10, 4).cumsum(0), columns=['A', 'B', 'C', 'D'], index=np.arange(0, 100, 10))\n",
    "df = df.apply(abs)"
   ]
  },
  {
   "cell_type": "code",
   "execution_count": null,
   "metadata": {
    "colab": {
     "base_uri": "https://localhost:8080/",
     "height": 282
    },
    "colab_type": "code",
    "executionInfo": {
     "elapsed": 5344,
     "status": "ok",
     "timestamp": 1574406424982,
     "user": {
      "displayName": "Mac Sriyanong",
      "photoUrl": "https://lh3.googleusercontent.com/a-/AAuE7mBDcSOx-hT0L-jUf7ZECeaUL0zXgJ7UsQk5jreA9w=s64",
      "userId": "08392812212861704534"
     },
     "user_tz": -420
    },
    "id": "9428lEr37yRI",
    "outputId": "d1c3f138-2f53-430f-f8f2-557e32944308"
   },
   "outputs": [],
   "source": [
    "df.plot()"
   ]
  },
  {
   "cell_type": "code",
   "execution_count": null,
   "metadata": {
    "colab": {
     "base_uri": "https://localhost:8080/",
     "height": 282
    },
    "colab_type": "code",
    "executionInfo": {
     "elapsed": 5343,
     "status": "ok",
     "timestamp": 1574406424984,
     "user": {
      "displayName": "Mac Sriyanong",
      "photoUrl": "https://lh3.googleusercontent.com/a-/AAuE7mBDcSOx-hT0L-jUf7ZECeaUL0zXgJ7UsQk5jreA9w=s64",
      "userId": "08392812212861704534"
     },
     "user_tz": -420
    },
    "id": "R6f2pGlU7yRO",
    "outputId": "7ff83c5e-c63e-44de-ce58-04f4e2074481"
   },
   "outputs": [],
   "source": [
    "fig, axes = plt.subplots(2, 1)\n",
    "df.A.plot.bar(ax=axes[0], color='r', alpha=0.7)\n",
    "df.B.plot.barh(ax=axes[1], color='b', alpha=0.7)"
   ]
  },
  {
   "cell_type": "code",
   "execution_count": null,
   "metadata": {
    "colab": {
     "base_uri": "https://localhost:8080/",
     "height": 285
    },
    "colab_type": "code",
    "executionInfo": {
     "elapsed": 5341,
     "status": "ok",
     "timestamp": 1574406424985,
     "user": {
      "displayName": "Mac Sriyanong",
      "photoUrl": "https://lh3.googleusercontent.com/a-/AAuE7mBDcSOx-hT0L-jUf7ZECeaUL0zXgJ7UsQk5jreA9w=s64",
      "userId": "08392812212861704534"
     },
     "user_tz": -420
    },
    "id": "EaspGL_Y7yRS",
    "outputId": "330a7ec0-dc04-483d-bcbc-c026a8e5097c"
   },
   "outputs": [],
   "source": [
    "df.plot.bar()"
   ]
  },
  {
   "cell_type": "code",
   "execution_count": null,
   "metadata": {
    "colab": {
     "base_uri": "https://localhost:8080/",
     "height": 282
    },
    "colab_type": "code",
    "executionInfo": {
     "elapsed": 5904,
     "status": "ok",
     "timestamp": 1574406425551,
     "user": {
      "displayName": "Mac Sriyanong",
      "photoUrl": "https://lh3.googleusercontent.com/a-/AAuE7mBDcSOx-hT0L-jUf7ZECeaUL0zXgJ7UsQk5jreA9w=s64",
      "userId": "08392812212861704534"
     },
     "user_tz": -420
    },
    "id": "ZbwHPhHr7yRW",
    "outputId": "e2cbb53b-005d-4ab8-a9dc-fdb638237339"
   },
   "outputs": [],
   "source": [
    "df.plot.barh(stacked=True, alpha=0.5)"
   ]
  },
  {
   "cell_type": "code",
   "execution_count": null,
   "metadata": {
    "colab": {
     "base_uri": "https://localhost:8080/",
     "height": 315
    },
    "colab_type": "code",
    "executionInfo": {
     "elapsed": 5902,
     "status": "ok",
     "timestamp": 1574406425552,
     "user": {
      "displayName": "Mac Sriyanong",
      "photoUrl": "https://lh3.googleusercontent.com/a-/AAuE7mBDcSOx-hT0L-jUf7ZECeaUL0zXgJ7UsQk5jreA9w=s64",
      "userId": "08392812212861704534"
     },
     "user_tz": -420
    },
    "id": "JtI8U0ip7yRY",
    "outputId": "28d0e992-3aef-49c5-bd16-7a5817a8ef94"
   },
   "outputs": [],
   "source": [
    "df2 = pd.DataFrame(np.random.randn(1000))\n",
    "df2.hist(bins=50)"
   ]
  }
 ],
 "metadata": {
  "colab": {
   "name": "Copy of 4 - Data Visualization.ipynb",
   "provenance": [
    {
     "file_id": "1AUYfPLaQxgoKX6291fuUG81i1WuzK8CY",
     "timestamp": 1574406404558
    }
   ]
  },
  "kernelspec": {
   "display_name": "Python 3",
   "language": "python",
   "name": "python3"
  },
  "language_info": {
   "codemirror_mode": {
    "name": "ipython",
    "version": 3
   },
   "file_extension": ".py",
   "mimetype": "text/x-python",
   "name": "python",
   "nbconvert_exporter": "python",
   "pygments_lexer": "ipython3",
   "version": "3.7.3"
  },
  "varInspector": {
   "cols": {
    "lenName": 16,
    "lenType": 16,
    "lenVar": 40
   },
   "kernels_config": {
    "python": {
     "delete_cmd_postfix": "",
     "delete_cmd_prefix": "del ",
     "library": "var_list.py",
     "varRefreshCmd": "print(var_dic_list())"
    },
    "r": {
     "delete_cmd_postfix": ") ",
     "delete_cmd_prefix": "rm(",
     "library": "var_list.r",
     "varRefreshCmd": "cat(var_dic_list()) "
    }
   },
   "types_to_exclude": [
    "module",
    "function",
    "builtin_function_or_method",
    "instance",
    "_Feature"
   ],
   "window_display": false
  }
 },
 "nbformat": 4,
 "nbformat_minor": 1
}
