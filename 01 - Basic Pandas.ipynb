{
 "cells": [
  {
   "cell_type": "markdown",
   "metadata": {
    "colab_type": "text",
    "id": "P9-VfadzKKcB"
   },
   "source": [
    "# Intruduction to Pandas\n",
    "Pandas is one of the most popular tools in Python for data analytics.  It contains data structures and data manipulation tools designed to make data cleaning and analysis fast and easy.\n",
    "\n",
    "We start with importing pandas and give it a short name, \"pd\".  We also import numpy to help with pandas"
   ]
  },
  {
   "cell_type": "code",
   "execution_count": 1,
   "metadata": {
    "colab": {},
    "colab_type": "code",
    "id": "HJ88g3i5KKcE"
   },
   "outputs": [],
   "source": [
    "import pandas as pd\n",
    "import numpy as np"
   ]
  },
  {
   "cell_type": "markdown",
   "metadata": {
    "colab_type": "text",
    "id": "Pv1HEsm3KKcI"
   },
   "source": [
    "## Data Structure - Series\n",
    "A Series is a one-dimensional array-like list containing a sequence of values with the same type.  It is an associated array with data labels called **index**."
   ]
  },
  {
   "cell_type": "markdown",
   "metadata": {
    "colab_type": "text",
    "id": "fS_CDQxqKKcI"
   },
   "source": [
    "### Create a Series\n",
    "There are many approaches to creating a Series.  We first create a Series with 4 elements from a list:\n",
    "\n",
    "Index | Data (int)\n",
    ":---: | :---:\n",
    "0 | 4\n",
    "1 | 7\n",
    "2 | -5\n",
    "3 | 3\n",
    "\n",
    "Note that **integer index starts from 0**"
   ]
  },
  {
   "cell_type": "code",
   "execution_count": 2,
   "metadata": {
    "colab": {
     "base_uri": "https://localhost:8080/",
     "height": 102
    },
    "colab_type": "code",
    "executionInfo": {
     "elapsed": 6149,
     "status": "ok",
     "timestamp": 1574402716554,
     "user": {
      "displayName": "Mac Sriyanong",
      "photoUrl": "https://lh3.googleusercontent.com/a-/AAuE7mBDcSOx-hT0L-jUf7ZECeaUL0zXgJ7UsQk5jreA9w=s64",
      "userId": "08392812212861704534"
     },
     "user_tz": -420
    },
    "id": "_KJu-pWWKKcJ",
    "outputId": "730a0d7f-84a5-4b13-d5a0-28d6381723bf"
   },
   "outputs": [
    {
     "data": {
      "text/plain": [
       "0    4\n",
       "1    7\n",
       "2   -5\n",
       "3    3\n",
       "dtype: int64"
      ]
     },
     "execution_count": 2,
     "metadata": {},
     "output_type": "execute_result"
    }
   ],
   "source": [
    "# create Series from a list\n",
    "s1 = pd.Series([4, 7, -5, 3])\n",
    "s1"
   ]
  },
  {
   "cell_type": "markdown",
   "metadata": {
    "colab_type": "text",
    "id": "tdO2KBSFKKcL"
   },
   "source": [
    "#### Note that:\n",
    "```\n",
    "dtype: int64\n",
    "```\n",
    "- dtype is the data type of the data values, which is 64-bit integer in this case"
   ]
  },
  {
   "cell_type": "code",
   "execution_count": 3,
   "metadata": {
    "colab": {
     "base_uri": "https://localhost:8080/",
     "height": 34
    },
    "colab_type": "code",
    "executionInfo": {
     "elapsed": 6129,
     "status": "ok",
     "timestamp": 1574402716555,
     "user": {
      "displayName": "Mac Sriyanong",
      "photoUrl": "https://lh3.googleusercontent.com/a-/AAuE7mBDcSOx-hT0L-jUf7ZECeaUL0zXgJ7UsQk5jreA9w=s64",
      "userId": "08392812212861704534"
     },
     "user_tz": -420
    },
    "id": "vaRjFuFyKKcM",
    "outputId": "66430b4b-d7af-45de-9c34-8311531d1c8e"
   },
   "outputs": [
    {
     "data": {
      "text/plain": [
       "array([ 4,  7, -5,  3], dtype=int64)"
      ]
     },
     "execution_count": 3,
     "metadata": {},
     "output_type": "execute_result"
    }
   ],
   "source": [
    "s1.values"
   ]
  },
  {
   "cell_type": "code",
   "execution_count": 4,
   "metadata": {
    "colab_type": "text",
    "id": "vVWpROlUKKcO"
   },
   "outputs": [
    {
     "data": {
      "text/plain": [
       "RangeIndex(start=0, stop=4, step=1)"
      ]
     },
     "execution_count": 4,
     "metadata": {},
     "output_type": "execute_result"
    }
   ],
   "source": [
    "s1.index"
   ]
  },
  {
   "cell_type": "markdown",
   "metadata": {
    "colab_type": "text",
    "id": "zq8X1vVlKKcR"
   },
   "source": [
    "We can create a Series with labels as index.  A label can be an arbitary string.  Although, we assign labels to the Series, integer index still exists.\n",
    "\n",
    "Index | Label | Data (int)\n",
    ":---: | :---: | :---:\n",
    "0 | d | 4\n",
    "1 | b | 7\n",
    "2 | a | -5\n",
    "3 | c | 3\n",
    "\n",
    "Note that when we display a Series, it will show labels (if exist) or integer index (otherwise)."
   ]
  },
  {
   "cell_type": "code",
   "execution_count": 5,
   "metadata": {
    "colab": {
     "base_uri": "https://localhost:8080/",
     "height": 102
    },
    "colab_type": "code",
    "executionInfo": {
     "elapsed": 6113,
     "status": "ok",
     "timestamp": 1574402716556,
     "user": {
      "displayName": "Mac Sriyanong",
      "photoUrl": "https://lh3.googleusercontent.com/a-/AAuE7mBDcSOx-hT0L-jUf7ZECeaUL0zXgJ7UsQk5jreA9w=s64",
      "userId": "08392812212861704534"
     },
     "user_tz": -420
    },
    "id": "NMCuREQVKKcR",
    "outputId": "cf5862af-1ff9-4b59-922d-467d0e538417"
   },
   "outputs": [
    {
     "data": {
      "text/plain": [
       "d    4\n",
       "b    7\n",
       "a   -5\n",
       "c    3\n",
       "dtype: int64"
      ]
     },
     "execution_count": 5,
     "metadata": {},
     "output_type": "execute_result"
    }
   ],
   "source": [
    "# create series with index, which can be numbers or strings\n",
    "s2 = pd.Series([4, 7, -5, 3], index=['d','b','a','c'])\n",
    "s2"
   ]
  },
  {
   "cell_type": "code",
   "execution_count": 6,
   "metadata": {
    "colab": {
     "base_uri": "https://localhost:8080/",
     "height": 34
    },
    "colab_type": "code",
    "executionInfo": {
     "elapsed": 6096,
     "status": "ok",
     "timestamp": 1574402716556,
     "user": {
      "displayName": "Mac Sriyanong",
      "photoUrl": "https://lh3.googleusercontent.com/a-/AAuE7mBDcSOx-hT0L-jUf7ZECeaUL0zXgJ7UsQk5jreA9w=s64",
      "userId": "08392812212861704534"
     },
     "user_tz": -420
    },
    "id": "6JcLCsPWKKcW",
    "outputId": "cfdbc283-700f-495a-b3bf-e58c24d4e492"
   },
   "outputs": [
    {
     "data": {
      "text/plain": [
       "Index(['d', 'b', 'a', 'c'], dtype='object')"
      ]
     },
     "execution_count": 6,
     "metadata": {},
     "output_type": "execute_result"
    }
   ],
   "source": [
    "s2.index"
   ]
  },
  {
   "cell_type": "markdown",
   "metadata": {
    "colab_type": "text",
    "id": "op_hZxYRKKcZ"
   },
   "source": [
    "Notice the differences of the integer index in s1 (range of numbers) and label in s2 (arbitary strings)"
   ]
  },
  {
   "cell_type": "markdown",
   "metadata": {
    "colab_type": "text",
    "id": "XX8N4H5lKKcv"
   },
   "source": [
    "### Index and data alignment"
   ]
  },
  {
   "cell_type": "code",
   "execution_count": 7,
   "metadata": {
    "colab": {
     "base_uri": "https://localhost:8080/",
     "height": 0
    },
    "colab_type": "code",
    "executionInfo": {
     "elapsed": 5885,
     "status": "ok",
     "timestamp": 1574402716562,
     "user": {
      "displayName": "Mac Sriyanong",
      "photoUrl": "https://lh3.googleusercontent.com/a-/AAuE7mBDcSOx-hT0L-jUf7ZECeaUL0zXgJ7UsQk5jreA9w=s64",
      "userId": "08392812212861704534"
     },
     "user_tz": -420
    },
    "id": "mwYguDXMKKcw",
    "outputId": "b7c25bf4-ad3c-463d-d9c0-d37567b20b86",
    "scrolled": true
   },
   "outputs": [
    {
     "data": {
      "text/plain": [
       "Chiang Mai    1687971\n",
       "Lamphun        403896\n",
       "Phrae          421653\n",
       "Lampang        730980\n",
       "dtype: int64"
      ]
     },
     "execution_count": 7,
     "metadata": {},
     "output_type": "execute_result"
    }
   ],
   "source": [
    "# create series from dict\n",
    "sdata = { 'Chiang Mai': 1687971, 'Lamphun': 403896, 'Phrae':  421653 , 'Lampang': 730980 }\n",
    "s3 = pd.Series(sdata)\n",
    "s3"
   ]
  },
  {
   "cell_type": "markdown",
   "metadata": {
    "colab_type": "text",
    "id": "Jlq1f-mKKKcy"
   },
   "source": [
    "Note that index can be any arbitary strings (even Thais)"
   ]
  },
  {
   "cell_type": "code",
   "execution_count": 8,
   "metadata": {
    "colab": {
     "base_uri": "https://localhost:8080/",
     "height": 0
    },
    "colab_type": "code",
    "executionInfo": {
     "elapsed": 5873,
     "status": "ok",
     "timestamp": 1574402716563,
     "user": {
      "displayName": "Mac Sriyanong",
      "photoUrl": "https://lh3.googleusercontent.com/a-/AAuE7mBDcSOx-hT0L-jUf7ZECeaUL0zXgJ7UsQk5jreA9w=s64",
      "userId": "08392812212861704534"
     },
     "user_tz": -420
    },
    "id": "nD8QeUniKKcz",
    "outputId": "3a5a4f17-fbd1-4896-a9bc-38fb8bbbba58"
   },
   "outputs": [
    {
     "data": {
      "text/plain": [
       "Lamphun        403896.0\n",
       "Chiang Mai    1687971.0\n",
       "Lampang        730980.0\n",
       "Chiang Rai          NaN\n",
       "Phrae          421653.0\n",
       "dtype: float64"
      ]
     },
     "execution_count": 8,
     "metadata": {},
     "output_type": "execute_result"
    }
   ],
   "source": [
    "# control the order of index keys\n",
    "provinces = ['Lamphun', 'Chiang Mai', 'Lampang', 'Chiang Rai', 'Phrae']\n",
    "s4 = pd.Series(sdata, index=provinces)\n",
    "s4"
   ]
  },
  {
   "cell_type": "markdown",
   "metadata": {
    "colab_type": "text",
    "id": "5yeOkJ9_KKc1"
   },
   "source": [
    "Notice the order of the index.\n",
    "\n",
    "In addition:\n",
    "```\n",
    "Chiang Rai          NaN\n",
    "```\n",
    "***NaN*** (Not a number) represents missing data.  We can work with missing data with *isnull* and *notnull*"
   ]
  },
  {
   "cell_type": "code",
   "execution_count": 9,
   "metadata": {
    "colab": {
     "base_uri": "https://localhost:8080/",
     "height": 0
    },
    "colab_type": "code",
    "executionInfo": {
     "elapsed": 5858,
     "status": "ok",
     "timestamp": 1574402716563,
     "user": {
      "displayName": "Mac Sriyanong",
      "photoUrl": "https://lh3.googleusercontent.com/a-/AAuE7mBDcSOx-hT0L-jUf7ZECeaUL0zXgJ7UsQk5jreA9w=s64",
      "userId": "08392812212861704534"
     },
     "user_tz": -420
    },
    "id": "AXQAt4fFKKc1",
    "outputId": "029513ad-99ac-4bd4-be04-e589240d57cb"
   },
   "outputs": [
    {
     "data": {
      "text/plain": [
       "Lamphun       False\n",
       "Chiang Mai    False\n",
       "Lampang       False\n",
       "Chiang Rai     True\n",
       "Phrae         False\n",
       "dtype: bool"
      ]
     },
     "execution_count": 9,
     "metadata": {},
     "output_type": "execute_result"
    }
   ],
   "source": [
    "s4.isnull()"
   ]
  },
  {
   "cell_type": "code",
   "execution_count": 10,
   "metadata": {
    "colab": {
     "base_uri": "https://localhost:8080/",
     "height": 0
    },
    "colab_type": "code",
    "executionInfo": {
     "elapsed": 5843,
     "status": "ok",
     "timestamp": 1574402716564,
     "user": {
      "displayName": "Mac Sriyanong",
      "photoUrl": "https://lh3.googleusercontent.com/a-/AAuE7mBDcSOx-hT0L-jUf7ZECeaUL0zXgJ7UsQk5jreA9w=s64",
      "userId": "08392812212861704534"
     },
     "user_tz": -420
    },
    "id": "pyaZ__rWKKc4",
    "outputId": "9d95f61a-0961-4258-985e-dff2e9b13c75"
   },
   "outputs": [
    {
     "data": {
      "text/plain": [
       "Lamphun        True\n",
       "Chiang Mai     True\n",
       "Lampang        True\n",
       "Chiang Rai    False\n",
       "Phrae          True\n",
       "dtype: bool"
      ]
     },
     "execution_count": 10,
     "metadata": {},
     "output_type": "execute_result"
    }
   ],
   "source": [
    "s4.notnull()"
   ]
  },
  {
   "cell_type": "code",
   "execution_count": 11,
   "metadata": {
    "colab": {
     "base_uri": "https://localhost:8080/",
     "height": 0
    },
    "colab_type": "code",
    "executionInfo": {
     "elapsed": 5824,
     "status": "ok",
     "timestamp": 1574402716564,
     "user": {
      "displayName": "Mac Sriyanong",
      "photoUrl": "https://lh3.googleusercontent.com/a-/AAuE7mBDcSOx-hT0L-jUf7ZECeaUL0zXgJ7UsQk5jreA9w=s64",
      "userId": "08392812212861704534"
     },
     "user_tz": -420
    },
    "id": "cYHtHKjsSmFs",
    "outputId": "b3ba2712-be9f-4b07-d4e0-41a36cef961f"
   },
   "outputs": [
    {
     "data": {
      "text/plain": [
       "4"
      ]
     },
     "execution_count": 11,
     "metadata": {},
     "output_type": "execute_result"
    }
   ],
   "source": [
    "sum(s4.notnull())"
   ]
  },
  {
   "cell_type": "code",
   "execution_count": 12,
   "metadata": {
    "colab": {
     "base_uri": "https://localhost:8080/",
     "height": 0
    },
    "colab_type": "code",
    "executionInfo": {
     "elapsed": 5780,
     "status": "ok",
     "timestamp": 1574402716565,
     "user": {
      "displayName": "Mac Sriyanong",
      "photoUrl": "https://lh3.googleusercontent.com/a-/AAuE7mBDcSOx-hT0L-jUf7ZECeaUL0zXgJ7UsQk5jreA9w=s64",
      "userId": "08392812212861704534"
     },
     "user_tz": -420
    },
    "id": "rPHaidWATRcX",
    "outputId": "8b465d38-4148-4126-ca51-844d87832893"
   },
   "outputs": [
    {
     "data": {
      "text/plain": [
       "Chiang Rai   NaN\n",
       "dtype: float64"
      ]
     },
     "execution_count": 12,
     "metadata": {},
     "output_type": "execute_result"
    }
   ],
   "source": [
    "s4[s4.isnull()]"
   ]
  },
  {
   "cell_type": "code",
   "execution_count": 13,
   "metadata": {
    "colab": {
     "base_uri": "https://localhost:8080/",
     "height": 0
    },
    "colab_type": "code",
    "executionInfo": {
     "elapsed": 5770,
     "status": "ok",
     "timestamp": 1574402716565,
     "user": {
      "displayName": "Mac Sriyanong",
      "photoUrl": "https://lh3.googleusercontent.com/a-/AAuE7mBDcSOx-hT0L-jUf7ZECeaUL0zXgJ7UsQk5jreA9w=s64",
      "userId": "08392812212861704534"
     },
     "user_tz": -420
    },
    "id": "c7Jbb9hqKKc7",
    "outputId": "2425104c-9b3b-4ebe-c206-00139ebeb789"
   },
   "outputs": [
    {
     "data": {
      "text/plain": [
       "Lamphun       False\n",
       "Chiang Mai    False\n",
       "Lampang       False\n",
       "Chiang Rai     True\n",
       "Phrae         False\n",
       "dtype: bool"
      ]
     },
     "execution_count": 13,
     "metadata": {},
     "output_type": "execute_result"
    }
   ],
   "source": [
    "# you can also use an instance method of Series\n",
    "s4.isnull()"
   ]
  },
  {
   "cell_type": "markdown",
   "metadata": {
    "colab_type": "text",
    "id": "6a_6sCSFKKc9"
   },
   "source": [
    "When we perform a series operation, it will align data by index label.  Thus, eventhough two series may have different index ordering, we can perform operations between these series with ease."
   ]
  },
  {
   "cell_type": "code",
   "execution_count": 14,
   "metadata": {
    "colab": {
     "base_uri": "https://localhost:8080/",
     "height": 0
    },
    "colab_type": "code",
    "executionInfo": {
     "elapsed": 5759,
     "status": "ok",
     "timestamp": 1574402716566,
     "user": {
      "displayName": "Mac Sriyanong",
      "photoUrl": "https://lh3.googleusercontent.com/a-/AAuE7mBDcSOx-hT0L-jUf7ZECeaUL0zXgJ7UsQk5jreA9w=s64",
      "userId": "08392812212861704534"
     },
     "user_tz": -420
    },
    "id": "QwD5UAwmKKc9",
    "outputId": "eabd48e1-dfb3-4668-968f-816980f1ecf1",
    "scrolled": true
   },
   "outputs": [
    {
     "data": {
      "text/plain": [
       "Chiang Mai    1687971\n",
       "Lamphun        403896\n",
       "Phrae          421653\n",
       "Lampang        730980\n",
       "dtype: int64"
      ]
     },
     "execution_count": 14,
     "metadata": {},
     "output_type": "execute_result"
    }
   ],
   "source": [
    "s3"
   ]
  },
  {
   "cell_type": "code",
   "execution_count": 15,
   "metadata": {
    "colab": {
     "base_uri": "https://localhost:8080/",
     "height": 0
    },
    "colab_type": "code",
    "executionInfo": {
     "elapsed": 5738,
     "status": "ok",
     "timestamp": 1574402716566,
     "user": {
      "displayName": "Mac Sriyanong",
      "photoUrl": "https://lh3.googleusercontent.com/a-/AAuE7mBDcSOx-hT0L-jUf7ZECeaUL0zXgJ7UsQk5jreA9w=s64",
      "userId": "08392812212861704534"
     },
     "user_tz": -420
    },
    "id": "Nk_WjjZdKKc_",
    "outputId": "01ac342f-86be-418d-ff98-d7ae6a4ef18d"
   },
   "outputs": [
    {
     "data": {
      "text/plain": [
       "Lamphun        403896.0\n",
       "Chiang Mai    1687971.0\n",
       "Lampang        730980.0\n",
       "Chiang Rai          NaN\n",
       "Phrae          421653.0\n",
       "dtype: float64"
      ]
     },
     "execution_count": 15,
     "metadata": {},
     "output_type": "execute_result"
    }
   ],
   "source": [
    "s4"
   ]
  },
  {
   "cell_type": "code",
   "execution_count": 16,
   "metadata": {
    "colab": {
     "base_uri": "https://localhost:8080/",
     "height": 0
    },
    "colab_type": "code",
    "executionInfo": {
     "elapsed": 5727,
     "status": "ok",
     "timestamp": 1574402716569,
     "user": {
      "displayName": "Mac Sriyanong",
      "photoUrl": "https://lh3.googleusercontent.com/a-/AAuE7mBDcSOx-hT0L-jUf7ZECeaUL0zXgJ7UsQk5jreA9w=s64",
      "userId": "08392812212861704534"
     },
     "user_tz": -420
    },
    "id": "9VFbBpeXKKdA",
    "outputId": "9c3726b6-4a8c-40fe-dace-0f55bf76cf83"
   },
   "outputs": [
    {
     "data": {
      "text/plain": [
       "Chiang Mai    3375942.0\n",
       "Chiang Rai          NaN\n",
       "Lampang       1461960.0\n",
       "Lamphun        807792.0\n",
       "Phrae          843306.0\n",
       "dtype: float64"
      ]
     },
     "execution_count": 16,
     "metadata": {},
     "output_type": "execute_result"
    }
   ],
   "source": [
    "s3 + s4"
   ]
  },
  {
   "cell_type": "markdown",
   "metadata": {
    "colab_type": "text",
    "id": "FpfR0TEeKKdC"
   },
   "source": [
    "Notice the difference orders of index in s3 and s4 and check out the addition result."
   ]
  },
  {
   "cell_type": "markdown",
   "metadata": {
    "colab_type": "text",
    "id": "OsRDsxLDKKdH"
   },
   "source": [
    "## Data Structure - DataFrame\n",
    "A Series represents a rectangular table of data and contains an ordered collection of columns, each of which can be a different value type (numeric, string, boolean, etc.).  DataFrame has both row and column indices.  Although DataFrame is mainly used for two-dimensional data, we can use hierarchical indexing to represent more complicated data."
   ]
  },
  {
   "cell_type": "markdown",
   "metadata": {
    "colab_type": "text",
    "id": "MvKIWvv2KKdI"
   },
   "source": [
    "### Create a DataFrame\n",
    "There are several approaches to create a DataFrame.  A simple one is to create from dict.\n",
    "We create the following DataFrame:\n",
    "\n",
    "Index | province | year | population\n",
    ":---: | :---: | :---: | :---:\n",
    "0 | Chiang Mai | 2016 | 1630428\n",
    "1 | Chiang Mai | 2017 | 1664012\n",
    "2 | Chiang Mai | 2018 | 1687971\n",
    "3 | Phrae | 2016 | 398936\n",
    "4 | Phrae | 2017 | 410382\n",
    "5 | Phrae | 2018 | 421653"
   ]
  },
  {
   "cell_type": "code",
   "execution_count": 17,
   "metadata": {
    "colab": {
     "base_uri": "https://localhost:8080/",
     "height": 0
    },
    "colab_type": "code",
    "executionInfo": {
     "elapsed": 5666,
     "status": "ok",
     "timestamp": 1574402716572,
     "user": {
      "displayName": "Mac Sriyanong",
      "photoUrl": "https://lh3.googleusercontent.com/a-/AAuE7mBDcSOx-hT0L-jUf7ZECeaUL0zXgJ7UsQk5jreA9w=s64",
      "userId": "08392812212861704534"
     },
     "user_tz": -420
    },
    "id": "oK6_HACqKKdL",
    "outputId": "29a50db8-05a9-4a02-9259-79a7000b4f7e"
   },
   "outputs": [
    {
     "data": {
      "text/html": [
       "<div>\n",
       "<style scoped>\n",
       "    .dataframe tbody tr th:only-of-type {\n",
       "        vertical-align: middle;\n",
       "    }\n",
       "\n",
       "    .dataframe tbody tr th {\n",
       "        vertical-align: top;\n",
       "    }\n",
       "\n",
       "    .dataframe thead th {\n",
       "        text-align: right;\n",
       "    }\n",
       "</style>\n",
       "<table border=\"1\" class=\"dataframe\">\n",
       "  <thead>\n",
       "    <tr style=\"text-align: right;\">\n",
       "      <th></th>\n",
       "      <th>province</th>\n",
       "      <th>year</th>\n",
       "      <th>population</th>\n",
       "    </tr>\n",
       "  </thead>\n",
       "  <tbody>\n",
       "    <tr>\n",
       "      <th>0</th>\n",
       "      <td>Chiang Mai</td>\n",
       "      <td>2016</td>\n",
       "      <td>1630428</td>\n",
       "    </tr>\n",
       "    <tr>\n",
       "      <th>1</th>\n",
       "      <td>Chiang Mai</td>\n",
       "      <td>2017</td>\n",
       "      <td>1664012</td>\n",
       "    </tr>\n",
       "    <tr>\n",
       "      <th>2</th>\n",
       "      <td>Chiang Mai</td>\n",
       "      <td>2018</td>\n",
       "      <td>1687971</td>\n",
       "    </tr>\n",
       "    <tr>\n",
       "      <th>3</th>\n",
       "      <td>Phrae</td>\n",
       "      <td>2016</td>\n",
       "      <td>398936</td>\n",
       "    </tr>\n",
       "    <tr>\n",
       "      <th>4</th>\n",
       "      <td>Phrae</td>\n",
       "      <td>2017</td>\n",
       "      <td>410382</td>\n",
       "    </tr>\n",
       "    <tr>\n",
       "      <th>5</th>\n",
       "      <td>Phrae</td>\n",
       "      <td>2018</td>\n",
       "      <td>421653</td>\n",
       "    </tr>\n",
       "  </tbody>\n",
       "</table>\n",
       "</div>"
      ],
      "text/plain": [
       "     province  year  population\n",
       "0  Chiang Mai  2016     1630428\n",
       "1  Chiang Mai  2017     1664012\n",
       "2  Chiang Mai  2018     1687971\n",
       "3       Phrae  2016      398936\n",
       "4       Phrae  2017      410382\n",
       "5       Phrae  2018      421653"
      ]
     },
     "execution_count": 17,
     "metadata": {},
     "output_type": "execute_result"
    }
   ],
   "source": [
    "# create from a dict\n",
    "data = {\n",
    "    'province': ['Chiang Mai', 'Chiang Mai', 'Chiang Mai', 'Phrae', 'Phrae', 'Phrae'],\n",
    "    'year': [2016, 2017, 2018, 2016, 2017, 2018],\n",
    "    'population': [1630428, 1664012, 1687971, 398936, 410382, 421653]\n",
    "}\n",
    "df = pd.DataFrame(data)\n",
    "df"
   ]
  },
  {
   "cell_type": "code",
   "execution_count": 18,
   "metadata": {
    "colab": {
     "base_uri": "https://localhost:8080/",
     "height": 0
    },
    "colab_type": "code",
    "executionInfo": {
     "elapsed": 5654,
     "status": "ok",
     "timestamp": 1574402716573,
     "user": {
      "displayName": "Mac Sriyanong",
      "photoUrl": "https://lh3.googleusercontent.com/a-/AAuE7mBDcSOx-hT0L-jUf7ZECeaUL0zXgJ7UsQk5jreA9w=s64",
      "userId": "08392812212861704534"
     },
     "user_tz": -420
    },
    "id": "XjEz7gLEUnnO",
    "outputId": "f84aeaa0-7c7f-41fa-d254-eeb894f2e24e"
   },
   "outputs": [
    {
     "data": {
      "text/plain": [
       "(6, 3)"
      ]
     },
     "execution_count": 18,
     "metadata": {},
     "output_type": "execute_result"
    }
   ],
   "source": [
    "df.shape"
   ]
  },
  {
   "cell_type": "code",
   "execution_count": 19,
   "metadata": {
    "colab": {
     "base_uri": "https://localhost:8080/",
     "height": 0
    },
    "colab_type": "code",
    "executionInfo": {
     "elapsed": 5637,
     "status": "ok",
     "timestamp": 1574402716573,
     "user": {
      "displayName": "Mac Sriyanong",
      "photoUrl": "https://lh3.googleusercontent.com/a-/AAuE7mBDcSOx-hT0L-jUf7ZECeaUL0zXgJ7UsQk5jreA9w=s64",
      "userId": "08392812212861704534"
     },
     "user_tz": -420
    },
    "id": "5fZLVX5dKKdN",
    "outputId": "fead9f4a-342f-4777-bb7e-ba43ded34710"
   },
   "outputs": [
    {
     "data": {
      "text/html": [
       "<div>\n",
       "<style scoped>\n",
       "    .dataframe tbody tr th:only-of-type {\n",
       "        vertical-align: middle;\n",
       "    }\n",
       "\n",
       "    .dataframe tbody tr th {\n",
       "        vertical-align: top;\n",
       "    }\n",
       "\n",
       "    .dataframe thead th {\n",
       "        text-align: right;\n",
       "    }\n",
       "</style>\n",
       "<table border=\"1\" class=\"dataframe\">\n",
       "  <thead>\n",
       "    <tr style=\"text-align: right;\">\n",
       "      <th></th>\n",
       "      <th>province</th>\n",
       "      <th>year</th>\n",
       "      <th>population</th>\n",
       "    </tr>\n",
       "  </thead>\n",
       "  <tbody>\n",
       "    <tr>\n",
       "      <th>0</th>\n",
       "      <td>Chiang Mai</td>\n",
       "      <td>2016</td>\n",
       "      <td>1630428</td>\n",
       "    </tr>\n",
       "    <tr>\n",
       "      <th>1</th>\n",
       "      <td>Chiang Mai</td>\n",
       "      <td>2017</td>\n",
       "      <td>1664012</td>\n",
       "    </tr>\n",
       "    <tr>\n",
       "      <th>2</th>\n",
       "      <td>Chiang Mai</td>\n",
       "      <td>2018</td>\n",
       "      <td>1687971</td>\n",
       "    </tr>\n",
       "    <tr>\n",
       "      <th>3</th>\n",
       "      <td>Phrae</td>\n",
       "      <td>2016</td>\n",
       "      <td>398936</td>\n",
       "    </tr>\n",
       "  </tbody>\n",
       "</table>\n",
       "</div>"
      ],
      "text/plain": [
       "     province  year  population\n",
       "0  Chiang Mai  2016     1630428\n",
       "1  Chiang Mai  2017     1664012\n",
       "2  Chiang Mai  2018     1687971\n",
       "3       Phrae  2016      398936"
      ]
     },
     "execution_count": 19,
     "metadata": {},
     "output_type": "execute_result"
    }
   ],
   "source": [
    "df.head(4)"
   ]
  },
  {
   "cell_type": "code",
   "execution_count": 20,
   "metadata": {
    "colab": {
     "base_uri": "https://localhost:8080/",
     "height": 0
    },
    "colab_type": "code",
    "executionInfo": {
     "elapsed": 5628,
     "status": "ok",
     "timestamp": 1574402716574,
     "user": {
      "displayName": "Mac Sriyanong",
      "photoUrl": "https://lh3.googleusercontent.com/a-/AAuE7mBDcSOx-hT0L-jUf7ZECeaUL0zXgJ7UsQk5jreA9w=s64",
      "userId": "08392812212861704534"
     },
     "user_tz": -420
    },
    "id": "hzIWRdZKKKdO",
    "outputId": "bab03de9-6576-4a0f-e2e8-d28e3715ff21"
   },
   "outputs": [
    {
     "data": {
      "text/html": [
       "<div>\n",
       "<style scoped>\n",
       "    .dataframe tbody tr th:only-of-type {\n",
       "        vertical-align: middle;\n",
       "    }\n",
       "\n",
       "    .dataframe tbody tr th {\n",
       "        vertical-align: top;\n",
       "    }\n",
       "\n",
       "    .dataframe thead th {\n",
       "        text-align: right;\n",
       "    }\n",
       "</style>\n",
       "<table border=\"1\" class=\"dataframe\">\n",
       "  <thead>\n",
       "    <tr style=\"text-align: right;\">\n",
       "      <th></th>\n",
       "      <th>year</th>\n",
       "      <th>province</th>\n",
       "      <th>population</th>\n",
       "    </tr>\n",
       "  </thead>\n",
       "  <tbody>\n",
       "    <tr>\n",
       "      <th>0</th>\n",
       "      <td>2016</td>\n",
       "      <td>Chiang Mai</td>\n",
       "      <td>1630428</td>\n",
       "    </tr>\n",
       "    <tr>\n",
       "      <th>1</th>\n",
       "      <td>2017</td>\n",
       "      <td>Chiang Mai</td>\n",
       "      <td>1664012</td>\n",
       "    </tr>\n",
       "    <tr>\n",
       "      <th>2</th>\n",
       "      <td>2018</td>\n",
       "      <td>Chiang Mai</td>\n",
       "      <td>1687971</td>\n",
       "    </tr>\n",
       "    <tr>\n",
       "      <th>3</th>\n",
       "      <td>2016</td>\n",
       "      <td>Phrae</td>\n",
       "      <td>398936</td>\n",
       "    </tr>\n",
       "    <tr>\n",
       "      <th>4</th>\n",
       "      <td>2017</td>\n",
       "      <td>Phrae</td>\n",
       "      <td>410382</td>\n",
       "    </tr>\n",
       "    <tr>\n",
       "      <th>5</th>\n",
       "      <td>2018</td>\n",
       "      <td>Phrae</td>\n",
       "      <td>421653</td>\n",
       "    </tr>\n",
       "  </tbody>\n",
       "</table>\n",
       "</div>"
      ],
      "text/plain": [
       "   year    province  population\n",
       "0  2016  Chiang Mai     1630428\n",
       "1  2017  Chiang Mai     1664012\n",
       "2  2018  Chiang Mai     1687971\n",
       "3  2016       Phrae      398936\n",
       "4  2017       Phrae      410382\n",
       "5  2018       Phrae      421653"
      ]
     },
     "execution_count": 20,
     "metadata": {},
     "output_type": "execute_result"
    }
   ],
   "source": [
    "# assign column names and their sequence\n",
    "df2 = pd.DataFrame(data, columns=['year', 'province', 'population'])\n",
    "df2"
   ]
  },
  {
   "cell_type": "code",
   "execution_count": 21,
   "metadata": {
    "colab": {
     "base_uri": "https://localhost:8080/",
     "height": 0
    },
    "colab_type": "code",
    "executionInfo": {
     "elapsed": 5621,
     "status": "ok",
     "timestamp": 1574402716575,
     "user": {
      "displayName": "Mac Sriyanong",
      "photoUrl": "https://lh3.googleusercontent.com/a-/AAuE7mBDcSOx-hT0L-jUf7ZECeaUL0zXgJ7UsQk5jreA9w=s64",
      "userId": "08392812212861704534"
     },
     "user_tz": -420
    },
    "id": "jvgFHXi6KKdP",
    "outputId": "1ceaf650-28ea-4987-f87a-6dec943048e3"
   },
   "outputs": [
    {
     "data": {
      "text/html": [
       "<div>\n",
       "<style scoped>\n",
       "    .dataframe tbody tr th:only-of-type {\n",
       "        vertical-align: middle;\n",
       "    }\n",
       "\n",
       "    .dataframe tbody tr th {\n",
       "        vertical-align: top;\n",
       "    }\n",
       "\n",
       "    .dataframe thead th {\n",
       "        text-align: right;\n",
       "    }\n",
       "</style>\n",
       "<table border=\"1\" class=\"dataframe\">\n",
       "  <thead>\n",
       "    <tr style=\"text-align: right;\">\n",
       "      <th></th>\n",
       "      <th>year</th>\n",
       "      <th>province</th>\n",
       "      <th>population</th>\n",
       "      <th>household</th>\n",
       "    </tr>\n",
       "  </thead>\n",
       "  <tbody>\n",
       "    <tr>\n",
       "      <th>one</th>\n",
       "      <td>2016</td>\n",
       "      <td>Chiang Mai</td>\n",
       "      <td>1630428</td>\n",
       "      <td>NaN</td>\n",
       "    </tr>\n",
       "    <tr>\n",
       "      <th>two</th>\n",
       "      <td>2017</td>\n",
       "      <td>Chiang Mai</td>\n",
       "      <td>1664012</td>\n",
       "      <td>NaN</td>\n",
       "    </tr>\n",
       "    <tr>\n",
       "      <th>three</th>\n",
       "      <td>2018</td>\n",
       "      <td>Chiang Mai</td>\n",
       "      <td>1687971</td>\n",
       "      <td>NaN</td>\n",
       "    </tr>\n",
       "    <tr>\n",
       "      <th>four</th>\n",
       "      <td>2016</td>\n",
       "      <td>Phrae</td>\n",
       "      <td>398936</td>\n",
       "      <td>NaN</td>\n",
       "    </tr>\n",
       "    <tr>\n",
       "      <th>five</th>\n",
       "      <td>2017</td>\n",
       "      <td>Phrae</td>\n",
       "      <td>410382</td>\n",
       "      <td>NaN</td>\n",
       "    </tr>\n",
       "    <tr>\n",
       "      <th>six</th>\n",
       "      <td>2018</td>\n",
       "      <td>Phrae</td>\n",
       "      <td>421653</td>\n",
       "      <td>NaN</td>\n",
       "    </tr>\n",
       "  </tbody>\n",
       "</table>\n",
       "</div>"
      ],
      "text/plain": [
       "       year    province  population household\n",
       "one    2016  Chiang Mai     1630428       NaN\n",
       "two    2017  Chiang Mai     1664012       NaN\n",
       "three  2018  Chiang Mai     1687971       NaN\n",
       "four   2016       Phrae      398936       NaN\n",
       "five   2017       Phrae      410382       NaN\n",
       "six    2018       Phrae      421653       NaN"
      ]
     },
     "execution_count": 21,
     "metadata": {},
     "output_type": "execute_result"
    }
   ],
   "source": [
    "# index can also be other data types\n",
    "df2 = pd.DataFrame(data, columns=['year', 'province', 'population', 'household'], index=['one', 'two', 'three', 'four', 'five', 'six'])\n",
    "df2"
   ]
  },
  {
   "cell_type": "code",
   "execution_count": 22,
   "metadata": {
    "colab": {
     "base_uri": "https://localhost:8080/",
     "height": 0
    },
    "colab_type": "code",
    "executionInfo": {
     "elapsed": 5612,
     "status": "ok",
     "timestamp": 1574402716575,
     "user": {
      "displayName": "Mac Sriyanong",
      "photoUrl": "https://lh3.googleusercontent.com/a-/AAuE7mBDcSOx-hT0L-jUf7ZECeaUL0zXgJ7UsQk5jreA9w=s64",
      "userId": "08392812212861704534"
     },
     "user_tz": -420
    },
    "id": "JM8Q16bzKKdR",
    "outputId": "466aac72-4e6b-45c5-9768-558e89d1f635"
   },
   "outputs": [
    {
     "data": {
      "text/plain": [
       "Index(['year', 'province', 'population', 'household'], dtype='object')"
      ]
     },
     "execution_count": 22,
     "metadata": {},
     "output_type": "execute_result"
    }
   ],
   "source": [
    "df2.columns"
   ]
  },
  {
   "cell_type": "code",
   "execution_count": 23,
   "metadata": {
    "colab": {
     "base_uri": "https://localhost:8080/",
     "height": 0
    },
    "colab_type": "code",
    "executionInfo": {
     "elapsed": 5604,
     "status": "ok",
     "timestamp": 1574402716576,
     "user": {
      "displayName": "Mac Sriyanong",
      "photoUrl": "https://lh3.googleusercontent.com/a-/AAuE7mBDcSOx-hT0L-jUf7ZECeaUL0zXgJ7UsQk5jreA9w=s64",
      "userId": "08392812212861704534"
     },
     "user_tz": -420
    },
    "id": "If3t9hTXVCf2",
    "outputId": "cc4fe9f1-acab-415b-abb9-8d426a52a17b"
   },
   "outputs": [
    {
     "data": {
      "text/plain": [
       "Index(['one', 'two', 'three', 'four', 'five', 'six'], dtype='object')"
      ]
     },
     "execution_count": 23,
     "metadata": {},
     "output_type": "execute_result"
    }
   ],
   "source": [
    "df2.index"
   ]
  },
  {
   "cell_type": "markdown",
   "metadata": {
    "colab_type": "text",
    "id": "U0N7VNJ1KKeE"
   },
   "source": [
    "## Indexing, Selection, and Filtering\n",
    "These operations are frequently used in data exploration."
   ]
  },
  {
   "cell_type": "markdown",
   "metadata": {
    "colab_type": "text",
    "id": "IA-MAjJyKKeF"
   },
   "source": [
    "### Series"
   ]
  },
  {
   "cell_type": "code",
   "execution_count": 24,
   "metadata": {
    "colab": {
     "base_uri": "https://localhost:8080/",
     "height": 0
    },
    "colab_type": "code",
    "executionInfo": {
     "elapsed": 5309,
     "status": "ok",
     "timestamp": 1574402716592,
     "user": {
      "displayName": "Mac Sriyanong",
      "photoUrl": "https://lh3.googleusercontent.com/a-/AAuE7mBDcSOx-hT0L-jUf7ZECeaUL0zXgJ7UsQk5jreA9w=s64",
      "userId": "08392812212861704534"
     },
     "user_tz": -420
    },
    "id": "objDqyF4KKeF",
    "outputId": "108481e5-1f2b-406a-8ea6-3e197547c828"
   },
   "outputs": [
    {
     "data": {
      "text/plain": [
       "d    4\n",
       "b    7\n",
       "a   -5\n",
       "c    3\n",
       "dtype: int64"
      ]
     },
     "execution_count": 24,
     "metadata": {},
     "output_type": "execute_result"
    }
   ],
   "source": [
    "s2"
   ]
  },
  {
   "cell_type": "code",
   "execution_count": 25,
   "metadata": {
    "colab": {
     "base_uri": "https://localhost:8080/",
     "height": 0
    },
    "colab_type": "code",
    "executionInfo": {
     "elapsed": 5299,
     "status": "ok",
     "timestamp": 1574402716592,
     "user": {
      "displayName": "Mac Sriyanong",
      "photoUrl": "https://lh3.googleusercontent.com/a-/AAuE7mBDcSOx-hT0L-jUf7ZECeaUL0zXgJ7UsQk5jreA9w=s64",
      "userId": "08392812212861704534"
     },
     "user_tz": -420
    },
    "id": "nGbuRbbBKKeG",
    "outputId": "e7b0e3f6-775f-42d8-8356-d14cd90122e7"
   },
   "outputs": [
    {
     "data": {
      "text/plain": [
       "7"
      ]
     },
     "execution_count": 25,
     "metadata": {},
     "output_type": "execute_result"
    }
   ],
   "source": [
    "s2['b']"
   ]
  },
  {
   "cell_type": "code",
   "execution_count": 26,
   "metadata": {
    "colab": {
     "base_uri": "https://localhost:8080/",
     "height": 0
    },
    "colab_type": "code",
    "executionInfo": {
     "elapsed": 5290,
     "status": "ok",
     "timestamp": 1574402716593,
     "user": {
      "displayName": "Mac Sriyanong",
      "photoUrl": "https://lh3.googleusercontent.com/a-/AAuE7mBDcSOx-hT0L-jUf7ZECeaUL0zXgJ7UsQk5jreA9w=s64",
      "userId": "08392812212861704534"
     },
     "user_tz": -420
    },
    "id": "a6dM3irFKKeI",
    "outputId": "21d66f02-e6cb-4452-b6d1-9b8697baa623"
   },
   "outputs": [
    {
     "data": {
      "text/plain": [
       "7"
      ]
     },
     "execution_count": 26,
     "metadata": {},
     "output_type": "execute_result"
    }
   ],
   "source": [
    "s2[1]"
   ]
  },
  {
   "cell_type": "code",
   "execution_count": 27,
   "metadata": {
    "colab": {
     "base_uri": "https://localhost:8080/",
     "height": 0
    },
    "colab_type": "code",
    "executionInfo": {
     "elapsed": 5277,
     "status": "ok",
     "timestamp": 1574402716593,
     "user": {
      "displayName": "Mac Sriyanong",
      "photoUrl": "https://lh3.googleusercontent.com/a-/AAuE7mBDcSOx-hT0L-jUf7ZECeaUL0zXgJ7UsQk5jreA9w=s64",
      "userId": "08392812212861704534"
     },
     "user_tz": -420
    },
    "id": "Kc3TWrOfKKeK",
    "outputId": "ae869b3a-ba8f-49f3-b4d7-1a947f54a150"
   },
   "outputs": [
    {
     "data": {
      "text/plain": [
       "a   -5\n",
       "c    3\n",
       "dtype: int64"
      ]
     },
     "execution_count": 27,
     "metadata": {},
     "output_type": "execute_result"
    }
   ],
   "source": [
    "s2[2:4]"
   ]
  },
  {
   "cell_type": "code",
   "execution_count": 28,
   "metadata": {
    "colab": {
     "base_uri": "https://localhost:8080/",
     "height": 0
    },
    "colab_type": "code",
    "executionInfo": {
     "elapsed": 5264,
     "status": "ok",
     "timestamp": 1574402716594,
     "user": {
      "displayName": "Mac Sriyanong",
      "photoUrl": "https://lh3.googleusercontent.com/a-/AAuE7mBDcSOx-hT0L-jUf7ZECeaUL0zXgJ7UsQk5jreA9w=s64",
      "userId": "08392812212861704534"
     },
     "user_tz": -420
    },
    "id": "L8W7nfjiKKeh",
    "outputId": "0cc6b710-600d-4b97-cdaa-a08a6de52b12"
   },
   "outputs": [
    {
     "data": {
      "text/plain": [
       "b    7\n",
       "c    3\n",
       "d    4\n",
       "dtype: int64"
      ]
     },
     "execution_count": 28,
     "metadata": {},
     "output_type": "execute_result"
    }
   ],
   "source": [
    "s2[['b', 'c', 'd']]"
   ]
  },
  {
   "cell_type": "code",
   "execution_count": 29,
   "metadata": {
    "colab": {
     "base_uri": "https://localhost:8080/",
     "height": 0
    },
    "colab_type": "code",
    "executionInfo": {
     "elapsed": 5248,
     "status": "ok",
     "timestamp": 1574402716594,
     "user": {
      "displayName": "Mac Sriyanong",
      "photoUrl": "https://lh3.googleusercontent.com/a-/AAuE7mBDcSOx-hT0L-jUf7ZECeaUL0zXgJ7UsQk5jreA9w=s64",
      "userId": "08392812212861704534"
     },
     "user_tz": -420
    },
    "id": "7bNuL2aMKKei",
    "outputId": "e382532a-86dd-413c-c307-851e630f61b3"
   },
   "outputs": [
    {
     "data": {
      "text/plain": [
       "b    7\n",
       "c    3\n",
       "dtype: int64"
      ]
     },
     "execution_count": 29,
     "metadata": {},
     "output_type": "execute_result"
    }
   ],
   "source": [
    "s2[[1,3]]"
   ]
  },
  {
   "cell_type": "markdown",
   "metadata": {
    "colab_type": "text",
    "id": "FgxL-HTUKKej"
   },
   "source": [
    "Note that slicing with labels behaves differently than normal Python slicing as it is inclusive"
   ]
  },
  {
   "cell_type": "code",
   "execution_count": 30,
   "metadata": {
    "colab": {
     "base_uri": "https://localhost:8080/",
     "height": 0
    },
    "colab_type": "code",
    "executionInfo": {
     "elapsed": 5234,
     "status": "ok",
     "timestamp": 1574402716595,
     "user": {
      "displayName": "Mac Sriyanong",
      "photoUrl": "https://lh3.googleusercontent.com/a-/AAuE7mBDcSOx-hT0L-jUf7ZECeaUL0zXgJ7UsQk5jreA9w=s64",
      "userId": "08392812212861704534"
     },
     "user_tz": -420
    },
    "id": "3zrqPcNdKKej",
    "outputId": "16181959-4247-4cf1-e16a-fcccb82ef218"
   },
   "outputs": [
    {
     "data": {
      "text/plain": [
       "d    4\n",
       "b    7\n",
       "a   -5\n",
       "c    3\n",
       "dtype: int64"
      ]
     },
     "execution_count": 30,
     "metadata": {},
     "output_type": "execute_result"
    }
   ],
   "source": [
    "s2"
   ]
  },
  {
   "cell_type": "code",
   "execution_count": 31,
   "metadata": {
    "colab": {
     "base_uri": "https://localhost:8080/",
     "height": 0
    },
    "colab_type": "code",
    "executionInfo": {
     "elapsed": 5216,
     "status": "ok",
     "timestamp": 1574402716595,
     "user": {
      "displayName": "Mac Sriyanong",
      "photoUrl": "https://lh3.googleusercontent.com/a-/AAuE7mBDcSOx-hT0L-jUf7ZECeaUL0zXgJ7UsQk5jreA9w=s64",
      "userId": "08392812212861704534"
     },
     "user_tz": -420
    },
    "id": "7_Twn6mPKKek",
    "outputId": "ebe4ddb4-69c5-4199-cf74-62fd1a40e8cf"
   },
   "outputs": [
    {
     "data": {
      "text/plain": [
       "b    7\n",
       "a   -5\n",
       "c    3\n",
       "dtype: int64"
      ]
     },
     "execution_count": 31,
     "metadata": {},
     "output_type": "execute_result"
    }
   ],
   "source": [
    "s2['b':'c']"
   ]
  },
  {
   "cell_type": "code",
   "execution_count": 32,
   "metadata": {
    "colab": {
     "base_uri": "https://localhost:8080/",
     "height": 0
    },
    "colab_type": "code",
    "executionInfo": {
     "elapsed": 5200,
     "status": "ok",
     "timestamp": 1574402716596,
     "user": {
      "displayName": "Mac Sriyanong",
      "photoUrl": "https://lh3.googleusercontent.com/a-/AAuE7mBDcSOx-hT0L-jUf7ZECeaUL0zXgJ7UsQk5jreA9w=s64",
      "userId": "08392812212861704534"
     },
     "user_tz": -420
    },
    "id": "RyWVrHHVKKel",
    "outputId": "fbc1ddea-ee03-400d-dc86-f046578c5ce3"
   },
   "outputs": [
    {
     "data": {
      "text/plain": [
       "Series([], dtype: int64)"
      ]
     },
     "execution_count": 32,
     "metadata": {},
     "output_type": "execute_result"
    }
   ],
   "source": [
    "s2['a':'d']"
   ]
  },
  {
   "cell_type": "code",
   "execution_count": 33,
   "metadata": {
    "colab": {
     "base_uri": "https://localhost:8080/",
     "height": 0
    },
    "colab_type": "code",
    "executionInfo": {
     "elapsed": 5192,
     "status": "ok",
     "timestamp": 1574402716596,
     "user": {
      "displayName": "Mac Sriyanong",
      "photoUrl": "https://lh3.googleusercontent.com/a-/AAuE7mBDcSOx-hT0L-jUf7ZECeaUL0zXgJ7UsQk5jreA9w=s64",
      "userId": "08392812212861704534"
     },
     "user_tz": -420
    },
    "id": "4hBgNukhKKen",
    "outputId": "553933f0-7a32-49cf-eb59-b377550e2427"
   },
   "outputs": [
    {
     "data": {
      "text/plain": [
       "d      4\n",
       "b      7\n",
       "a    100\n",
       "c    100\n",
       "dtype: int64"
      ]
     },
     "execution_count": 33,
     "metadata": {},
     "output_type": "execute_result"
    }
   ],
   "source": [
    "s2['a':'c'] = 100\n",
    "s2"
   ]
  },
  {
   "cell_type": "code",
   "execution_count": 34,
   "metadata": {
    "colab": {
     "base_uri": "https://localhost:8080/",
     "height": 0
    },
    "colab_type": "code",
    "executionInfo": {
     "elapsed": 5183,
     "status": "ok",
     "timestamp": 1574402716597,
     "user": {
      "displayName": "Mac Sriyanong",
      "photoUrl": "https://lh3.googleusercontent.com/a-/AAuE7mBDcSOx-hT0L-jUf7ZECeaUL0zXgJ7UsQk5jreA9w=s64",
      "userId": "08392812212861704534"
     },
     "user_tz": -420
    },
    "id": "oQL1MS7uKKeo",
    "outputId": "b3a0c0e5-cbed-4461-f85e-4ceacba64a72",
    "scrolled": true
   },
   "outputs": [
    {
     "data": {
      "text/plain": [
       "d     True\n",
       "b     True\n",
       "a    False\n",
       "c    False\n",
       "dtype: bool"
      ]
     },
     "execution_count": 34,
     "metadata": {},
     "output_type": "execute_result"
    }
   ],
   "source": [
    "s2 < 50"
   ]
  },
  {
   "cell_type": "code",
   "execution_count": 35,
   "metadata": {
    "colab": {
     "base_uri": "https://localhost:8080/",
     "height": 0
    },
    "colab_type": "code",
    "executionInfo": {
     "elapsed": 5176,
     "status": "ok",
     "timestamp": 1574402716598,
     "user": {
      "displayName": "Mac Sriyanong",
      "photoUrl": "https://lh3.googleusercontent.com/a-/AAuE7mBDcSOx-hT0L-jUf7ZECeaUL0zXgJ7UsQk5jreA9w=s64",
      "userId": "08392812212861704534"
     },
     "user_tz": -420
    },
    "id": "opamh0NaKKep",
    "outputId": "f4701c05-ddbb-490b-f599-62c63f41f367",
    "scrolled": false
   },
   "outputs": [
    {
     "data": {
      "text/plain": [
       "d    4\n",
       "b    7\n",
       "dtype: int64"
      ]
     },
     "execution_count": 35,
     "metadata": {},
     "output_type": "execute_result"
    }
   ],
   "source": [
    "s2[s2 < 50]"
   ]
  },
  {
   "cell_type": "markdown",
   "metadata": {
    "colab_type": "text",
    "id": "KZ7vfytuKKeq"
   },
   "source": [
    "### DataFrame"
   ]
  },
  {
   "cell_type": "code",
   "execution_count": 36,
   "metadata": {
    "colab": {
     "base_uri": "https://localhost:8080/",
     "height": 0
    },
    "colab_type": "code",
    "executionInfo": {
     "elapsed": 5167,
     "status": "ok",
     "timestamp": 1574402716598,
     "user": {
      "displayName": "Mac Sriyanong",
      "photoUrl": "https://lh3.googleusercontent.com/a-/AAuE7mBDcSOx-hT0L-jUf7ZECeaUL0zXgJ7UsQk5jreA9w=s64",
      "userId": "08392812212861704534"
     },
     "user_tz": -420
    },
    "id": "BBffXv1yKKeq",
    "outputId": "e0fef483-8e53-4eb7-8bf5-bfd11993d718"
   },
   "outputs": [
    {
     "data": {
      "text/html": [
       "<div>\n",
       "<style scoped>\n",
       "    .dataframe tbody tr th:only-of-type {\n",
       "        vertical-align: middle;\n",
       "    }\n",
       "\n",
       "    .dataframe tbody tr th {\n",
       "        vertical-align: top;\n",
       "    }\n",
       "\n",
       "    .dataframe thead th {\n",
       "        text-align: right;\n",
       "    }\n",
       "</style>\n",
       "<table border=\"1\" class=\"dataframe\">\n",
       "  <thead>\n",
       "    <tr style=\"text-align: right;\">\n",
       "      <th></th>\n",
       "      <th>year</th>\n",
       "      <th>province</th>\n",
       "      <th>population</th>\n",
       "      <th>household</th>\n",
       "    </tr>\n",
       "  </thead>\n",
       "  <tbody>\n",
       "    <tr>\n",
       "      <th>one</th>\n",
       "      <td>2016</td>\n",
       "      <td>Chiang Mai</td>\n",
       "      <td>1630428</td>\n",
       "      <td>NaN</td>\n",
       "    </tr>\n",
       "    <tr>\n",
       "      <th>two</th>\n",
       "      <td>2017</td>\n",
       "      <td>Chiang Mai</td>\n",
       "      <td>1664012</td>\n",
       "      <td>NaN</td>\n",
       "    </tr>\n",
       "    <tr>\n",
       "      <th>three</th>\n",
       "      <td>2018</td>\n",
       "      <td>Chiang Mai</td>\n",
       "      <td>1687971</td>\n",
       "      <td>NaN</td>\n",
       "    </tr>\n",
       "    <tr>\n",
       "      <th>four</th>\n",
       "      <td>2016</td>\n",
       "      <td>Phrae</td>\n",
       "      <td>398936</td>\n",
       "      <td>NaN</td>\n",
       "    </tr>\n",
       "    <tr>\n",
       "      <th>five</th>\n",
       "      <td>2017</td>\n",
       "      <td>Phrae</td>\n",
       "      <td>410382</td>\n",
       "      <td>NaN</td>\n",
       "    </tr>\n",
       "    <tr>\n",
       "      <th>six</th>\n",
       "      <td>2018</td>\n",
       "      <td>Phrae</td>\n",
       "      <td>421653</td>\n",
       "      <td>NaN</td>\n",
       "    </tr>\n",
       "  </tbody>\n",
       "</table>\n",
       "</div>"
      ],
      "text/plain": [
       "       year    province  population household\n",
       "one    2016  Chiang Mai     1630428       NaN\n",
       "two    2017  Chiang Mai     1664012       NaN\n",
       "three  2018  Chiang Mai     1687971       NaN\n",
       "four   2016       Phrae      398936       NaN\n",
       "five   2017       Phrae      410382       NaN\n",
       "six    2018       Phrae      421653       NaN"
      ]
     },
     "execution_count": 36,
     "metadata": {},
     "output_type": "execute_result"
    }
   ],
   "source": [
    "df2"
   ]
  },
  {
   "cell_type": "code",
   "execution_count": 37,
   "metadata": {
    "colab": {
     "base_uri": "https://localhost:8080/",
     "height": 0
    },
    "colab_type": "code",
    "executionInfo": {
     "elapsed": 5160,
     "status": "ok",
     "timestamp": 1574402716599,
     "user": {
      "displayName": "Mac Sriyanong",
      "photoUrl": "https://lh3.googleusercontent.com/a-/AAuE7mBDcSOx-hT0L-jUf7ZECeaUL0zXgJ7UsQk5jreA9w=s64",
      "userId": "08392812212861704534"
     },
     "user_tz": -420
    },
    "id": "kYZ6WLesKKer",
    "outputId": "21d5535f-2d6a-41b8-8151-b3bf10f370ef"
   },
   "outputs": [
    {
     "data": {
      "text/plain": [
       "one      1630428\n",
       "two      1664012\n",
       "three    1687971\n",
       "four      398936\n",
       "five      410382\n",
       "six       421653\n",
       "Name: population, dtype: int64"
      ]
     },
     "execution_count": 37,
     "metadata": {},
     "output_type": "execute_result"
    }
   ],
   "source": [
    "df2['population']"
   ]
  },
  {
   "cell_type": "code",
   "execution_count": 38,
   "metadata": {
    "colab": {
     "base_uri": "https://localhost:8080/",
     "height": 0
    },
    "colab_type": "code",
    "executionInfo": {
     "elapsed": 5150,
     "status": "ok",
     "timestamp": 1574402716599,
     "user": {
      "displayName": "Mac Sriyanong",
      "photoUrl": "https://lh3.googleusercontent.com/a-/AAuE7mBDcSOx-hT0L-jUf7ZECeaUL0zXgJ7UsQk5jreA9w=s64",
      "userId": "08392812212861704534"
     },
     "user_tz": -420
    },
    "id": "FjuiWaPsKKet",
    "outputId": "fa164c61-2b11-4274-b6b4-031cb6cee329"
   },
   "outputs": [
    {
     "data": {
      "text/html": [
       "<div>\n",
       "<style scoped>\n",
       "    .dataframe tbody tr th:only-of-type {\n",
       "        vertical-align: middle;\n",
       "    }\n",
       "\n",
       "    .dataframe tbody tr th {\n",
       "        vertical-align: top;\n",
       "    }\n",
       "\n",
       "    .dataframe thead th {\n",
       "        text-align: right;\n",
       "    }\n",
       "</style>\n",
       "<table border=\"1\" class=\"dataframe\">\n",
       "  <thead>\n",
       "    <tr style=\"text-align: right;\">\n",
       "      <th></th>\n",
       "      <th>province</th>\n",
       "      <th>year</th>\n",
       "      <th>household</th>\n",
       "    </tr>\n",
       "  </thead>\n",
       "  <tbody>\n",
       "    <tr>\n",
       "      <th>one</th>\n",
       "      <td>Chiang Mai</td>\n",
       "      <td>2016</td>\n",
       "      <td>NaN</td>\n",
       "    </tr>\n",
       "    <tr>\n",
       "      <th>two</th>\n",
       "      <td>Chiang Mai</td>\n",
       "      <td>2017</td>\n",
       "      <td>NaN</td>\n",
       "    </tr>\n",
       "    <tr>\n",
       "      <th>three</th>\n",
       "      <td>Chiang Mai</td>\n",
       "      <td>2018</td>\n",
       "      <td>NaN</td>\n",
       "    </tr>\n",
       "    <tr>\n",
       "      <th>four</th>\n",
       "      <td>Phrae</td>\n",
       "      <td>2016</td>\n",
       "      <td>NaN</td>\n",
       "    </tr>\n",
       "    <tr>\n",
       "      <th>five</th>\n",
       "      <td>Phrae</td>\n",
       "      <td>2017</td>\n",
       "      <td>NaN</td>\n",
       "    </tr>\n",
       "    <tr>\n",
       "      <th>six</th>\n",
       "      <td>Phrae</td>\n",
       "      <td>2018</td>\n",
       "      <td>NaN</td>\n",
       "    </tr>\n",
       "  </tbody>\n",
       "</table>\n",
       "</div>"
      ],
      "text/plain": [
       "         province  year household\n",
       "one    Chiang Mai  2016       NaN\n",
       "two    Chiang Mai  2017       NaN\n",
       "three  Chiang Mai  2018       NaN\n",
       "four        Phrae  2016       NaN\n",
       "five        Phrae  2017       NaN\n",
       "six         Phrae  2018       NaN"
      ]
     },
     "execution_count": 38,
     "metadata": {},
     "output_type": "execute_result"
    }
   ],
   "source": [
    "df2[['province', 'year', 'household']]"
   ]
  },
  {
   "cell_type": "code",
   "execution_count": 39,
   "metadata": {
    "colab": {
     "base_uri": "https://localhost:8080/",
     "height": 0
    },
    "colab_type": "code",
    "executionInfo": {
     "elapsed": 5143,
     "status": "ok",
     "timestamp": 1574402716600,
     "user": {
      "displayName": "Mac Sriyanong",
      "photoUrl": "https://lh3.googleusercontent.com/a-/AAuE7mBDcSOx-hT0L-jUf7ZECeaUL0zXgJ7UsQk5jreA9w=s64",
      "userId": "08392812212861704534"
     },
     "user_tz": -420
    },
    "id": "WxsrPphMKKeu",
    "outputId": "47263da7-e20d-40f4-e2e5-c992e9013442"
   },
   "outputs": [
    {
     "data": {
      "text/html": [
       "<div>\n",
       "<style scoped>\n",
       "    .dataframe tbody tr th:only-of-type {\n",
       "        vertical-align: middle;\n",
       "    }\n",
       "\n",
       "    .dataframe tbody tr th {\n",
       "        vertical-align: top;\n",
       "    }\n",
       "\n",
       "    .dataframe thead th {\n",
       "        text-align: right;\n",
       "    }\n",
       "</style>\n",
       "<table border=\"1\" class=\"dataframe\">\n",
       "  <thead>\n",
       "    <tr style=\"text-align: right;\">\n",
       "      <th></th>\n",
       "      <th>year</th>\n",
       "      <th>province</th>\n",
       "      <th>population</th>\n",
       "      <th>household</th>\n",
       "    </tr>\n",
       "  </thead>\n",
       "  <tbody>\n",
       "    <tr>\n",
       "      <th>one</th>\n",
       "      <td>2016</td>\n",
       "      <td>Chiang Mai</td>\n",
       "      <td>1630428</td>\n",
       "      <td>NaN</td>\n",
       "    </tr>\n",
       "    <tr>\n",
       "      <th>two</th>\n",
       "      <td>2017</td>\n",
       "      <td>Chiang Mai</td>\n",
       "      <td>1664012</td>\n",
       "      <td>NaN</td>\n",
       "    </tr>\n",
       "  </tbody>\n",
       "</table>\n",
       "</div>"
      ],
      "text/plain": [
       "     year    province  population household\n",
       "one  2016  Chiang Mai     1630428       NaN\n",
       "two  2017  Chiang Mai     1664012       NaN"
      ]
     },
     "execution_count": 39,
     "metadata": {},
     "output_type": "execute_result"
    }
   ],
   "source": [
    "df2[:2]"
   ]
  },
  {
   "cell_type": "code",
   "execution_count": 40,
   "metadata": {
    "colab": {
     "base_uri": "https://localhost:8080/",
     "height": 0
    },
    "colab_type": "code",
    "executionInfo": {
     "elapsed": 5136,
     "status": "ok",
     "timestamp": 1574402716600,
     "user": {
      "displayName": "Mac Sriyanong",
      "photoUrl": "https://lh3.googleusercontent.com/a-/AAuE7mBDcSOx-hT0L-jUf7ZECeaUL0zXgJ7UsQk5jreA9w=s64",
      "userId": "08392812212861704534"
     },
     "user_tz": -420
    },
    "id": "IYuompyqKKev",
    "outputId": "6ebbbb23-7c7a-4253-d546-3b76aeba2737"
   },
   "outputs": [
    {
     "data": {
      "text/plain": [
       "one       True\n",
       "two       True\n",
       "three     True\n",
       "four     False\n",
       "five     False\n",
       "six      False\n",
       "Name: population, dtype: bool"
      ]
     },
     "execution_count": 40,
     "metadata": {},
     "output_type": "execute_result"
    }
   ],
   "source": [
    "df2['population']> 1500000"
   ]
  },
  {
   "cell_type": "code",
   "execution_count": 41,
   "metadata": {
    "colab": {
     "base_uri": "https://localhost:8080/",
     "height": 0
    },
    "colab_type": "code",
    "executionInfo": {
     "elapsed": 5128,
     "status": "ok",
     "timestamp": 1574402716601,
     "user": {
      "displayName": "Mac Sriyanong",
      "photoUrl": "https://lh3.googleusercontent.com/a-/AAuE7mBDcSOx-hT0L-jUf7ZECeaUL0zXgJ7UsQk5jreA9w=s64",
      "userId": "08392812212861704534"
     },
     "user_tz": -420
    },
    "id": "4mko_PoOKKey",
    "outputId": "4c757a58-f5c0-4236-944f-a9c20573d3a8"
   },
   "outputs": [
    {
     "data": {
      "text/html": [
       "<div>\n",
       "<style scoped>\n",
       "    .dataframe tbody tr th:only-of-type {\n",
       "        vertical-align: middle;\n",
       "    }\n",
       "\n",
       "    .dataframe tbody tr th {\n",
       "        vertical-align: top;\n",
       "    }\n",
       "\n",
       "    .dataframe thead th {\n",
       "        text-align: right;\n",
       "    }\n",
       "</style>\n",
       "<table border=\"1\" class=\"dataframe\">\n",
       "  <thead>\n",
       "    <tr style=\"text-align: right;\">\n",
       "      <th></th>\n",
       "      <th>year</th>\n",
       "      <th>province</th>\n",
       "      <th>population</th>\n",
       "      <th>household</th>\n",
       "    </tr>\n",
       "  </thead>\n",
       "  <tbody>\n",
       "    <tr>\n",
       "      <th>one</th>\n",
       "      <td>2016</td>\n",
       "      <td>Chiang Mai</td>\n",
       "      <td>1630428</td>\n",
       "      <td>NaN</td>\n",
       "    </tr>\n",
       "    <tr>\n",
       "      <th>two</th>\n",
       "      <td>2017</td>\n",
       "      <td>Chiang Mai</td>\n",
       "      <td>1664012</td>\n",
       "      <td>NaN</td>\n",
       "    </tr>\n",
       "    <tr>\n",
       "      <th>three</th>\n",
       "      <td>2018</td>\n",
       "      <td>Chiang Mai</td>\n",
       "      <td>1687971</td>\n",
       "      <td>NaN</td>\n",
       "    </tr>\n",
       "  </tbody>\n",
       "</table>\n",
       "</div>"
      ],
      "text/plain": [
       "       year    province  population household\n",
       "one    2016  Chiang Mai     1630428       NaN\n",
       "two    2017  Chiang Mai     1664012       NaN\n",
       "three  2018  Chiang Mai     1687971       NaN"
      ]
     },
     "execution_count": 41,
     "metadata": {},
     "output_type": "execute_result"
    }
   ],
   "source": [
    "df2[df2['population']> 1500000]"
   ]
  },
  {
   "cell_type": "markdown",
   "metadata": {
    "colab_type": "text",
    "id": "-Tyt1FRVKKe0"
   },
   "source": [
    "### Data Referencing with *loc* and *iloc*\n",
    "*loc* and *iloc* can be used for slecting a subset of rows and columns in a DataFrame.  *loc* is for label indexing and *iloc* is for integer indexing.  The selecting can be applied for both read and write operations."
   ]
  },
  {
   "cell_type": "code",
   "execution_count": 42,
   "metadata": {
    "colab": {
     "base_uri": "https://localhost:8080/",
     "height": 0
    },
    "colab_type": "code",
    "executionInfo": {
     "elapsed": 5121,
     "status": "ok",
     "timestamp": 1574402716601,
     "user": {
      "displayName": "Mac Sriyanong",
      "photoUrl": "https://lh3.googleusercontent.com/a-/AAuE7mBDcSOx-hT0L-jUf7ZECeaUL0zXgJ7UsQk5jreA9w=s64",
      "userId": "08392812212861704534"
     },
     "user_tz": -420
    },
    "id": "h75H_nXXKKe0",
    "outputId": "46afb0c5-39f8-475b-c1a2-ec3c495f67be"
   },
   "outputs": [
    {
     "data": {
      "text/html": [
       "<div>\n",
       "<style scoped>\n",
       "    .dataframe tbody tr th:only-of-type {\n",
       "        vertical-align: middle;\n",
       "    }\n",
       "\n",
       "    .dataframe tbody tr th {\n",
       "        vertical-align: top;\n",
       "    }\n",
       "\n",
       "    .dataframe thead th {\n",
       "        text-align: right;\n",
       "    }\n",
       "</style>\n",
       "<table border=\"1\" class=\"dataframe\">\n",
       "  <thead>\n",
       "    <tr style=\"text-align: right;\">\n",
       "      <th></th>\n",
       "      <th>year</th>\n",
       "      <th>province</th>\n",
       "      <th>population</th>\n",
       "      <th>household</th>\n",
       "    </tr>\n",
       "  </thead>\n",
       "  <tbody>\n",
       "    <tr>\n",
       "      <th>one</th>\n",
       "      <td>2016</td>\n",
       "      <td>Chiang Mai</td>\n",
       "      <td>1630428</td>\n",
       "      <td>NaN</td>\n",
       "    </tr>\n",
       "    <tr>\n",
       "      <th>two</th>\n",
       "      <td>2017</td>\n",
       "      <td>Chiang Mai</td>\n",
       "      <td>1664012</td>\n",
       "      <td>NaN</td>\n",
       "    </tr>\n",
       "    <tr>\n",
       "      <th>three</th>\n",
       "      <td>2018</td>\n",
       "      <td>Chiang Mai</td>\n",
       "      <td>1687971</td>\n",
       "      <td>NaN</td>\n",
       "    </tr>\n",
       "    <tr>\n",
       "      <th>four</th>\n",
       "      <td>2016</td>\n",
       "      <td>Phrae</td>\n",
       "      <td>398936</td>\n",
       "      <td>NaN</td>\n",
       "    </tr>\n",
       "    <tr>\n",
       "      <th>five</th>\n",
       "      <td>2017</td>\n",
       "      <td>Phrae</td>\n",
       "      <td>410382</td>\n",
       "      <td>NaN</td>\n",
       "    </tr>\n",
       "    <tr>\n",
       "      <th>six</th>\n",
       "      <td>2018</td>\n",
       "      <td>Phrae</td>\n",
       "      <td>421653</td>\n",
       "      <td>NaN</td>\n",
       "    </tr>\n",
       "  </tbody>\n",
       "</table>\n",
       "</div>"
      ],
      "text/plain": [
       "       year    province  population household\n",
       "one    2016  Chiang Mai     1630428       NaN\n",
       "two    2017  Chiang Mai     1664012       NaN\n",
       "three  2018  Chiang Mai     1687971       NaN\n",
       "four   2016       Phrae      398936       NaN\n",
       "five   2017       Phrae      410382       NaN\n",
       "six    2018       Phrae      421653       NaN"
      ]
     },
     "execution_count": 42,
     "metadata": {},
     "output_type": "execute_result"
    }
   ],
   "source": [
    "df2"
   ]
  },
  {
   "cell_type": "code",
   "execution_count": 43,
   "metadata": {
    "colab": {
     "base_uri": "https://localhost:8080/",
     "height": 0
    },
    "colab_type": "code",
    "executionInfo": {
     "elapsed": 5113,
     "status": "ok",
     "timestamp": 1574402716602,
     "user": {
      "displayName": "Mac Sriyanong",
      "photoUrl": "https://lh3.googleusercontent.com/a-/AAuE7mBDcSOx-hT0L-jUf7ZECeaUL0zXgJ7UsQk5jreA9w=s64",
      "userId": "08392812212861704534"
     },
     "user_tz": -420
    },
    "id": "4iTfYo1jKKe1",
    "outputId": "ccba259f-010e-4d7c-ce69-ca1c3c85b0e8"
   },
   "outputs": [
    {
     "data": {
      "text/plain": [
       "2017"
      ]
     },
     "execution_count": 43,
     "metadata": {},
     "output_type": "execute_result"
    }
   ],
   "source": [
    "df2.loc['two', 'year']"
   ]
  },
  {
   "cell_type": "code",
   "execution_count": 44,
   "metadata": {
    "colab": {
     "base_uri": "https://localhost:8080/",
     "height": 0
    },
    "colab_type": "code",
    "executionInfo": {
     "elapsed": 5105,
     "status": "ok",
     "timestamp": 1574402716602,
     "user": {
      "displayName": "Mac Sriyanong",
      "photoUrl": "https://lh3.googleusercontent.com/a-/AAuE7mBDcSOx-hT0L-jUf7ZECeaUL0zXgJ7UsQk5jreA9w=s64",
      "userId": "08392812212861704534"
     },
     "user_tz": -420
    },
    "id": "yqCCBUSGKKe2",
    "outputId": "e8fb04ed-90f6-4a1e-815b-d249d6110363"
   },
   "outputs": [
    {
     "data": {
      "text/html": [
       "<div>\n",
       "<style scoped>\n",
       "    .dataframe tbody tr th:only-of-type {\n",
       "        vertical-align: middle;\n",
       "    }\n",
       "\n",
       "    .dataframe tbody tr th {\n",
       "        vertical-align: top;\n",
       "    }\n",
       "\n",
       "    .dataframe thead th {\n",
       "        text-align: right;\n",
       "    }\n",
       "</style>\n",
       "<table border=\"1\" class=\"dataframe\">\n",
       "  <thead>\n",
       "    <tr style=\"text-align: right;\">\n",
       "      <th></th>\n",
       "      <th>population</th>\n",
       "      <th>household</th>\n",
       "    </tr>\n",
       "  </thead>\n",
       "  <tbody>\n",
       "    <tr>\n",
       "      <th>one</th>\n",
       "      <td>1630428</td>\n",
       "      <td>NaN</td>\n",
       "    </tr>\n",
       "    <tr>\n",
       "      <th>three</th>\n",
       "      <td>1687971</td>\n",
       "      <td>NaN</td>\n",
       "    </tr>\n",
       "    <tr>\n",
       "      <th>six</th>\n",
       "      <td>421653</td>\n",
       "      <td>NaN</td>\n",
       "    </tr>\n",
       "  </tbody>\n",
       "</table>\n",
       "</div>"
      ],
      "text/plain": [
       "       population household\n",
       "one       1630428       NaN\n",
       "three     1687971       NaN\n",
       "six        421653       NaN"
      ]
     },
     "execution_count": 44,
     "metadata": {},
     "output_type": "execute_result"
    }
   ],
   "source": [
    "df2.loc[['one', 'three', 'six'], ['population', 'household']]"
   ]
  },
  {
   "cell_type": "code",
   "execution_count": 45,
   "metadata": {
    "colab": {
     "base_uri": "https://localhost:8080/",
     "height": 0
    },
    "colab_type": "code",
    "executionInfo": {
     "elapsed": 5097,
     "status": "ok",
     "timestamp": 1574402716603,
     "user": {
      "displayName": "Mac Sriyanong",
      "photoUrl": "https://lh3.googleusercontent.com/a-/AAuE7mBDcSOx-hT0L-jUf7ZECeaUL0zXgJ7UsQk5jreA9w=s64",
      "userId": "08392812212861704534"
     },
     "user_tz": -420
    },
    "id": "LTGh4R47KKe4",
    "outputId": "cf84f891-bf8c-4db6-d44f-2070c898c34e"
   },
   "outputs": [
    {
     "data": {
      "text/plain": [
       "year                2018\n",
       "province      Chiang Mai\n",
       "population       1687971\n",
       "household            NaN\n",
       "Name: three, dtype: object"
      ]
     },
     "execution_count": 45,
     "metadata": {},
     "output_type": "execute_result"
    }
   ],
   "source": [
    "df2.loc['three']"
   ]
  },
  {
   "cell_type": "code",
   "execution_count": 46,
   "metadata": {
    "colab": {
     "base_uri": "https://localhost:8080/",
     "height": 0
    },
    "colab_type": "code",
    "executionInfo": {
     "elapsed": 5088,
     "status": "ok",
     "timestamp": 1574402716603,
     "user": {
      "displayName": "Mac Sriyanong",
      "photoUrl": "https://lh3.googleusercontent.com/a-/AAuE7mBDcSOx-hT0L-jUf7ZECeaUL0zXgJ7UsQk5jreA9w=s64",
      "userId": "08392812212861704534"
     },
     "user_tz": -420
    },
    "id": "X_blZDvOKKe6",
    "outputId": "0ea4db33-3ed5-47e7-b43a-35cd2f2bb1d0"
   },
   "outputs": [
    {
     "data": {
      "text/plain": [
       "year                2018\n",
       "province      Chiang Mai\n",
       "population       1687971\n",
       "household            NaN\n",
       "Name: three, dtype: object"
      ]
     },
     "execution_count": 46,
     "metadata": {},
     "output_type": "execute_result"
    }
   ],
   "source": [
    "df2.loc['three', :]"
   ]
  },
  {
   "cell_type": "code",
   "execution_count": 47,
   "metadata": {
    "colab": {
     "base_uri": "https://localhost:8080/",
     "height": 0
    },
    "colab_type": "code",
    "executionInfo": {
     "elapsed": 5081,
     "status": "ok",
     "timestamp": 1574402716604,
     "user": {
      "displayName": "Mac Sriyanong",
      "photoUrl": "https://lh3.googleusercontent.com/a-/AAuE7mBDcSOx-hT0L-jUf7ZECeaUL0zXgJ7UsQk5jreA9w=s64",
      "userId": "08392812212861704534"
     },
     "user_tz": -420
    },
    "id": "6SU2T2CrKKe7",
    "outputId": "b20b06e3-a60a-40a1-fb02-7df4e9235128"
   },
   "outputs": [
    {
     "data": {
      "text/plain": [
       "one      1630428\n",
       "two      1664012\n",
       "three    1687971\n",
       "four      398936\n",
       "five      410382\n",
       "six       421653\n",
       "Name: population, dtype: int64"
      ]
     },
     "execution_count": 47,
     "metadata": {},
     "output_type": "execute_result"
    }
   ],
   "source": [
    "df2.loc[:,'population']"
   ]
  },
  {
   "cell_type": "code",
   "execution_count": 48,
   "metadata": {
    "colab": {},
    "colab_type": "code",
    "id": "gl_NVw7KKKe8"
   },
   "outputs": [],
   "source": [
    "df2.population += df2.year"
   ]
  },
  {
   "cell_type": "code",
   "execution_count": 49,
   "metadata": {
    "colab": {
     "base_uri": "https://localhost:8080/",
     "height": 0
    },
    "colab_type": "code",
    "executionInfo": {
     "elapsed": 5073,
     "status": "ok",
     "timestamp": 1574402716605,
     "user": {
      "displayName": "Mac Sriyanong",
      "photoUrl": "https://lh3.googleusercontent.com/a-/AAuE7mBDcSOx-hT0L-jUf7ZECeaUL0zXgJ7UsQk5jreA9w=s64",
      "userId": "08392812212861704534"
     },
     "user_tz": -420
    },
    "id": "QbdgUFTdavWj",
    "outputId": "66f4a29d-c499-4659-97dc-85fb5cf7d5c7"
   },
   "outputs": [
    {
     "data": {
      "text/html": [
       "<div>\n",
       "<style scoped>\n",
       "    .dataframe tbody tr th:only-of-type {\n",
       "        vertical-align: middle;\n",
       "    }\n",
       "\n",
       "    .dataframe tbody tr th {\n",
       "        vertical-align: top;\n",
       "    }\n",
       "\n",
       "    .dataframe thead th {\n",
       "        text-align: right;\n",
       "    }\n",
       "</style>\n",
       "<table border=\"1\" class=\"dataframe\">\n",
       "  <thead>\n",
       "    <tr style=\"text-align: right;\">\n",
       "      <th></th>\n",
       "      <th>year</th>\n",
       "      <th>province</th>\n",
       "      <th>population</th>\n",
       "      <th>household</th>\n",
       "    </tr>\n",
       "  </thead>\n",
       "  <tbody>\n",
       "    <tr>\n",
       "      <th>one</th>\n",
       "      <td>2016</td>\n",
       "      <td>Chiang Mai</td>\n",
       "      <td>1632444</td>\n",
       "      <td>NaN</td>\n",
       "    </tr>\n",
       "    <tr>\n",
       "      <th>two</th>\n",
       "      <td>2017</td>\n",
       "      <td>Chiang Mai</td>\n",
       "      <td>1666029</td>\n",
       "      <td>NaN</td>\n",
       "    </tr>\n",
       "    <tr>\n",
       "      <th>three</th>\n",
       "      <td>2018</td>\n",
       "      <td>Chiang Mai</td>\n",
       "      <td>1689989</td>\n",
       "      <td>NaN</td>\n",
       "    </tr>\n",
       "    <tr>\n",
       "      <th>four</th>\n",
       "      <td>2016</td>\n",
       "      <td>Phrae</td>\n",
       "      <td>400952</td>\n",
       "      <td>NaN</td>\n",
       "    </tr>\n",
       "    <tr>\n",
       "      <th>five</th>\n",
       "      <td>2017</td>\n",
       "      <td>Phrae</td>\n",
       "      <td>412399</td>\n",
       "      <td>NaN</td>\n",
       "    </tr>\n",
       "    <tr>\n",
       "      <th>six</th>\n",
       "      <td>2018</td>\n",
       "      <td>Phrae</td>\n",
       "      <td>423671</td>\n",
       "      <td>NaN</td>\n",
       "    </tr>\n",
       "  </tbody>\n",
       "</table>\n",
       "</div>"
      ],
      "text/plain": [
       "       year    province  population household\n",
       "one    2016  Chiang Mai     1632444       NaN\n",
       "two    2017  Chiang Mai     1666029       NaN\n",
       "three  2018  Chiang Mai     1689989       NaN\n",
       "four   2016       Phrae      400952       NaN\n",
       "five   2017       Phrae      412399       NaN\n",
       "six    2018       Phrae      423671       NaN"
      ]
     },
     "execution_count": 49,
     "metadata": {},
     "output_type": "execute_result"
    }
   ],
   "source": [
    "df2"
   ]
  },
  {
   "cell_type": "code",
   "execution_count": 50,
   "metadata": {
    "colab": {
     "base_uri": "https://localhost:8080/",
     "height": 0
    },
    "colab_type": "code",
    "executionInfo": {
     "elapsed": 5067,
     "status": "ok",
     "timestamp": 1574402716605,
     "user": {
      "displayName": "Mac Sriyanong",
      "photoUrl": "https://lh3.googleusercontent.com/a-/AAuE7mBDcSOx-hT0L-jUf7ZECeaUL0zXgJ7UsQk5jreA9w=s64",
      "userId": "08392812212861704534"
     },
     "user_tz": -420
    },
    "id": "DQniR1AfKKe9",
    "outputId": "023358ab-d9ec-40b8-cf9a-912ed705fdef"
   },
   "outputs": [
    {
     "data": {
      "text/html": [
       "<div>\n",
       "<style scoped>\n",
       "    .dataframe tbody tr th:only-of-type {\n",
       "        vertical-align: middle;\n",
       "    }\n",
       "\n",
       "    .dataframe tbody tr th {\n",
       "        vertical-align: top;\n",
       "    }\n",
       "\n",
       "    .dataframe thead th {\n",
       "        text-align: right;\n",
       "    }\n",
       "</style>\n",
       "<table border=\"1\" class=\"dataframe\">\n",
       "  <thead>\n",
       "    <tr style=\"text-align: right;\">\n",
       "      <th></th>\n",
       "      <th>year</th>\n",
       "      <th>province</th>\n",
       "      <th>population</th>\n",
       "      <th>household</th>\n",
       "    </tr>\n",
       "  </thead>\n",
       "  <tbody>\n",
       "    <tr>\n",
       "      <th>one</th>\n",
       "      <td>2016</td>\n",
       "      <td>Chiang Mai</td>\n",
       "      <td>1632444</td>\n",
       "      <td>NaN</td>\n",
       "    </tr>\n",
       "    <tr>\n",
       "      <th>two</th>\n",
       "      <td>2017</td>\n",
       "      <td>Chiang Mai</td>\n",
       "      <td>1666029</td>\n",
       "      <td>NaN</td>\n",
       "    </tr>\n",
       "    <tr>\n",
       "      <th>three</th>\n",
       "      <td>2018</td>\n",
       "      <td>Chiang Mai</td>\n",
       "      <td>1689989</td>\n",
       "      <td>NaN</td>\n",
       "    </tr>\n",
       "    <tr>\n",
       "      <th>four</th>\n",
       "      <td>2016</td>\n",
       "      <td>Phrae</td>\n",
       "      <td>400952</td>\n",
       "      <td>NaN</td>\n",
       "    </tr>\n",
       "    <tr>\n",
       "      <th>five</th>\n",
       "      <td>2017</td>\n",
       "      <td>Phrae</td>\n",
       "      <td>412399</td>\n",
       "      <td>NaN</td>\n",
       "    </tr>\n",
       "    <tr>\n",
       "      <th>six</th>\n",
       "      <td>2018</td>\n",
       "      <td>Phrae</td>\n",
       "      <td>423671</td>\n",
       "      <td>NaN</td>\n",
       "    </tr>\n",
       "  </tbody>\n",
       "</table>\n",
       "</div>"
      ],
      "text/plain": [
       "       year    province  population household\n",
       "one    2016  Chiang Mai     1632444       NaN\n",
       "two    2017  Chiang Mai     1666029       NaN\n",
       "three  2018  Chiang Mai     1689989       NaN\n",
       "four   2016       Phrae      400952       NaN\n",
       "five   2017       Phrae      412399       NaN\n",
       "six    2018       Phrae      423671       NaN"
      ]
     },
     "execution_count": 50,
     "metadata": {},
     "output_type": "execute_result"
    }
   ],
   "source": [
    "df2.loc[df2['household'] < 15, 'household'] = 10\n",
    "df2"
   ]
  },
  {
   "cell_type": "code",
   "execution_count": 51,
   "metadata": {
    "colab": {
     "base_uri": "https://localhost:8080/",
     "height": 0
    },
    "colab_type": "code",
    "executionInfo": {
     "elapsed": 5062,
     "status": "ok",
     "timestamp": 1574402716606,
     "user": {
      "displayName": "Mac Sriyanong",
      "photoUrl": "https://lh3.googleusercontent.com/a-/AAuE7mBDcSOx-hT0L-jUf7ZECeaUL0zXgJ7UsQk5jreA9w=s64",
      "userId": "08392812212861704534"
     },
     "user_tz": -420
    },
    "id": "gJn_h90iKKe_",
    "outputId": "abdb3f13-6225-40da-bbac-e32ada785c0a"
   },
   "outputs": [
    {
     "data": {
      "text/plain": [
       "year                2016\n",
       "province      Chiang Mai\n",
       "population       1632444\n",
       "household            NaN\n",
       "Name: one, dtype: object"
      ]
     },
     "execution_count": 51,
     "metadata": {},
     "output_type": "execute_result"
    }
   ],
   "source": [
    "df2.iloc[0]"
   ]
  },
  {
   "cell_type": "code",
   "execution_count": 52,
   "metadata": {
    "colab": {
     "base_uri": "https://localhost:8080/",
     "height": 0
    },
    "colab_type": "code",
    "executionInfo": {
     "elapsed": 5056,
     "status": "ok",
     "timestamp": 1574402716606,
     "user": {
      "displayName": "Mac Sriyanong",
      "photoUrl": "https://lh3.googleusercontent.com/a-/AAuE7mBDcSOx-hT0L-jUf7ZECeaUL0zXgJ7UsQk5jreA9w=s64",
      "userId": "08392812212861704534"
     },
     "user_tz": -420
    },
    "id": "bGr_dDowKKfA",
    "outputId": "45146eb8-574e-46a6-a610-ae98f6de54d2"
   },
   "outputs": [
    {
     "data": {
      "text/html": [
       "<div>\n",
       "<style scoped>\n",
       "    .dataframe tbody tr th:only-of-type {\n",
       "        vertical-align: middle;\n",
       "    }\n",
       "\n",
       "    .dataframe tbody tr th {\n",
       "        vertical-align: top;\n",
       "    }\n",
       "\n",
       "    .dataframe thead th {\n",
       "        text-align: right;\n",
       "    }\n",
       "</style>\n",
       "<table border=\"1\" class=\"dataframe\">\n",
       "  <thead>\n",
       "    <tr style=\"text-align: right;\">\n",
       "      <th></th>\n",
       "      <th>province</th>\n",
       "      <th>household</th>\n",
       "    </tr>\n",
       "  </thead>\n",
       "  <tbody>\n",
       "    <tr>\n",
       "      <th>one</th>\n",
       "      <td>Chiang Mai</td>\n",
       "      <td>NaN</td>\n",
       "    </tr>\n",
       "    <tr>\n",
       "      <th>two</th>\n",
       "      <td>Chiang Mai</td>\n",
       "      <td>NaN</td>\n",
       "    </tr>\n",
       "  </tbody>\n",
       "</table>\n",
       "</div>"
      ],
      "text/plain": [
       "       province household\n",
       "one  Chiang Mai       NaN\n",
       "two  Chiang Mai       NaN"
      ]
     },
     "execution_count": 52,
     "metadata": {},
     "output_type": "execute_result"
    }
   ],
   "source": [
    "df2.iloc[[0,1], [1, 3]]"
   ]
  },
  {
   "cell_type": "code",
   "execution_count": 53,
   "metadata": {
    "colab": {
     "base_uri": "https://localhost:8080/",
     "height": 0
    },
    "colab_type": "code",
    "executionInfo": {
     "elapsed": 5061,
     "status": "ok",
     "timestamp": 1574402716616,
     "user": {
      "displayName": "Mac Sriyanong",
      "photoUrl": "https://lh3.googleusercontent.com/a-/AAuE7mBDcSOx-hT0L-jUf7ZECeaUL0zXgJ7UsQk5jreA9w=s64",
      "userId": "08392812212861704534"
     },
     "user_tz": -420
    },
    "id": "_gnaIkVBKKfA",
    "outputId": "783b810a-a26c-4146-ea17-c42efe4bc9d5"
   },
   "outputs": [
    {
     "data": {
      "text/html": [
       "<div>\n",
       "<style scoped>\n",
       "    .dataframe tbody tr th:only-of-type {\n",
       "        vertical-align: middle;\n",
       "    }\n",
       "\n",
       "    .dataframe tbody tr th {\n",
       "        vertical-align: top;\n",
       "    }\n",
       "\n",
       "    .dataframe thead th {\n",
       "        text-align: right;\n",
       "    }\n",
       "</style>\n",
       "<table border=\"1\" class=\"dataframe\">\n",
       "  <thead>\n",
       "    <tr style=\"text-align: right;\">\n",
       "      <th></th>\n",
       "      <th>province</th>\n",
       "      <th>population</th>\n",
       "    </tr>\n",
       "  </thead>\n",
       "  <tbody>\n",
       "    <tr>\n",
       "      <th>one</th>\n",
       "      <td>Chiang Mai</td>\n",
       "      <td>1632444</td>\n",
       "    </tr>\n",
       "    <tr>\n",
       "      <th>two</th>\n",
       "      <td>Chiang Mai</td>\n",
       "      <td>1666029</td>\n",
       "    </tr>\n",
       "    <tr>\n",
       "      <th>three</th>\n",
       "      <td>Chiang Mai</td>\n",
       "      <td>1689989</td>\n",
       "    </tr>\n",
       "    <tr>\n",
       "      <th>four</th>\n",
       "      <td>Phrae</td>\n",
       "      <td>400952</td>\n",
       "    </tr>\n",
       "  </tbody>\n",
       "</table>\n",
       "</div>"
      ],
      "text/plain": [
       "         province  population\n",
       "one    Chiang Mai     1632444\n",
       "two    Chiang Mai     1666029\n",
       "three  Chiang Mai     1689989\n",
       "four        Phrae      400952"
      ]
     },
     "execution_count": 53,
     "metadata": {},
     "output_type": "execute_result"
    }
   ],
   "source": [
    "df2.iloc[:4, 1:3]"
   ]
  },
  {
   "cell_type": "markdown",
   "metadata": {
    "colab_type": "text",
    "id": "2lvAFXHJKKfC"
   },
   "source": [
    "## Arithmetic and Data Alignment\n",
    "An important pandas feature is the behavior of arithmteic between objects with different indexes.  The result will be the union of the index pairs."
   ]
  },
  {
   "cell_type": "code",
   "execution_count": 54,
   "metadata": {
    "colab": {
     "base_uri": "https://localhost:8080/",
     "height": 102
    },
    "colab_type": "code",
    "executionInfo": {
     "elapsed": 5052,
     "status": "ok",
     "timestamp": 1574402716617,
     "user": {
      "displayName": "Mac Sriyanong",
      "photoUrl": "https://lh3.googleusercontent.com/a-/AAuE7mBDcSOx-hT0L-jUf7ZECeaUL0zXgJ7UsQk5jreA9w=s64",
      "userId": "08392812212861704534"
     },
     "user_tz": -420
    },
    "id": "bqy7gazTKKfC",
    "outputId": "00853176-ad3e-476c-c426-5c3164ac87d7"
   },
   "outputs": [
    {
     "data": {
      "text/plain": [
       "d    4\n",
       "b    7\n",
       "a   -5\n",
       "c    3\n",
       "dtype: int64"
      ]
     },
     "execution_count": 54,
     "metadata": {},
     "output_type": "execute_result"
    }
   ],
   "source": [
    "s1 = pd.Series([4, 7, -5, 3], index=['d','b','a','c'])\n",
    "s1"
   ]
  },
  {
   "cell_type": "code",
   "execution_count": 55,
   "metadata": {
    "colab": {
     "base_uri": "https://localhost:8080/",
     "height": 85
    },
    "colab_type": "code",
    "executionInfo": {
     "elapsed": 5041,
     "status": "ok",
     "timestamp": 1574402716617,
     "user": {
      "displayName": "Mac Sriyanong",
      "photoUrl": "https://lh3.googleusercontent.com/a-/AAuE7mBDcSOx-hT0L-jUf7ZECeaUL0zXgJ7UsQk5jreA9w=s64",
      "userId": "08392812212861704534"
     },
     "user_tz": -420
    },
    "id": "0uQr8_JKKKfD",
    "outputId": "583711f4-1918-4b1a-ce02-fb1b92da218e"
   },
   "outputs": [
    {
     "data": {
      "text/plain": [
       "a    1\n",
       "c    0\n",
       "x    9\n",
       "dtype: int64"
      ]
     },
     "execution_count": 55,
     "metadata": {},
     "output_type": "execute_result"
    }
   ],
   "source": [
    "s2 = pd.Series([1, 0, 9], index=['a','c','x'])\n",
    "s2"
   ]
  },
  {
   "cell_type": "code",
   "execution_count": 56,
   "metadata": {
    "colab": {
     "base_uri": "https://localhost:8080/",
     "height": 119
    },
    "colab_type": "code",
    "executionInfo": {
     "elapsed": 5031,
     "status": "ok",
     "timestamp": 1574402716618,
     "user": {
      "displayName": "Mac Sriyanong",
      "photoUrl": "https://lh3.googleusercontent.com/a-/AAuE7mBDcSOx-hT0L-jUf7ZECeaUL0zXgJ7UsQk5jreA9w=s64",
      "userId": "08392812212861704534"
     },
     "user_tz": -420
    },
    "id": "moQ3rUxFKKfD",
    "outputId": "d2e087c8-7235-40cd-f9c6-0c837b2cda17"
   },
   "outputs": [
    {
     "data": {
      "text/plain": [
       "a   -4.0\n",
       "b    NaN\n",
       "c    3.0\n",
       "d    NaN\n",
       "x    NaN\n",
       "dtype: float64"
      ]
     },
     "execution_count": 56,
     "metadata": {},
     "output_type": "execute_result"
    }
   ],
   "source": [
    "s1 + s2"
   ]
  },
  {
   "cell_type": "markdown",
   "metadata": {
    "colab_type": "text",
    "id": "Cs_aanR6KKfE"
   },
   "source": [
    "This is also true for DataFrame"
   ]
  },
  {
   "cell_type": "markdown",
   "metadata": {
    "colab_type": "text",
    "id": "CjMU1P_4KKfK"
   },
   "source": [
    "### Arithmetic methods with fill values"
   ]
  },
  {
   "cell_type": "code",
   "execution_count": 57,
   "metadata": {
    "colab": {
     "base_uri": "https://localhost:8080/",
     "height": 0
    },
    "colab_type": "code",
    "executionInfo": {
     "elapsed": 4978,
     "status": "ok",
     "timestamp": 1574402716621,
     "user": {
      "displayName": "Mac Sriyanong",
      "photoUrl": "https://lh3.googleusercontent.com/a-/AAuE7mBDcSOx-hT0L-jUf7ZECeaUL0zXgJ7UsQk5jreA9w=s64",
      "userId": "08392812212861704534"
     },
     "user_tz": -420
    },
    "id": "K1q-1CrZKKfK",
    "outputId": "ef6cfe45-3632-4ae8-9da9-5896bbd7b2b0"
   },
   "outputs": [
    {
     "data": {
      "text/plain": [
       "a   -4.0\n",
       "b    7.0\n",
       "c    3.0\n",
       "d    4.0\n",
       "x    9.0\n",
       "dtype: float64"
      ]
     },
     "execution_count": 57,
     "metadata": {},
     "output_type": "execute_result"
    }
   ],
   "source": [
    "s1.add(s2, fill_value=0)"
   ]
  },
  {
   "cell_type": "markdown",
   "metadata": {
    "colab_type": "text",
    "id": "n9l8Sq9gKKfN"
   },
   "source": [
    "## Sorting"
   ]
  },
  {
   "cell_type": "code",
   "execution_count": 58,
   "metadata": {
    "colab": {
     "base_uri": "https://localhost:8080/",
     "height": 102
    },
    "colab_type": "code",
    "executionInfo": {
     "elapsed": 4969,
     "status": "ok",
     "timestamp": 1574402716621,
     "user": {
      "displayName": "Mac Sriyanong",
      "photoUrl": "https://lh3.googleusercontent.com/a-/AAuE7mBDcSOx-hT0L-jUf7ZECeaUL0zXgJ7UsQk5jreA9w=s64",
      "userId": "08392812212861704534"
     },
     "user_tz": -420
    },
    "id": "cJD_uPnGKKfN",
    "outputId": "85b56772-d80e-49d8-cf88-df9adb66e73a"
   },
   "outputs": [
    {
     "data": {
      "text/plain": [
       "d    4\n",
       "b    7\n",
       "a   -5\n",
       "c    3\n",
       "dtype: int64"
      ]
     },
     "execution_count": 58,
     "metadata": {},
     "output_type": "execute_result"
    }
   ],
   "source": [
    "s1 = pd.Series([4, 7, -5, 3], index=['d','b','a','c'])\n",
    "s1"
   ]
  },
  {
   "cell_type": "code",
   "execution_count": 59,
   "metadata": {
    "colab": {
     "base_uri": "https://localhost:8080/",
     "height": 102
    },
    "colab_type": "code",
    "executionInfo": {
     "elapsed": 4959,
     "status": "ok",
     "timestamp": 1574402716622,
     "user": {
      "displayName": "Mac Sriyanong",
      "photoUrl": "https://lh3.googleusercontent.com/a-/AAuE7mBDcSOx-hT0L-jUf7ZECeaUL0zXgJ7UsQk5jreA9w=s64",
      "userId": "08392812212861704534"
     },
     "user_tz": -420
    },
    "id": "dvkmZmMSKKfO",
    "outputId": "21048f19-f443-4f11-c1ca-99c84a90f993"
   },
   "outputs": [
    {
     "data": {
      "text/plain": [
       "a   -5\n",
       "b    7\n",
       "c    3\n",
       "d    4\n",
       "dtype: int64"
      ]
     },
     "execution_count": 59,
     "metadata": {},
     "output_type": "execute_result"
    }
   ],
   "source": [
    "s1.sort_index()"
   ]
  },
  {
   "cell_type": "code",
   "execution_count": 60,
   "metadata": {
    "colab": {
     "base_uri": "https://localhost:8080/",
     "height": 102
    },
    "colab_type": "code",
    "executionInfo": {
     "elapsed": 4948,
     "status": "ok",
     "timestamp": 1574402716622,
     "user": {
      "displayName": "Mac Sriyanong",
      "photoUrl": "https://lh3.googleusercontent.com/a-/AAuE7mBDcSOx-hT0L-jUf7ZECeaUL0zXgJ7UsQk5jreA9w=s64",
      "userId": "08392812212861704534"
     },
     "user_tz": -420
    },
    "id": "MYYuZOZdKKfP",
    "outputId": "2bb521b7-c84d-4e9a-ffc2-7ae7f6f907c8"
   },
   "outputs": [
    {
     "data": {
      "text/plain": [
       "a   -5\n",
       "c    3\n",
       "d    4\n",
       "b    7\n",
       "dtype: int64"
      ]
     },
     "execution_count": 60,
     "metadata": {},
     "output_type": "execute_result"
    }
   ],
   "source": [
    "s1.sort_values()"
   ]
  },
  {
   "cell_type": "code",
   "execution_count": 61,
   "metadata": {
    "colab": {},
    "colab_type": "code",
    "id": "IbM_taXCKKfQ"
   },
   "outputs": [],
   "source": [
    "s1['c'] = np.NaN"
   ]
  },
  {
   "cell_type": "code",
   "execution_count": 62,
   "metadata": {
    "colab": {
     "base_uri": "https://localhost:8080/",
     "height": 102
    },
    "colab_type": "code",
    "executionInfo": {
     "elapsed": 4935,
     "status": "ok",
     "timestamp": 1574402716623,
     "user": {
      "displayName": "Mac Sriyanong",
      "photoUrl": "https://lh3.googleusercontent.com/a-/AAuE7mBDcSOx-hT0L-jUf7ZECeaUL0zXgJ7UsQk5jreA9w=s64",
      "userId": "08392812212861704534"
     },
     "user_tz": -420
    },
    "id": "k9o9ICndKKfU",
    "outputId": "e253c715-b0fd-4011-f6e9-a60cb9df6a54"
   },
   "outputs": [
    {
     "data": {
      "text/plain": [
       "d    4.0\n",
       "b    7.0\n",
       "a   -5.0\n",
       "c    NaN\n",
       "dtype: float64"
      ]
     },
     "execution_count": 62,
     "metadata": {},
     "output_type": "execute_result"
    }
   ],
   "source": [
    "s1"
   ]
  },
  {
   "cell_type": "code",
   "execution_count": 77,
   "metadata": {
    "colab": {
     "base_uri": "https://localhost:8080/",
     "height": 102
    },
    "colab_type": "code",
    "executionInfo": {
     "elapsed": 5579,
     "status": "ok",
     "timestamp": 1574402717278,
     "user": {
      "displayName": "Mac Sriyanong",
      "photoUrl": "https://lh3.googleusercontent.com/a-/AAuE7mBDcSOx-hT0L-jUf7ZECeaUL0zXgJ7UsQk5jreA9w=s64",
      "userId": "08392812212861704534"
     },
     "user_tz": -420
    },
    "id": "LZ8sf6pWKKfV",
    "outputId": "d3d7bbe6-ec4b-4e6e-a95b-7021ddd71339"
   },
   "outputs": [
    {
     "data": {
      "text/plain": [
       "a   -5.0\n",
       "d    4.0\n",
       "b    7.0\n",
       "c    NaN\n",
       "dtype: float64"
      ]
     },
     "execution_count": 77,
     "metadata": {},
     "output_type": "execute_result"
    }
   ],
   "source": [
    "s1.sort_values()"
   ]
  },
  {
   "cell_type": "code",
   "execution_count": 78,
   "metadata": {},
   "outputs": [
    {
     "data": {
      "text/html": [
       "<div>\n",
       "<style scoped>\n",
       "    .dataframe tbody tr th:only-of-type {\n",
       "        vertical-align: middle;\n",
       "    }\n",
       "\n",
       "    .dataframe tbody tr th {\n",
       "        vertical-align: top;\n",
       "    }\n",
       "\n",
       "    .dataframe thead th {\n",
       "        text-align: right;\n",
       "    }\n",
       "</style>\n",
       "<table border=\"1\" class=\"dataframe\">\n",
       "  <thead>\n",
       "    <tr style=\"text-align: right;\">\n",
       "      <th></th>\n",
       "      <th>year</th>\n",
       "      <th>province</th>\n",
       "      <th>population</th>\n",
       "      <th>household</th>\n",
       "    </tr>\n",
       "  </thead>\n",
       "  <tbody>\n",
       "    <tr>\n",
       "      <th>one</th>\n",
       "      <td>2016</td>\n",
       "      <td>Chiang Mai</td>\n",
       "      <td>1632444</td>\n",
       "      <td>NaN</td>\n",
       "    </tr>\n",
       "    <tr>\n",
       "      <th>two</th>\n",
       "      <td>2017</td>\n",
       "      <td>Chiang Mai</td>\n",
       "      <td>1666029</td>\n",
       "      <td>NaN</td>\n",
       "    </tr>\n",
       "    <tr>\n",
       "      <th>three</th>\n",
       "      <td>2018</td>\n",
       "      <td>Chiang Mai</td>\n",
       "      <td>1689989</td>\n",
       "      <td>NaN</td>\n",
       "    </tr>\n",
       "    <tr>\n",
       "      <th>four</th>\n",
       "      <td>2016</td>\n",
       "      <td>Phrae</td>\n",
       "      <td>400952</td>\n",
       "      <td>NaN</td>\n",
       "    </tr>\n",
       "    <tr>\n",
       "      <th>five</th>\n",
       "      <td>2017</td>\n",
       "      <td>Phrae</td>\n",
       "      <td>412399</td>\n",
       "      <td>NaN</td>\n",
       "    </tr>\n",
       "    <tr>\n",
       "      <th>six</th>\n",
       "      <td>2018</td>\n",
       "      <td>Phrae</td>\n",
       "      <td>423671</td>\n",
       "      <td>NaN</td>\n",
       "    </tr>\n",
       "  </tbody>\n",
       "</table>\n",
       "</div>"
      ],
      "text/plain": [
       "       year    province  population household\n",
       "one    2016  Chiang Mai     1632444       NaN\n",
       "two    2017  Chiang Mai     1666029       NaN\n",
       "three  2018  Chiang Mai     1689989       NaN\n",
       "four   2016       Phrae      400952       NaN\n",
       "five   2017       Phrae      412399       NaN\n",
       "six    2018       Phrae      423671       NaN"
      ]
     },
     "execution_count": 78,
     "metadata": {},
     "output_type": "execute_result"
    }
   ],
   "source": [
    "df2"
   ]
  },
  {
   "cell_type": "code",
   "execution_count": null,
   "metadata": {},
   "outputs": [],
   "source": [
    "df2.sort_values(\"pop\")"
   ]
  },
  {
   "cell_type": "markdown",
   "metadata": {
    "colab_type": "text",
    "id": "aC3yA_8DKKfX"
   },
   "source": [
    "## Summarizing and Desciptive Statistics"
   ]
  },
  {
   "cell_type": "code",
   "execution_count": 64,
   "metadata": {
    "colab": {
     "base_uri": "https://localhost:8080/",
     "height": 235
    },
    "colab_type": "code",
    "executionInfo": {
     "elapsed": 5548,
     "status": "ok",
     "timestamp": 1574402717281,
     "user": {
      "displayName": "Mac Sriyanong",
      "photoUrl": "https://lh3.googleusercontent.com/a-/AAuE7mBDcSOx-hT0L-jUf7ZECeaUL0zXgJ7UsQk5jreA9w=s64",
      "userId": "08392812212861704534"
     },
     "user_tz": -420
    },
    "id": "xuIYoydWKKfY",
    "outputId": "31635b68-cc64-4efc-c28e-b605374c758b"
   },
   "outputs": [
    {
     "data": {
      "text/html": [
       "<div>\n",
       "<style scoped>\n",
       "    .dataframe tbody tr th:only-of-type {\n",
       "        vertical-align: middle;\n",
       "    }\n",
       "\n",
       "    .dataframe tbody tr th {\n",
       "        vertical-align: top;\n",
       "    }\n",
       "\n",
       "    .dataframe thead th {\n",
       "        text-align: right;\n",
       "    }\n",
       "</style>\n",
       "<table border=\"1\" class=\"dataframe\">\n",
       "  <thead>\n",
       "    <tr style=\"text-align: right;\">\n",
       "      <th></th>\n",
       "      <th>year</th>\n",
       "      <th>province</th>\n",
       "      <th>population</th>\n",
       "      <th>household</th>\n",
       "    </tr>\n",
       "  </thead>\n",
       "  <tbody>\n",
       "    <tr>\n",
       "      <th>one</th>\n",
       "      <td>2016</td>\n",
       "      <td>Chiang Mai</td>\n",
       "      <td>1632444</td>\n",
       "      <td>NaN</td>\n",
       "    </tr>\n",
       "    <tr>\n",
       "      <th>two</th>\n",
       "      <td>2017</td>\n",
       "      <td>Chiang Mai</td>\n",
       "      <td>1666029</td>\n",
       "      <td>NaN</td>\n",
       "    </tr>\n",
       "    <tr>\n",
       "      <th>three</th>\n",
       "      <td>2018</td>\n",
       "      <td>Chiang Mai</td>\n",
       "      <td>1689989</td>\n",
       "      <td>NaN</td>\n",
       "    </tr>\n",
       "    <tr>\n",
       "      <th>four</th>\n",
       "      <td>2016</td>\n",
       "      <td>Phrae</td>\n",
       "      <td>400952</td>\n",
       "      <td>NaN</td>\n",
       "    </tr>\n",
       "    <tr>\n",
       "      <th>five</th>\n",
       "      <td>2017</td>\n",
       "      <td>Phrae</td>\n",
       "      <td>412399</td>\n",
       "      <td>NaN</td>\n",
       "    </tr>\n",
       "    <tr>\n",
       "      <th>six</th>\n",
       "      <td>2018</td>\n",
       "      <td>Phrae</td>\n",
       "      <td>423671</td>\n",
       "      <td>NaN</td>\n",
       "    </tr>\n",
       "  </tbody>\n",
       "</table>\n",
       "</div>"
      ],
      "text/plain": [
       "       year    province  population household\n",
       "one    2016  Chiang Mai     1632444       NaN\n",
       "two    2017  Chiang Mai     1666029       NaN\n",
       "three  2018  Chiang Mai     1689989       NaN\n",
       "four   2016       Phrae      400952       NaN\n",
       "five   2017       Phrae      412399       NaN\n",
       "six    2018       Phrae      423671       NaN"
      ]
     },
     "execution_count": 64,
     "metadata": {},
     "output_type": "execute_result"
    }
   ],
   "source": [
    "df2"
   ]
  },
  {
   "cell_type": "code",
   "execution_count": 65,
   "metadata": {
    "colab": {
     "base_uri": "https://localhost:8080/",
     "height": 34
    },
    "colab_type": "code",
    "executionInfo": {
     "elapsed": 3780,
     "status": "ok",
     "timestamp": 1574395380507,
     "user": {
      "displayName": "Mac Sriyanong",
      "photoUrl": "https://lh3.googleusercontent.com/a-/AAuE7mBDcSOx-hT0L-jUf7ZECeaUL0zXgJ7UsQk5jreA9w=s64",
      "userId": "08392812212861704534"
     },
     "user_tz": -420
    },
    "id": "xZJXIP4xKKfZ",
    "outputId": "0d3fe145-890c-4101-8d06-b8c44c7139b3"
   },
   "outputs": [
    {
     "data": {
      "text/plain": [
       "(6, 4)"
      ]
     },
     "execution_count": 65,
     "metadata": {},
     "output_type": "execute_result"
    }
   ],
   "source": [
    "df2.shape"
   ]
  },
  {
   "cell_type": "code",
   "execution_count": 66,
   "metadata": {
    "colab": {
     "base_uri": "https://localhost:8080/",
     "height": 102
    },
    "colab_type": "code",
    "executionInfo": {
     "elapsed": 3777,
     "status": "ok",
     "timestamp": 1574395380507,
     "user": {
      "displayName": "Mac Sriyanong",
      "photoUrl": "https://lh3.googleusercontent.com/a-/AAuE7mBDcSOx-hT0L-jUf7ZECeaUL0zXgJ7UsQk5jreA9w=s64",
      "userId": "08392812212861704534"
     },
     "user_tz": -420
    },
    "id": "uZjlcpZEKKfa",
    "outputId": "ff634526-c58a-45a2-b4c7-30bb74f0136b"
   },
   "outputs": [
    {
     "data": {
      "text/plain": [
       "year          6\n",
       "province      6\n",
       "population    6\n",
       "household     0\n",
       "dtype: int64"
      ]
     },
     "execution_count": 66,
     "metadata": {},
     "output_type": "execute_result"
    }
   ],
   "source": [
    "df2.count()"
   ]
  },
  {
   "cell_type": "code",
   "execution_count": 67,
   "metadata": {
    "colab": {
     "base_uri": "https://localhost:8080/",
     "height": 102
    },
    "colab_type": "code",
    "executionInfo": {
     "elapsed": 3777,
     "status": "ok",
     "timestamp": 1574395380508,
     "user": {
      "displayName": "Mac Sriyanong",
      "photoUrl": "https://lh3.googleusercontent.com/a-/AAuE7mBDcSOx-hT0L-jUf7ZECeaUL0zXgJ7UsQk5jreA9w=s64",
      "userId": "08392812212861704534"
     },
     "user_tz": -420
    },
    "id": "kUECt41bKKfb",
    "outputId": "abed4c71-c5db-4911-8b67-60add34a83e6"
   },
   "outputs": [
    {
     "data": {
      "text/plain": [
       "year                2016\n",
       "province      Chiang Mai\n",
       "population        400952\n",
       "household           None\n",
       "dtype: object"
      ]
     },
     "execution_count": 67,
     "metadata": {},
     "output_type": "execute_result"
    }
   ],
   "source": [
    "df2.min()"
   ]
  },
  {
   "cell_type": "code",
   "execution_count": 68,
   "metadata": {
    "colab": {
     "base_uri": "https://localhost:8080/",
     "height": 102
    },
    "colab_type": "code",
    "executionInfo": {
     "elapsed": 3775,
     "status": "ok",
     "timestamp": 1574395380508,
     "user": {
      "displayName": "Mac Sriyanong",
      "photoUrl": "https://lh3.googleusercontent.com/a-/AAuE7mBDcSOx-hT0L-jUf7ZECeaUL0zXgJ7UsQk5jreA9w=s64",
      "userId": "08392812212861704534"
     },
     "user_tz": -420
    },
    "id": "u9dJQHOtKKfc",
    "outputId": "7dc95a96-03cf-45d9-9be1-46063578fb97"
   },
   "outputs": [
    {
     "data": {
      "text/plain": [
       "year             2018\n",
       "province        Phrae\n",
       "population    1689989\n",
       "household        None\n",
       "dtype: object"
      ]
     },
     "execution_count": 68,
     "metadata": {},
     "output_type": "execute_result"
    }
   ],
   "source": [
    "df2.max()"
   ]
  },
  {
   "cell_type": "code",
   "execution_count": 69,
   "metadata": {
    "colab": {
     "base_uri": "https://localhost:8080/",
     "height": 102
    },
    "colab_type": "code",
    "executionInfo": {
     "elapsed": 1005,
     "status": "ok",
     "timestamp": 1574402846287,
     "user": {
      "displayName": "Mac Sriyanong",
      "photoUrl": "https://lh3.googleusercontent.com/a-/AAuE7mBDcSOx-hT0L-jUf7ZECeaUL0zXgJ7UsQk5jreA9w=s64",
      "userId": "08392812212861704534"
     },
     "user_tz": -420
    },
    "id": "UxPCafGDKKfd",
    "outputId": "52a1ff7c-4f18-46fe-9b2a-23b1e60400e2"
   },
   "outputs": [
    {
     "data": {
      "text/plain": [
       "year                                                  12102\n",
       "province      Chiang MaiChiang MaiChiang MaiPhraePhraePhrae\n",
       "population                                          6225484\n",
       "household                                                 0\n",
       "dtype: object"
      ]
     },
     "execution_count": 69,
     "metadata": {},
     "output_type": "execute_result"
    }
   ],
   "source": [
    "df2.sum()"
   ]
  },
  {
   "cell_type": "code",
   "execution_count": 70,
   "metadata": {
    "colab": {
     "base_uri": "https://localhost:8080/",
     "height": 235
    },
    "colab_type": "code",
    "executionInfo": {
     "elapsed": 1140,
     "status": "ok",
     "timestamp": 1574402851149,
     "user": {
      "displayName": "Mac Sriyanong",
      "photoUrl": "https://lh3.googleusercontent.com/a-/AAuE7mBDcSOx-hT0L-jUf7ZECeaUL0zXgJ7UsQk5jreA9w=s64",
      "userId": "08392812212861704534"
     },
     "user_tz": -420
    },
    "id": "_KRyW6cJuOmk",
    "outputId": "ffabe3fe-4a74-4701-e616-150978ac8ef1"
   },
   "outputs": [
    {
     "data": {
      "text/html": [
       "<div>\n",
       "<style scoped>\n",
       "    .dataframe tbody tr th:only-of-type {\n",
       "        vertical-align: middle;\n",
       "    }\n",
       "\n",
       "    .dataframe tbody tr th {\n",
       "        vertical-align: top;\n",
       "    }\n",
       "\n",
       "    .dataframe thead th {\n",
       "        text-align: right;\n",
       "    }\n",
       "</style>\n",
       "<table border=\"1\" class=\"dataframe\">\n",
       "  <thead>\n",
       "    <tr style=\"text-align: right;\">\n",
       "      <th></th>\n",
       "      <th>year</th>\n",
       "      <th>province</th>\n",
       "      <th>population</th>\n",
       "      <th>household</th>\n",
       "    </tr>\n",
       "  </thead>\n",
       "  <tbody>\n",
       "    <tr>\n",
       "      <th>one</th>\n",
       "      <td>2016</td>\n",
       "      <td>Chiang Mai</td>\n",
       "      <td>1632444</td>\n",
       "      <td>NaN</td>\n",
       "    </tr>\n",
       "    <tr>\n",
       "      <th>two</th>\n",
       "      <td>2017</td>\n",
       "      <td>Chiang Mai</td>\n",
       "      <td>1666029</td>\n",
       "      <td>NaN</td>\n",
       "    </tr>\n",
       "    <tr>\n",
       "      <th>three</th>\n",
       "      <td>2018</td>\n",
       "      <td>Chiang Mai</td>\n",
       "      <td>1689989</td>\n",
       "      <td>NaN</td>\n",
       "    </tr>\n",
       "    <tr>\n",
       "      <th>four</th>\n",
       "      <td>2016</td>\n",
       "      <td>Phrae</td>\n",
       "      <td>400952</td>\n",
       "      <td>NaN</td>\n",
       "    </tr>\n",
       "    <tr>\n",
       "      <th>five</th>\n",
       "      <td>2017</td>\n",
       "      <td>Phrae</td>\n",
       "      <td>412399</td>\n",
       "      <td>NaN</td>\n",
       "    </tr>\n",
       "    <tr>\n",
       "      <th>six</th>\n",
       "      <td>2018</td>\n",
       "      <td>Phrae</td>\n",
       "      <td>423671</td>\n",
       "      <td>NaN</td>\n",
       "    </tr>\n",
       "  </tbody>\n",
       "</table>\n",
       "</div>"
      ],
      "text/plain": [
       "       year    province  population household\n",
       "one    2016  Chiang Mai     1632444       NaN\n",
       "two    2017  Chiang Mai     1666029       NaN\n",
       "three  2018  Chiang Mai     1689989       NaN\n",
       "four   2016       Phrae      400952       NaN\n",
       "five   2017       Phrae      412399       NaN\n",
       "six    2018       Phrae      423671       NaN"
      ]
     },
     "execution_count": 70,
     "metadata": {},
     "output_type": "execute_result"
    }
   ],
   "source": [
    "df2"
   ]
  },
  {
   "cell_type": "code",
   "execution_count": 71,
   "metadata": {
    "colab": {
     "base_uri": "https://localhost:8080/",
     "height": 136
    },
    "colab_type": "code",
    "executionInfo": {
     "elapsed": 3773,
     "status": "ok",
     "timestamp": 1574395380510,
     "user": {
      "displayName": "Mac Sriyanong",
      "photoUrl": "https://lh3.googleusercontent.com/a-/AAuE7mBDcSOx-hT0L-jUf7ZECeaUL0zXgJ7UsQk5jreA9w=s64",
      "userId": "08392812212861704534"
     },
     "user_tz": -420
    },
    "id": "TrOd96NBKKfe",
    "outputId": "dc474d6e-58fc-409e-8f5e-cf25d91f221f"
   },
   "outputs": [
    {
     "data": {
      "text/plain": [
       "one      1634460\n",
       "two      1668046\n",
       "three    1692007\n",
       "four      402968\n",
       "five      414416\n",
       "six       425689\n",
       "dtype: int64"
      ]
     },
     "execution_count": 71,
     "metadata": {},
     "output_type": "execute_result"
    }
   ],
   "source": [
    "df2.sum(axis='columns')"
   ]
  },
  {
   "cell_type": "code",
   "execution_count": 72,
   "metadata": {
    "colab": {
     "base_uri": "https://localhost:8080/",
     "height": 85
    },
    "colab_type": "code",
    "executionInfo": {
     "elapsed": 3771,
     "status": "ok",
     "timestamp": 1574395380510,
     "user": {
      "displayName": "Mac Sriyanong",
      "photoUrl": "https://lh3.googleusercontent.com/a-/AAuE7mBDcSOx-hT0L-jUf7ZECeaUL0zXgJ7UsQk5jreA9w=s64",
      "userId": "08392812212861704534"
     },
     "user_tz": -420
    },
    "id": "1GAtJBfIKKfe",
    "outputId": "a0a868c7-008b-4386-db85-fd0587b4f90b"
   },
   "outputs": [
    {
     "data": {
      "text/plain": [
       "year          2.017000e+03\n",
       "population    1.037581e+06\n",
       "household              NaN\n",
       "dtype: float64"
      ]
     },
     "execution_count": 72,
     "metadata": {},
     "output_type": "execute_result"
    }
   ],
   "source": [
    "df2.mean()"
   ]
  },
  {
   "cell_type": "code",
   "execution_count": 73,
   "metadata": {
    "colab": {
     "base_uri": "https://localhost:8080/",
     "height": 297
    },
    "colab_type": "code",
    "executionInfo": {
     "elapsed": 3771,
     "status": "ok",
     "timestamp": 1574395380511,
     "user": {
      "displayName": "Mac Sriyanong",
      "photoUrl": "https://lh3.googleusercontent.com/a-/AAuE7mBDcSOx-hT0L-jUf7ZECeaUL0zXgJ7UsQk5jreA9w=s64",
      "userId": "08392812212861704534"
     },
     "user_tz": -420
    },
    "id": "rRM5P0DSKKff",
    "outputId": "e24e7619-bc70-482c-91db-66571373809f"
   },
   "outputs": [
    {
     "data": {
      "text/html": [
       "<div>\n",
       "<style scoped>\n",
       "    .dataframe tbody tr th:only-of-type {\n",
       "        vertical-align: middle;\n",
       "    }\n",
       "\n",
       "    .dataframe tbody tr th {\n",
       "        vertical-align: top;\n",
       "    }\n",
       "\n",
       "    .dataframe thead th {\n",
       "        text-align: right;\n",
       "    }\n",
       "</style>\n",
       "<table border=\"1\" class=\"dataframe\">\n",
       "  <thead>\n",
       "    <tr style=\"text-align: right;\">\n",
       "      <th></th>\n",
       "      <th>year</th>\n",
       "      <th>population</th>\n",
       "    </tr>\n",
       "  </thead>\n",
       "  <tbody>\n",
       "    <tr>\n",
       "      <th>count</th>\n",
       "      <td>6.000000</td>\n",
       "      <td>6.000000e+00</td>\n",
       "    </tr>\n",
       "    <tr>\n",
       "      <th>mean</th>\n",
       "      <td>2017.000000</td>\n",
       "      <td>1.037581e+06</td>\n",
       "    </tr>\n",
       "    <tr>\n",
       "      <th>std</th>\n",
       "      <td>0.894427</td>\n",
       "      <td>6.851977e+05</td>\n",
       "    </tr>\n",
       "    <tr>\n",
       "      <th>min</th>\n",
       "      <td>2016.000000</td>\n",
       "      <td>4.009520e+05</td>\n",
       "    </tr>\n",
       "    <tr>\n",
       "      <th>25%</th>\n",
       "      <td>2016.250000</td>\n",
       "      <td>4.152170e+05</td>\n",
       "    </tr>\n",
       "    <tr>\n",
       "      <th>50%</th>\n",
       "      <td>2017.000000</td>\n",
       "      <td>1.028058e+06</td>\n",
       "    </tr>\n",
       "    <tr>\n",
       "      <th>75%</th>\n",
       "      <td>2017.750000</td>\n",
       "      <td>1.657633e+06</td>\n",
       "    </tr>\n",
       "    <tr>\n",
       "      <th>max</th>\n",
       "      <td>2018.000000</td>\n",
       "      <td>1.689989e+06</td>\n",
       "    </tr>\n",
       "  </tbody>\n",
       "</table>\n",
       "</div>"
      ],
      "text/plain": [
       "              year    population\n",
       "count     6.000000  6.000000e+00\n",
       "mean   2017.000000  1.037581e+06\n",
       "std       0.894427  6.851977e+05\n",
       "min    2016.000000  4.009520e+05\n",
       "25%    2016.250000  4.152170e+05\n",
       "50%    2017.000000  1.028058e+06\n",
       "75%    2017.750000  1.657633e+06\n",
       "max    2018.000000  1.689989e+06"
      ]
     },
     "execution_count": 73,
     "metadata": {},
     "output_type": "execute_result"
    }
   ],
   "source": [
    "df2.describe()"
   ]
  },
  {
   "cell_type": "code",
   "execution_count": 74,
   "metadata": {
    "colab": {
     "base_uri": "https://localhost:8080/",
     "height": 235
    },
    "colab_type": "code",
    "executionInfo": {
     "elapsed": 3769,
     "status": "ok",
     "timestamp": 1574395380511,
     "user": {
      "displayName": "Mac Sriyanong",
      "photoUrl": "https://lh3.googleusercontent.com/a-/AAuE7mBDcSOx-hT0L-jUf7ZECeaUL0zXgJ7UsQk5jreA9w=s64",
      "userId": "08392812212861704534"
     },
     "user_tz": -420
    },
    "id": "S7LZDsK2KKfg",
    "outputId": "aa7908ab-e7d2-4a6f-e05b-2ba14c9ca41a"
   },
   "outputs": [
    {
     "data": {
      "text/html": [
       "<div>\n",
       "<style scoped>\n",
       "    .dataframe tbody tr th:only-of-type {\n",
       "        vertical-align: middle;\n",
       "    }\n",
       "\n",
       "    .dataframe tbody tr th {\n",
       "        vertical-align: top;\n",
       "    }\n",
       "\n",
       "    .dataframe thead th {\n",
       "        text-align: right;\n",
       "    }\n",
       "</style>\n",
       "<table border=\"1\" class=\"dataframe\">\n",
       "  <thead>\n",
       "    <tr style=\"text-align: right;\">\n",
       "      <th></th>\n",
       "      <th>year</th>\n",
       "      <th>province</th>\n",
       "      <th>population</th>\n",
       "      <th>household</th>\n",
       "    </tr>\n",
       "  </thead>\n",
       "  <tbody>\n",
       "    <tr>\n",
       "      <th>one</th>\n",
       "      <td>2016</td>\n",
       "      <td>Chiang Mai</td>\n",
       "      <td>1632444</td>\n",
       "      <td>NaN</td>\n",
       "    </tr>\n",
       "    <tr>\n",
       "      <th>two</th>\n",
       "      <td>2017</td>\n",
       "      <td>Chiang Mai</td>\n",
       "      <td>1666029</td>\n",
       "      <td>NaN</td>\n",
       "    </tr>\n",
       "    <tr>\n",
       "      <th>three</th>\n",
       "      <td>2018</td>\n",
       "      <td>Chiang Mai</td>\n",
       "      <td>1689989</td>\n",
       "      <td>NaN</td>\n",
       "    </tr>\n",
       "    <tr>\n",
       "      <th>four</th>\n",
       "      <td>2016</td>\n",
       "      <td>Phrae</td>\n",
       "      <td>400952</td>\n",
       "      <td>NaN</td>\n",
       "    </tr>\n",
       "    <tr>\n",
       "      <th>five</th>\n",
       "      <td>2017</td>\n",
       "      <td>Phrae</td>\n",
       "      <td>412399</td>\n",
       "      <td>NaN</td>\n",
       "    </tr>\n",
       "    <tr>\n",
       "      <th>six</th>\n",
       "      <td>2018</td>\n",
       "      <td>Phrae</td>\n",
       "      <td>423671</td>\n",
       "      <td>NaN</td>\n",
       "    </tr>\n",
       "  </tbody>\n",
       "</table>\n",
       "</div>"
      ],
      "text/plain": [
       "       year    province  population household\n",
       "one    2016  Chiang Mai     1632444       NaN\n",
       "two    2017  Chiang Mai     1666029       NaN\n",
       "three  2018  Chiang Mai     1689989       NaN\n",
       "four   2016       Phrae      400952       NaN\n",
       "five   2017       Phrae      412399       NaN\n",
       "six    2018       Phrae      423671       NaN"
      ]
     },
     "execution_count": 74,
     "metadata": {},
     "output_type": "execute_result"
    }
   ],
   "source": [
    "df2"
   ]
  },
  {
   "cell_type": "code",
   "execution_count": 75,
   "metadata": {
    "colab": {
     "base_uri": "https://localhost:8080/",
     "height": 85
    },
    "colab_type": "code",
    "executionInfo": {
     "elapsed": 1069,
     "status": "ok",
     "timestamp": 1574402888819,
     "user": {
      "displayName": "Mac Sriyanong",
      "photoUrl": "https://lh3.googleusercontent.com/a-/AAuE7mBDcSOx-hT0L-jUf7ZECeaUL0zXgJ7UsQk5jreA9w=s64",
      "userId": "08392812212861704534"
     },
     "user_tz": -420
    },
    "id": "W880zXuZKKfg",
    "outputId": "8d3b1787-87de-40bf-b15b-0d82bb1c61e9"
   },
   "outputs": [
    {
     "data": {
      "text/plain": [
       "2018    2\n",
       "2017    2\n",
       "2016    2\n",
       "Name: year, dtype: int64"
      ]
     },
     "execution_count": 75,
     "metadata": {},
     "output_type": "execute_result"
    }
   ],
   "source": [
    "df2.year.value_counts()"
   ]
  },
  {
   "cell_type": "code",
   "execution_count": 76,
   "metadata": {
    "colab": {
     "base_uri": "https://localhost:8080/",
     "height": 68
    },
    "colab_type": "code",
    "executionInfo": {
     "elapsed": 915,
     "status": "ok",
     "timestamp": 1574402901117,
     "user": {
      "displayName": "Mac Sriyanong",
      "photoUrl": "https://lh3.googleusercontent.com/a-/AAuE7mBDcSOx-hT0L-jUf7ZECeaUL0zXgJ7UsQk5jreA9w=s64",
      "userId": "08392812212861704534"
     },
     "user_tz": -420
    },
    "id": "5LATis9TuY-4",
    "outputId": "59f099da-dbcc-42dc-dc11-f5178b49718f"
   },
   "outputs": [
    {
     "data": {
      "text/plain": [
       "Chiang Mai    3\n",
       "Phrae         3\n",
       "Name: province, dtype: int64"
      ]
     },
     "execution_count": 76,
     "metadata": {},
     "output_type": "execute_result"
    }
   ],
   "source": [
    "df2.province.value_counts()"
   ]
  }
 ],
 "metadata": {
  "colab": {
   "name": "Copy of 2 - Basic Pandas.ipynb",
   "provenance": [
    {
     "file_id": "1JJO9WUjkVf6UHliVBsWf5aVQvsZQ23fZ",
     "timestamp": 1574393402155
    }
   ]
  },
  "kernelspec": {
   "display_name": "Python 3",
   "language": "python",
   "name": "python3"
  },
  "language_info": {
   "codemirror_mode": {
    "name": "ipython",
    "version": 3
   },
   "file_extension": ".py",
   "mimetype": "text/x-python",
   "name": "python",
   "nbconvert_exporter": "python",
   "pygments_lexer": "ipython3",
   "version": "3.7.3"
  },
  "varInspector": {
   "cols": {
    "lenName": 16,
    "lenType": 16,
    "lenVar": 40
   },
   "kernels_config": {
    "python": {
     "delete_cmd_postfix": "",
     "delete_cmd_prefix": "del ",
     "library": "var_list.py",
     "varRefreshCmd": "print(var_dic_list())"
    },
    "r": {
     "delete_cmd_postfix": ") ",
     "delete_cmd_prefix": "rm(",
     "library": "var_list.r",
     "varRefreshCmd": "cat(var_dic_list()) "
    }
   },
   "types_to_exclude": [
    "module",
    "function",
    "builtin_function_or_method",
    "instance",
    "_Feature"
   ],
   "window_display": false
  }
 },
 "nbformat": 4,
 "nbformat_minor": 1
}
