{
 "cells": [
  {
   "cell_type": "markdown",
   "metadata": {
    "colab_type": "text",
    "id": "P9-VfadzKKcB"
   },
   "source": [
    "# Intruduction to Pandas\n",
    "Pandas is one of the most popular tools in Python for data analytics.  It contains data structures and data manipulation tools designed to make data cleaning and analysis fast and easy.\n",
    "\n",
    "We start with importing pandas and give it a short name, \"pd\".  We also import numpy to help with pandas"
   ]
  },
  {
   "cell_type": "code",
   "execution_count": null,
   "metadata": {
    "colab": {},
    "colab_type": "code",
    "id": "HJ88g3i5KKcE"
   },
   "outputs": [],
   "source": [
    "import pandas as pd\n",
    "import numpy as np"
   ]
  },
  {
   "cell_type": "markdown",
   "metadata": {
    "colab_type": "text",
    "id": "Pv1HEsm3KKcI"
   },
   "source": [
    "## Data Structure - Series\n",
    "A Series is a one-dimensional array-like list containing a sequence of values with the same type.  It is an associated array with data labels called **index**."
   ]
  },
  {
   "cell_type": "markdown",
   "metadata": {
    "colab_type": "text",
    "id": "fS_CDQxqKKcI"
   },
   "source": [
    "### Create a Series\n",
    "There are many approaches to creating a Series.  We first create a Series with 4 elements from a list:\n",
    "\n",
    "Index | Data (int)\n",
    ":---: | :---:\n",
    "0 | 4\n",
    "1 | 7\n",
    "2 | -5\n",
    "3 | 3\n",
    "\n",
    "Note that **integer index starts from 0**"
   ]
  },
  {
   "cell_type": "code",
   "execution_count": null,
   "metadata": {
    "colab": {
     "base_uri": "https://localhost:8080/",
     "height": 102
    },
    "colab_type": "code",
    "executionInfo": {
     "elapsed": 6149,
     "status": "ok",
     "timestamp": 1574402716554,
     "user": {
      "displayName": "Mac Sriyanong",
      "photoUrl": "https://lh3.googleusercontent.com/a-/AAuE7mBDcSOx-hT0L-jUf7ZECeaUL0zXgJ7UsQk5jreA9w=s64",
      "userId": "08392812212861704534"
     },
     "user_tz": -420
    },
    "id": "_KJu-pWWKKcJ",
    "outputId": "730a0d7f-84a5-4b13-d5a0-28d6381723bf"
   },
   "outputs": [],
   "source": [
    "# create Series from a list\n",
    "s1 = pd.Series([4, 7, -5, 3])\n",
    "s1"
   ]
  },
  {
   "cell_type": "markdown",
   "metadata": {
    "colab_type": "text",
    "id": "tdO2KBSFKKcL"
   },
   "source": [
    "#### Note that:\n",
    "```\n",
    "dtype: int64\n",
    "```\n",
    "- dtype is the data type of the data values, which is 64-bit integer in this case"
   ]
  },
  {
   "cell_type": "code",
   "execution_count": null,
   "metadata": {
    "colab": {
     "base_uri": "https://localhost:8080/",
     "height": 34
    },
    "colab_type": "code",
    "executionInfo": {
     "elapsed": 6129,
     "status": "ok",
     "timestamp": 1574402716555,
     "user": {
      "displayName": "Mac Sriyanong",
      "photoUrl": "https://lh3.googleusercontent.com/a-/AAuE7mBDcSOx-hT0L-jUf7ZECeaUL0zXgJ7UsQk5jreA9w=s64",
      "userId": "08392812212861704534"
     },
     "user_tz": -420
    },
    "id": "vaRjFuFyKKcM",
    "outputId": "66430b4b-d7af-45de-9c34-8311531d1c8e"
   },
   "outputs": [],
   "source": [
    "s1.values"
   ]
  },
  {
   "cell_type": "markdown",
   "metadata": {
    "colab_type": "text",
    "id": "vVWpROlUKKcO"
   },
   "source": [
    "s1.index"
   ]
  },
  {
   "cell_type": "markdown",
   "metadata": {
    "colab_type": "text",
    "id": "zq8X1vVlKKcR"
   },
   "source": [
    "We can create a Series with labels as index.  A label can be an arbitary string.  Although, we assign labels to the Series, integer index still exists.\n",
    "\n",
    "Index | Label | Data (int)\n",
    ":---: | :---: | :---:\n",
    "0 | d | 4\n",
    "1 | b | 7\n",
    "2 | a | -5\n",
    "3 | c | 3\n",
    "\n",
    "Note that when we display a Series, it will show labels (if exist) or integer index (otherwise)."
   ]
  },
  {
   "cell_type": "code",
   "execution_count": null,
   "metadata": {
    "colab": {
     "base_uri": "https://localhost:8080/",
     "height": 102
    },
    "colab_type": "code",
    "executionInfo": {
     "elapsed": 6113,
     "status": "ok",
     "timestamp": 1574402716556,
     "user": {
      "displayName": "Mac Sriyanong",
      "photoUrl": "https://lh3.googleusercontent.com/a-/AAuE7mBDcSOx-hT0L-jUf7ZECeaUL0zXgJ7UsQk5jreA9w=s64",
      "userId": "08392812212861704534"
     },
     "user_tz": -420
    },
    "id": "NMCuREQVKKcR",
    "outputId": "cf5862af-1ff9-4b59-922d-467d0e538417"
   },
   "outputs": [],
   "source": [
    "# create series with index, which can be numbers or strings\n",
    "s2 = pd.Series([4, 7, -5, 3], index=['d','b','a','c'])\n",
    "s2"
   ]
  },
  {
   "cell_type": "code",
   "execution_count": null,
   "metadata": {
    "colab": {
     "base_uri": "https://localhost:8080/",
     "height": 34
    },
    "colab_type": "code",
    "executionInfo": {
     "elapsed": 6096,
     "status": "ok",
     "timestamp": 1574402716556,
     "user": {
      "displayName": "Mac Sriyanong",
      "photoUrl": "https://lh3.googleusercontent.com/a-/AAuE7mBDcSOx-hT0L-jUf7ZECeaUL0zXgJ7UsQk5jreA9w=s64",
      "userId": "08392812212861704534"
     },
     "user_tz": -420
    },
    "id": "6JcLCsPWKKcW",
    "outputId": "cfdbc283-700f-495a-b3bf-e58c24d4e492"
   },
   "outputs": [],
   "source": [
    "s2.index"
   ]
  },
  {
   "cell_type": "markdown",
   "metadata": {
    "colab_type": "text",
    "id": "op_hZxYRKKcZ"
   },
   "source": [
    "Notice the differences of the integer index in s1 (range of numbers) and label in s2 (arbitary strings)"
   ]
  },
  {
   "cell_type": "markdown",
   "metadata": {
    "colab_type": "text",
    "id": "cT4p6JsIKKcZ"
   },
   "source": [
    "### Series data operations"
   ]
  },
  {
   "cell_type": "code",
   "execution_count": null,
   "metadata": {
    "colab": {
     "base_uri": "https://localhost:8080/",
     "height": 34
    },
    "colab_type": "code",
    "executionInfo": {
     "elapsed": 6063,
     "status": "ok",
     "timestamp": 1574402716557,
     "user": {
      "displayName": "Mac Sriyanong",
      "photoUrl": "https://lh3.googleusercontent.com/a-/AAuE7mBDcSOx-hT0L-jUf7ZECeaUL0zXgJ7UsQk5jreA9w=s64",
      "userId": "08392812212861704534"
     },
     "user_tz": -420
    },
    "id": "lF-fC6w0KKca",
    "outputId": "3a9ae0a3-0de6-4f04-c6bf-76ffd482687c"
   },
   "outputs": [],
   "source": [
    "# access single data\n",
    "s2['a']"
   ]
  },
  {
   "cell_type": "code",
   "execution_count": null,
   "metadata": {
    "colab": {
     "base_uri": "https://localhost:8080/",
     "height": 34
    },
    "colab_type": "code",
    "executionInfo": {
     "elapsed": 6047,
     "status": "ok",
     "timestamp": 1574402716557,
     "user": {
      "displayName": "Mac Sriyanong",
      "photoUrl": "https://lh3.googleusercontent.com/a-/AAuE7mBDcSOx-hT0L-jUf7ZECeaUL0zXgJ7UsQk5jreA9w=s64",
      "userId": "08392812212861704534"
     },
     "user_tz": -420
    },
    "id": "aSJUlAUMKKcd",
    "outputId": "61c15515-2ced-4a9f-c53d-8715a6d53b7f"
   },
   "outputs": [],
   "source": [
    "# we can also use integer index\n",
    "s2[2]"
   ]
  },
  {
   "cell_type": "code",
   "execution_count": null,
   "metadata": {
    "colab": {},
    "colab_type": "code",
    "id": "DQpzM-1QKKcg"
   },
   "outputs": [],
   "source": [
    "# change data value\n",
    "s2['d'] = 6"
   ]
  },
  {
   "cell_type": "code",
   "execution_count": null,
   "metadata": {
    "colab": {
     "base_uri": "https://localhost:8080/",
     "height": 85
    },
    "colab_type": "code",
    "executionInfo": {
     "elapsed": 6022,
     "status": "ok",
     "timestamp": 1574402716558,
     "user": {
      "displayName": "Mac Sriyanong",
      "photoUrl": "https://lh3.googleusercontent.com/a-/AAuE7mBDcSOx-hT0L-jUf7ZECeaUL0zXgJ7UsQk5jreA9w=s64",
      "userId": "08392812212861704534"
     },
     "user_tz": -420
    },
    "id": "eeEKynH4KKcl",
    "outputId": "645441a5-1eca-414f-e77f-40ff163ce82f"
   },
   "outputs": [],
   "source": [
    "# select multiple data\n",
    "s2[['c','a','d']]\n"
   ]
  },
  {
   "cell_type": "code",
   "execution_count": null,
   "metadata": {
    "colab": {
     "base_uri": "https://localhost:8080/",
     "height": 68
    },
    "colab_type": "code",
    "executionInfo": {
     "elapsed": 6005,
     "status": "ok",
     "timestamp": 1574402716559,
     "user": {
      "displayName": "Mac Sriyanong",
      "photoUrl": "https://lh3.googleusercontent.com/a-/AAuE7mBDcSOx-hT0L-jUf7ZECeaUL0zXgJ7UsQk5jreA9w=s64",
      "userId": "08392812212861704534"
     },
     "user_tz": -420
    },
    "id": "P6vwiFULKKcn",
    "outputId": "683f10ae-3234-46bb-94bc-838f73ba4920"
   },
   "outputs": [],
   "source": [
    "# filtering - boolean data accessing\n",
    "s2[s2 > 3]"
   ]
  },
  {
   "cell_type": "code",
   "execution_count": null,
   "metadata": {
    "colab": {
     "base_uri": "https://localhost:8080/",
     "height": 102
    },
    "colab_type": "code",
    "executionInfo": {
     "elapsed": 5982,
     "status": "ok",
     "timestamp": 1574402716559,
     "user": {
      "displayName": "Mac Sriyanong",
      "photoUrl": "https://lh3.googleusercontent.com/a-/AAuE7mBDcSOx-hT0L-jUf7ZECeaUL0zXgJ7UsQk5jreA9w=s64",
      "userId": "08392812212861704534"
     },
     "user_tz": -420
    },
    "id": "N4zC69ynKKcp",
    "outputId": "f4bb5221-4644-4358-c0b0-6fb9dc374fde"
   },
   "outputs": [],
   "source": [
    "# vector operations\n",
    "s2 * 2"
   ]
  },
  {
   "cell_type": "code",
   "execution_count": null,
   "metadata": {
    "colab": {
     "base_uri": "https://localhost:8080/",
     "height": 102
    },
    "colab_type": "code",
    "executionInfo": {
     "elapsed": 5951,
     "status": "ok",
     "timestamp": 1574402716560,
     "user": {
      "displayName": "Mac Sriyanong",
      "photoUrl": "https://lh3.googleusercontent.com/a-/AAuE7mBDcSOx-hT0L-jUf7ZECeaUL0zXgJ7UsQk5jreA9w=s64",
      "userId": "08392812212861704534"
     },
     "user_tz": -420
    },
    "id": "qfo9q1dWRhkj",
    "outputId": "2cb13461-e551-472b-f299-96344837c7c9"
   },
   "outputs": [],
   "source": [
    "s2"
   ]
  },
  {
   "cell_type": "code",
   "execution_count": null,
   "metadata": {
    "colab": {
     "base_uri": "https://localhost:8080/",
     "height": 102
    },
    "colab_type": "code",
    "executionInfo": {
     "elapsed": 5932,
     "status": "ok",
     "timestamp": 1574402716560,
     "user": {
      "displayName": "Mac Sriyanong",
      "photoUrl": "https://lh3.googleusercontent.com/a-/AAuE7mBDcSOx-hT0L-jUf7ZECeaUL0zXgJ7UsQk5jreA9w=s64",
      "userId": "08392812212861704534"
     },
     "user_tz": -420
    },
    "id": "ff7sFMXuKKcq",
    "outputId": "620f6de9-f2bb-4a45-c1b1-b04571ba8633"
   },
   "outputs": [],
   "source": [
    "# manipulate with numpy\n",
    "np.exp(s2)"
   ]
  },
  {
   "cell_type": "code",
   "execution_count": null,
   "metadata": {
    "colab": {
     "base_uri": "https://localhost:8080/",
     "height": 34
    },
    "colab_type": "code",
    "executionInfo": {
     "elapsed": 5918,
     "status": "ok",
     "timestamp": 1574402716561,
     "user": {
      "displayName": "Mac Sriyanong",
      "photoUrl": "https://lh3.googleusercontent.com/a-/AAuE7mBDcSOx-hT0L-jUf7ZECeaUL0zXgJ7UsQk5jreA9w=s64",
      "userId": "08392812212861704534"
     },
     "user_tz": -420
    },
    "id": "hT8hRLv4KKcs",
    "outputId": "57168ec9-c6c7-4434-d111-3ccce8a4e56f"
   },
   "outputs": [],
   "source": [
    "# test if value in Series index\n",
    "'c' in s2"
   ]
  },
  {
   "cell_type": "code",
   "execution_count": null,
   "metadata": {
    "colab": {
     "base_uri": "https://localhost:8080/",
     "height": 34
    },
    "colab_type": "code",
    "executionInfo": {
     "elapsed": 5898,
     "status": "ok",
     "timestamp": 1574402716562,
     "user": {
      "displayName": "Mac Sriyanong",
      "photoUrl": "https://lh3.googleusercontent.com/a-/AAuE7mBDcSOx-hT0L-jUf7ZECeaUL0zXgJ7UsQk5jreA9w=s64",
      "userId": "08392812212861704534"
     },
     "user_tz": -420
    },
    "id": "vqdi4D0GKKcu",
    "outputId": "f2651c48-8adc-457f-cf19-40ead93b9e33"
   },
   "outputs": [],
   "source": [
    "'k' in s2"
   ]
  },
  {
   "cell_type": "markdown",
   "metadata": {
    "colab_type": "text",
    "id": "XX8N4H5lKKcv"
   },
   "source": [
    "### Index and data alignment"
   ]
  },
  {
   "cell_type": "code",
   "execution_count": null,
   "metadata": {
    "colab": {
     "base_uri": "https://localhost:8080/",
     "height": 0
    },
    "colab_type": "code",
    "executionInfo": {
     "elapsed": 5885,
     "status": "ok",
     "timestamp": 1574402716562,
     "user": {
      "displayName": "Mac Sriyanong",
      "photoUrl": "https://lh3.googleusercontent.com/a-/AAuE7mBDcSOx-hT0L-jUf7ZECeaUL0zXgJ7UsQk5jreA9w=s64",
      "userId": "08392812212861704534"
     },
     "user_tz": -420
    },
    "id": "mwYguDXMKKcw",
    "outputId": "b7c25bf4-ad3c-463d-d9c0-d37567b20b86",
    "scrolled": true
   },
   "outputs": [],
   "source": [
    "# create series from dict\n",
    "sdata = { 'Chiang Mai': 1687971, 'Lamphun': 403896, 'Phrae':  421653 , 'Lampang': 730980 }\n",
    "s3 = pd.Series(sdata)\n",
    "s3"
   ]
  },
  {
   "cell_type": "markdown",
   "metadata": {
    "colab_type": "text",
    "id": "Jlq1f-mKKKcy"
   },
   "source": [
    "Note that index can be any arbitary strings (even Thais)"
   ]
  },
  {
   "cell_type": "code",
   "execution_count": null,
   "metadata": {
    "colab": {
     "base_uri": "https://localhost:8080/",
     "height": 0
    },
    "colab_type": "code",
    "executionInfo": {
     "elapsed": 5873,
     "status": "ok",
     "timestamp": 1574402716563,
     "user": {
      "displayName": "Mac Sriyanong",
      "photoUrl": "https://lh3.googleusercontent.com/a-/AAuE7mBDcSOx-hT0L-jUf7ZECeaUL0zXgJ7UsQk5jreA9w=s64",
      "userId": "08392812212861704534"
     },
     "user_tz": -420
    },
    "id": "nD8QeUniKKcz",
    "outputId": "3a5a4f17-fbd1-4896-a9bc-38fb8bbbba58"
   },
   "outputs": [],
   "source": [
    "# control the order of index keys\n",
    "provinces = ['Lamphun', 'Chiang Mai', 'Lampang', 'Chiang Rai', 'Phrae']\n",
    "s4 = pd.Series(sdata, index=provinces)\n",
    "s4"
   ]
  },
  {
   "cell_type": "markdown",
   "metadata": {
    "colab_type": "text",
    "id": "5yeOkJ9_KKc1"
   },
   "source": [
    "Notice the order of the index.\n",
    "\n",
    "In addition:\n",
    "```\n",
    "Chiang Rai          NaN\n",
    "```\n",
    "***NaN*** (Not a number) represents missing data.  We can work with missing data with *isnull* and *notnull*"
   ]
  },
  {
   "cell_type": "code",
   "execution_count": null,
   "metadata": {
    "colab": {
     "base_uri": "https://localhost:8080/",
     "height": 0
    },
    "colab_type": "code",
    "executionInfo": {
     "elapsed": 5858,
     "status": "ok",
     "timestamp": 1574402716563,
     "user": {
      "displayName": "Mac Sriyanong",
      "photoUrl": "https://lh3.googleusercontent.com/a-/AAuE7mBDcSOx-hT0L-jUf7ZECeaUL0zXgJ7UsQk5jreA9w=s64",
      "userId": "08392812212861704534"
     },
     "user_tz": -420
    },
    "id": "AXQAt4fFKKc1",
    "outputId": "029513ad-99ac-4bd4-be04-e589240d57cb"
   },
   "outputs": [],
   "source": [
    "s4.isnull()"
   ]
  },
  {
   "cell_type": "code",
   "execution_count": null,
   "metadata": {
    "colab": {
     "base_uri": "https://localhost:8080/",
     "height": 0
    },
    "colab_type": "code",
    "executionInfo": {
     "elapsed": 5843,
     "status": "ok",
     "timestamp": 1574402716564,
     "user": {
      "displayName": "Mac Sriyanong",
      "photoUrl": "https://lh3.googleusercontent.com/a-/AAuE7mBDcSOx-hT0L-jUf7ZECeaUL0zXgJ7UsQk5jreA9w=s64",
      "userId": "08392812212861704534"
     },
     "user_tz": -420
    },
    "id": "pyaZ__rWKKc4",
    "outputId": "9d95f61a-0961-4258-985e-dff2e9b13c75"
   },
   "outputs": [],
   "source": [
    "s4.notnull()"
   ]
  },
  {
   "cell_type": "code",
   "execution_count": null,
   "metadata": {
    "colab": {
     "base_uri": "https://localhost:8080/",
     "height": 0
    },
    "colab_type": "code",
    "executionInfo": {
     "elapsed": 5824,
     "status": "ok",
     "timestamp": 1574402716564,
     "user": {
      "displayName": "Mac Sriyanong",
      "photoUrl": "https://lh3.googleusercontent.com/a-/AAuE7mBDcSOx-hT0L-jUf7ZECeaUL0zXgJ7UsQk5jreA9w=s64",
      "userId": "08392812212861704534"
     },
     "user_tz": -420
    },
    "id": "cYHtHKjsSmFs",
    "outputId": "b3ba2712-be9f-4b07-d4e0-41a36cef961f"
   },
   "outputs": [],
   "source": [
    "sum(s4.notnull())"
   ]
  },
  {
   "cell_type": "code",
   "execution_count": null,
   "metadata": {
    "colab": {
     "base_uri": "https://localhost:8080/",
     "height": 0
    },
    "colab_type": "code",
    "executionInfo": {
     "elapsed": 5780,
     "status": "ok",
     "timestamp": 1574402716565,
     "user": {
      "displayName": "Mac Sriyanong",
      "photoUrl": "https://lh3.googleusercontent.com/a-/AAuE7mBDcSOx-hT0L-jUf7ZECeaUL0zXgJ7UsQk5jreA9w=s64",
      "userId": "08392812212861704534"
     },
     "user_tz": -420
    },
    "id": "rPHaidWATRcX",
    "outputId": "8b465d38-4148-4126-ca51-844d87832893"
   },
   "outputs": [],
   "source": [
    "s4[s4.isnull()]"
   ]
  },
  {
   "cell_type": "code",
   "execution_count": null,
   "metadata": {
    "colab": {
     "base_uri": "https://localhost:8080/",
     "height": 0
    },
    "colab_type": "code",
    "executionInfo": {
     "elapsed": 5770,
     "status": "ok",
     "timestamp": 1574402716565,
     "user": {
      "displayName": "Mac Sriyanong",
      "photoUrl": "https://lh3.googleusercontent.com/a-/AAuE7mBDcSOx-hT0L-jUf7ZECeaUL0zXgJ7UsQk5jreA9w=s64",
      "userId": "08392812212861704534"
     },
     "user_tz": -420
    },
    "id": "c7Jbb9hqKKc7",
    "outputId": "2425104c-9b3b-4ebe-c206-00139ebeb789"
   },
   "outputs": [],
   "source": [
    "# you can also use an instance method of Series\n",
    "s4.isnull()"
   ]
  },
  {
   "cell_type": "markdown",
   "metadata": {
    "colab_type": "text",
    "id": "6a_6sCSFKKc9"
   },
   "source": [
    "When we perform a series operation, it will align data by index label.  Thus, eventhough two series may have different index ordering, we can perform operations between these series with ease."
   ]
  },
  {
   "cell_type": "code",
   "execution_count": null,
   "metadata": {
    "colab": {
     "base_uri": "https://localhost:8080/",
     "height": 0
    },
    "colab_type": "code",
    "executionInfo": {
     "elapsed": 5759,
     "status": "ok",
     "timestamp": 1574402716566,
     "user": {
      "displayName": "Mac Sriyanong",
      "photoUrl": "https://lh3.googleusercontent.com/a-/AAuE7mBDcSOx-hT0L-jUf7ZECeaUL0zXgJ7UsQk5jreA9w=s64",
      "userId": "08392812212861704534"
     },
     "user_tz": -420
    },
    "id": "QwD5UAwmKKc9",
    "outputId": "eabd48e1-dfb3-4668-968f-816980f1ecf1"
   },
   "outputs": [],
   "source": [
    "s3"
   ]
  },
  {
   "cell_type": "code",
   "execution_count": null,
   "metadata": {
    "colab": {
     "base_uri": "https://localhost:8080/",
     "height": 0
    },
    "colab_type": "code",
    "executionInfo": {
     "elapsed": 5738,
     "status": "ok",
     "timestamp": 1574402716566,
     "user": {
      "displayName": "Mac Sriyanong",
      "photoUrl": "https://lh3.googleusercontent.com/a-/AAuE7mBDcSOx-hT0L-jUf7ZECeaUL0zXgJ7UsQk5jreA9w=s64",
      "userId": "08392812212861704534"
     },
     "user_tz": -420
    },
    "id": "Nk_WjjZdKKc_",
    "outputId": "01ac342f-86be-418d-ff98-d7ae6a4ef18d"
   },
   "outputs": [],
   "source": [
    "s4"
   ]
  },
  {
   "cell_type": "code",
   "execution_count": null,
   "metadata": {
    "colab": {
     "base_uri": "https://localhost:8080/",
     "height": 0
    },
    "colab_type": "code",
    "executionInfo": {
     "elapsed": 5727,
     "status": "ok",
     "timestamp": 1574402716569,
     "user": {
      "displayName": "Mac Sriyanong",
      "photoUrl": "https://lh3.googleusercontent.com/a-/AAuE7mBDcSOx-hT0L-jUf7ZECeaUL0zXgJ7UsQk5jreA9w=s64",
      "userId": "08392812212861704534"
     },
     "user_tz": -420
    },
    "id": "9VFbBpeXKKdA",
    "outputId": "9c3726b6-4a8c-40fe-dace-0f55bf76cf83"
   },
   "outputs": [],
   "source": [
    "s3 + s4"
   ]
  },
  {
   "cell_type": "markdown",
   "metadata": {
    "colab_type": "text",
    "id": "FpfR0TEeKKdC"
   },
   "source": [
    "Notice the difference orders of index in s3 and s4 and check out the addition result."
   ]
  },
  {
   "cell_type": "code",
   "execution_count": null,
   "metadata": {
    "colab": {
     "base_uri": "https://localhost:8080/",
     "height": 0
    },
    "colab_type": "code",
    "executionInfo": {
     "elapsed": 5704,
     "status": "ok",
     "timestamp": 1574402716571,
     "user": {
      "displayName": "Mac Sriyanong",
      "photoUrl": "https://lh3.googleusercontent.com/a-/AAuE7mBDcSOx-hT0L-jUf7ZECeaUL0zXgJ7UsQk5jreA9w=s64",
      "userId": "08392812212861704534"
     },
     "user_tz": -420
    },
    "id": "zI2KO7ktKKdC",
    "outputId": "905b5ebd-0811-4b47-cdc7-cdde94192e8b"
   },
   "outputs": [],
   "source": [
    "# set name for index and data values\n",
    "s4.name = 'population'\n",
    "s4.index.name = 'province'\n",
    "s4"
   ]
  },
  {
   "cell_type": "code",
   "execution_count": null,
   "metadata": {
    "colab": {
     "base_uri": "https://localhost:8080/",
     "height": 0
    },
    "colab_type": "code",
    "executionInfo": {
     "elapsed": 5691,
     "status": "ok",
     "timestamp": 1574402716571,
     "user": {
      "displayName": "Mac Sriyanong",
      "photoUrl": "https://lh3.googleusercontent.com/a-/AAuE7mBDcSOx-hT0L-jUf7ZECeaUL0zXgJ7UsQk5jreA9w=s64",
      "userId": "08392812212861704534"
     },
     "user_tz": -420
    },
    "id": "QcSVba3gKKdE",
    "outputId": "00e7163a-b5a2-4397-cd3a-a294d251006c"
   },
   "outputs": [],
   "source": [
    "# alter Series's index\n",
    "s1"
   ]
  },
  {
   "cell_type": "code",
   "execution_count": null,
   "metadata": {
    "colab": {
     "base_uri": "https://localhost:8080/",
     "height": 0
    },
    "colab_type": "code",
    "executionInfo": {
     "elapsed": 5680,
     "status": "ok",
     "timestamp": 1574402716572,
     "user": {
      "displayName": "Mac Sriyanong",
      "photoUrl": "https://lh3.googleusercontent.com/a-/AAuE7mBDcSOx-hT0L-jUf7ZECeaUL0zXgJ7UsQk5jreA9w=s64",
      "userId": "08392812212861704534"
     },
     "user_tz": -420
    },
    "id": "NkOm6g3SKKdF",
    "outputId": "8f47d0da-523f-4b8e-e04b-0c1dd3a435ab"
   },
   "outputs": [],
   "source": [
    "s1.index = ['dave', 'jane', 'george', 'kelvin']\n",
    "s1"
   ]
  },
  {
   "cell_type": "markdown",
   "metadata": {
    "colab_type": "text",
    "id": "OsRDsxLDKKdH"
   },
   "source": [
    "## Data Structure - DataFrame\n",
    "A Series represents a rectangular table of data and contains an ordered collection of columns, each of which can be a different value type (numeric, string, boolean, etc.).  DataFrame has both row and column indices.  Although DataFrame is mainly used for two-dimensional data, we can use hierarchical indexing to represent more complicated data."
   ]
  },
  {
   "cell_type": "markdown",
   "metadata": {
    "colab_type": "text",
    "id": "MvKIWvv2KKdI"
   },
   "source": [
    "### Create a DataFrame\n",
    "There are several approaches to create a DataFrame.  A simple one is to create from dict.\n",
    "We create the following DataFrame:\n",
    "\n",
    "Index | province | year | population\n",
    ":---: | :---: | :---: | :---:\n",
    "0 | Chiang Mai | 2016 | 1630428\n",
    "1 | Chiang Mai | 2017 | 1664012\n",
    "2 | Chiang Mai | 2018 | 1687971\n",
    "3 | Phrae | 2016 | 398936\n",
    "4 | Phrae | 2017 | 410382\n",
    "5 | Phrae | 2018 | 421653"
   ]
  },
  {
   "cell_type": "code",
   "execution_count": null,
   "metadata": {
    "colab": {
     "base_uri": "https://localhost:8080/",
     "height": 0
    },
    "colab_type": "code",
    "executionInfo": {
     "elapsed": 5666,
     "status": "ok",
     "timestamp": 1574402716572,
     "user": {
      "displayName": "Mac Sriyanong",
      "photoUrl": "https://lh3.googleusercontent.com/a-/AAuE7mBDcSOx-hT0L-jUf7ZECeaUL0zXgJ7UsQk5jreA9w=s64",
      "userId": "08392812212861704534"
     },
     "user_tz": -420
    },
    "id": "oK6_HACqKKdL",
    "outputId": "29a50db8-05a9-4a02-9259-79a7000b4f7e"
   },
   "outputs": [],
   "source": [
    "# create from a dict\n",
    "data = {\n",
    "    'province': ['Chiang Mai', 'Chiang Mai', 'Chiang Mai', 'Phrae', 'Phrae', 'Phrae'],\n",
    "    'year': [2016, 2017, 2018, 2016, 2017, 2018],\n",
    "    'population': [1630428, 1664012, 1687971, 398936, 410382, 421653]\n",
    "}\n",
    "df = pd.DataFrame(data)\n",
    "df"
   ]
  },
  {
   "cell_type": "code",
   "execution_count": null,
   "metadata": {
    "colab": {
     "base_uri": "https://localhost:8080/",
     "height": 0
    },
    "colab_type": "code",
    "executionInfo": {
     "elapsed": 5654,
     "status": "ok",
     "timestamp": 1574402716573,
     "user": {
      "displayName": "Mac Sriyanong",
      "photoUrl": "https://lh3.googleusercontent.com/a-/AAuE7mBDcSOx-hT0L-jUf7ZECeaUL0zXgJ7UsQk5jreA9w=s64",
      "userId": "08392812212861704534"
     },
     "user_tz": -420
    },
    "id": "XjEz7gLEUnnO",
    "outputId": "f84aeaa0-7c7f-41fa-d254-eeb894f2e24e"
   },
   "outputs": [],
   "source": [
    "df.shape"
   ]
  },
  {
   "cell_type": "code",
   "execution_count": null,
   "metadata": {
    "colab": {
     "base_uri": "https://localhost:8080/",
     "height": 0
    },
    "colab_type": "code",
    "executionInfo": {
     "elapsed": 5637,
     "status": "ok",
     "timestamp": 1574402716573,
     "user": {
      "displayName": "Mac Sriyanong",
      "photoUrl": "https://lh3.googleusercontent.com/a-/AAuE7mBDcSOx-hT0L-jUf7ZECeaUL0zXgJ7UsQk5jreA9w=s64",
      "userId": "08392812212861704534"
     },
     "user_tz": -420
    },
    "id": "5fZLVX5dKKdN",
    "outputId": "fead9f4a-342f-4777-bb7e-ba43ded34710"
   },
   "outputs": [],
   "source": [
    "df.head(4)"
   ]
  },
  {
   "cell_type": "code",
   "execution_count": null,
   "metadata": {
    "colab": {
     "base_uri": "https://localhost:8080/",
     "height": 0
    },
    "colab_type": "code",
    "executionInfo": {
     "elapsed": 5628,
     "status": "ok",
     "timestamp": 1574402716574,
     "user": {
      "displayName": "Mac Sriyanong",
      "photoUrl": "https://lh3.googleusercontent.com/a-/AAuE7mBDcSOx-hT0L-jUf7ZECeaUL0zXgJ7UsQk5jreA9w=s64",
      "userId": "08392812212861704534"
     },
     "user_tz": -420
    },
    "id": "hzIWRdZKKKdO",
    "outputId": "bab03de9-6576-4a0f-e2e8-d28e3715ff21"
   },
   "outputs": [],
   "source": [
    "# assign column names and their sequence\n",
    "df2 = pd.DataFrame(data, columns=['year', 'province', 'population'])\n",
    "df2"
   ]
  },
  {
   "cell_type": "code",
   "execution_count": null,
   "metadata": {
    "colab": {
     "base_uri": "https://localhost:8080/",
     "height": 0
    },
    "colab_type": "code",
    "executionInfo": {
     "elapsed": 5621,
     "status": "ok",
     "timestamp": 1574402716575,
     "user": {
      "displayName": "Mac Sriyanong",
      "photoUrl": "https://lh3.googleusercontent.com/a-/AAuE7mBDcSOx-hT0L-jUf7ZECeaUL0zXgJ7UsQk5jreA9w=s64",
      "userId": "08392812212861704534"
     },
     "user_tz": -420
    },
    "id": "jvgFHXi6KKdP",
    "outputId": "1ceaf650-28ea-4987-f87a-6dec943048e3"
   },
   "outputs": [],
   "source": [
    "# index can also be other data types\n",
    "df2 = pd.DataFrame(data, columns=['year', 'province', 'population', 'household'], index=['one', 'two', 'three', 'four', 'five', 'six'])\n",
    "df2"
   ]
  },
  {
   "cell_type": "code",
   "execution_count": null,
   "metadata": {
    "colab": {
     "base_uri": "https://localhost:8080/",
     "height": 0
    },
    "colab_type": "code",
    "executionInfo": {
     "elapsed": 5612,
     "status": "ok",
     "timestamp": 1574402716575,
     "user": {
      "displayName": "Mac Sriyanong",
      "photoUrl": "https://lh3.googleusercontent.com/a-/AAuE7mBDcSOx-hT0L-jUf7ZECeaUL0zXgJ7UsQk5jreA9w=s64",
      "userId": "08392812212861704534"
     },
     "user_tz": -420
    },
    "id": "JM8Q16bzKKdR",
    "outputId": "466aac72-4e6b-45c5-9768-558e89d1f635"
   },
   "outputs": [],
   "source": [
    "df2.columns"
   ]
  },
  {
   "cell_type": "code",
   "execution_count": null,
   "metadata": {
    "colab": {
     "base_uri": "https://localhost:8080/",
     "height": 0
    },
    "colab_type": "code",
    "executionInfo": {
     "elapsed": 5604,
     "status": "ok",
     "timestamp": 1574402716576,
     "user": {
      "displayName": "Mac Sriyanong",
      "photoUrl": "https://lh3.googleusercontent.com/a-/AAuE7mBDcSOx-hT0L-jUf7ZECeaUL0zXgJ7UsQk5jreA9w=s64",
      "userId": "08392812212861704534"
     },
     "user_tz": -420
    },
    "id": "If3t9hTXVCf2",
    "outputId": "cc4fe9f1-acab-415b-abb9-8d426a52a17b"
   },
   "outputs": [],
   "source": [
    "df2.index"
   ]
  },
  {
   "cell_type": "markdown",
   "metadata": {
    "colab_type": "text",
    "id": "8kfsm6RnKKdS"
   },
   "source": [
    "### Operation on DataFrame"
   ]
  },
  {
   "cell_type": "code",
   "execution_count": null,
   "metadata": {
    "colab": {
     "base_uri": "https://localhost:8080/",
     "height": 0
    },
    "colab_type": "code",
    "executionInfo": {
     "elapsed": 5597,
     "status": "ok",
     "timestamp": 1574402716577,
     "user": {
      "displayName": "Mac Sriyanong",
      "photoUrl": "https://lh3.googleusercontent.com/a-/AAuE7mBDcSOx-hT0L-jUf7ZECeaUL0zXgJ7UsQk5jreA9w=s64",
      "userId": "08392812212861704534"
     },
     "user_tz": -420
    },
    "id": "PblzIicWKKdT",
    "outputId": "761a0a93-c375-4507-d3e3-13c2a7e988d3"
   },
   "outputs": [],
   "source": [
    "df2['province']"
   ]
  },
  {
   "cell_type": "code",
   "execution_count": null,
   "metadata": {
    "colab": {
     "base_uri": "https://localhost:8080/",
     "height": 0
    },
    "colab_type": "code",
    "executionInfo": {
     "elapsed": 5586,
     "status": "ok",
     "timestamp": 1574402716577,
     "user": {
      "displayName": "Mac Sriyanong",
      "photoUrl": "https://lh3.googleusercontent.com/a-/AAuE7mBDcSOx-hT0L-jUf7ZECeaUL0zXgJ7UsQk5jreA9w=s64",
      "userId": "08392812212861704534"
     },
     "user_tz": -420
    },
    "id": "ta2M6UmLKKdU",
    "outputId": "3b28b9f2-d7ad-4265-da96-d97d41727e69"
   },
   "outputs": [],
   "source": [
    "df2.year"
   ]
  },
  {
   "cell_type": "code",
   "execution_count": null,
   "metadata": {
    "colab": {
     "base_uri": "https://localhost:8080/",
     "height": 0
    },
    "colab_type": "code",
    "executionInfo": {
     "elapsed": 5578,
     "status": "ok",
     "timestamp": 1574402716578,
     "user": {
      "displayName": "Mac Sriyanong",
      "photoUrl": "https://lh3.googleusercontent.com/a-/AAuE7mBDcSOx-hT0L-jUf7ZECeaUL0zXgJ7UsQk5jreA9w=s64",
      "userId": "08392812212861704534"
     },
     "user_tz": -420
    },
    "id": "zxgxVnV8KKdW",
    "outputId": "c311ffbd-0bd1-4053-b47b-26975d134dd1"
   },
   "outputs": [],
   "source": [
    "# refer to a row using index value\n",
    "df2.loc['three']"
   ]
  },
  {
   "cell_type": "code",
   "execution_count": null,
   "metadata": {
    "colab": {
     "base_uri": "https://localhost:8080/",
     "height": 0
    },
    "colab_type": "code",
    "executionInfo": {
     "elapsed": 5569,
     "status": "ok",
     "timestamp": 1574402716578,
     "user": {
      "displayName": "Mac Sriyanong",
      "photoUrl": "https://lh3.googleusercontent.com/a-/AAuE7mBDcSOx-hT0L-jUf7ZECeaUL0zXgJ7UsQk5jreA9w=s64",
      "userId": "08392812212861704534"
     },
     "user_tz": -420
    },
    "id": "nMJNRhn3VsHA",
    "outputId": "f2aa032f-814a-45ab-8322-4f2902f8472d"
   },
   "outputs": [],
   "source": [
    "df2"
   ]
  },
  {
   "cell_type": "code",
   "execution_count": null,
   "metadata": {
    "colab": {
     "base_uri": "https://localhost:8080/",
     "height": 0
    },
    "colab_type": "code",
    "executionInfo": {
     "elapsed": 5550,
     "status": "ok",
     "timestamp": 1574402716579,
     "user": {
      "displayName": "Mac Sriyanong",
      "photoUrl": "https://lh3.googleusercontent.com/a-/AAuE7mBDcSOx-hT0L-jUf7ZECeaUL0zXgJ7UsQk5jreA9w=s64",
      "userId": "08392812212861704534"
     },
     "user_tz": -420
    },
    "id": "QtHnk09dKKdY",
    "outputId": "51fd41b5-16d8-436a-a922-67b3d993256c"
   },
   "outputs": [],
   "source": [
    "# we can assign value to the entire column\n",
    "df2['household'] = 10\n",
    "df2"
   ]
  },
  {
   "cell_type": "code",
   "execution_count": null,
   "metadata": {
    "colab": {
     "base_uri": "https://localhost:8080/",
     "height": 0
    },
    "colab_type": "code",
    "executionInfo": {
     "elapsed": 5536,
     "status": "ok",
     "timestamp": 1574402716579,
     "user": {
      "displayName": "Mac Sriyanong",
      "photoUrl": "https://lh3.googleusercontent.com/a-/AAuE7mBDcSOx-hT0L-jUf7ZECeaUL0zXgJ7UsQk5jreA9w=s64",
      "userId": "08392812212861704534"
     },
     "user_tz": -420
    },
    "id": "Sdnzpe7xKKdZ",
    "outputId": "a5530476-8016-42aa-f6e0-72bd5ab21f60"
   },
   "outputs": [],
   "source": [
    "# value assignment can be a list that match the length of the DataFrame\n",
    "df2.household = np.arange(6.)\n",
    "df2"
   ]
  },
  {
   "cell_type": "code",
   "execution_count": null,
   "metadata": {
    "colab": {},
    "colab_type": "code",
    "id": "B3Kw313YKKdb"
   },
   "outputs": [],
   "source": [
    "# we can assign a series to the DataFrame\n",
    "hh = pd.Series([15, 17, 12], index=['two', 'four', 'one'])"
   ]
  },
  {
   "cell_type": "code",
   "execution_count": null,
   "metadata": {
    "colab": {
     "base_uri": "https://localhost:8080/",
     "height": 0
    },
    "colab_type": "code",
    "executionInfo": {
     "elapsed": 5518,
     "status": "ok",
     "timestamp": 1574402716580,
     "user": {
      "displayName": "Mac Sriyanong",
      "photoUrl": "https://lh3.googleusercontent.com/a-/AAuE7mBDcSOx-hT0L-jUf7ZECeaUL0zXgJ7UsQk5jreA9w=s64",
      "userId": "08392812212861704534"
     },
     "user_tz": -420
    },
    "id": "JxBNDYULKKdc",
    "outputId": "44bf7636-73d2-42b2-f9ce-dda7f5185f63"
   },
   "outputs": [],
   "source": [
    "df2.household = hh\n",
    "df2"
   ]
  },
  {
   "cell_type": "markdown",
   "metadata": {
    "colab_type": "text",
    "id": "-6nmaAdrKKde"
   },
   "source": [
    "If we assign data to a column that does not exist, pandas will create a new column."
   ]
  },
  {
   "cell_type": "code",
   "execution_count": null,
   "metadata": {
    "colab": {
     "base_uri": "https://localhost:8080/",
     "height": 0
    },
    "colab_type": "code",
    "executionInfo": {
     "elapsed": 5510,
     "status": "ok",
     "timestamp": 1574402716581,
     "user": {
      "displayName": "Mac Sriyanong",
      "photoUrl": "https://lh3.googleusercontent.com/a-/AAuE7mBDcSOx-hT0L-jUf7ZECeaUL0zXgJ7UsQk5jreA9w=s64",
      "userId": "08392812212861704534"
     },
     "user_tz": -420
    },
    "id": "cIuUlSzkKKde",
    "outputId": "b9c27908-829f-4de5-d365-b7f27fbe0d08"
   },
   "outputs": [],
   "source": [
    "df2['bigcity'] = df2.province == 'Chiang Mai'\n",
    "df2"
   ]
  },
  {
   "cell_type": "code",
   "execution_count": null,
   "metadata": {
    "colab": {
     "base_uri": "https://localhost:8080/",
     "height": 0
    },
    "colab_type": "code",
    "executionInfo": {
     "elapsed": 5501,
     "status": "ok",
     "timestamp": 1574402716581,
     "user": {
      "displayName": "Mac Sriyanong",
      "photoUrl": "https://lh3.googleusercontent.com/a-/AAuE7mBDcSOx-hT0L-jUf7ZECeaUL0zXgJ7UsQk5jreA9w=s64",
      "userId": "08392812212861704534"
     },
     "user_tz": -420
    },
    "id": "22zHOXW-KKdh",
    "outputId": "432f6177-d82c-4d06-a177-a6cf699aa8c8"
   },
   "outputs": [],
   "source": [
    "df2.columns"
   ]
  },
  {
   "cell_type": "code",
   "execution_count": null,
   "metadata": {
    "colab": {
     "base_uri": "https://localhost:8080/",
     "height": 0
    },
    "colab_type": "code",
    "executionInfo": {
     "elapsed": 5493,
     "status": "ok",
     "timestamp": 1574402716582,
     "user": {
      "displayName": "Mac Sriyanong",
      "photoUrl": "https://lh3.googleusercontent.com/a-/AAuE7mBDcSOx-hT0L-jUf7ZECeaUL0zXgJ7UsQk5jreA9w=s64",
      "userId": "08392812212861704534"
     },
     "user_tz": -420
    },
    "id": "jHycAAF0KKdl",
    "outputId": "9583fae1-9398-4c79-b818-00861267d5af"
   },
   "outputs": [],
   "source": [
    "# remove column with del\n",
    "del df2['bigcity']\n",
    "df2.columns"
   ]
  },
  {
   "cell_type": "markdown",
   "metadata": {
    "colab_type": "text",
    "id": "kTGtHFJMKKdm"
   },
   "source": [
    "We can create DataFrame with nested dict of dicts"
   ]
  },
  {
   "cell_type": "code",
   "execution_count": null,
   "metadata": {
    "colab": {
     "base_uri": "https://localhost:8080/",
     "height": 0
    },
    "colab_type": "code",
    "executionInfo": {
     "elapsed": 5484,
     "status": "ok",
     "timestamp": 1574402716582,
     "user": {
      "displayName": "Mac Sriyanong",
      "photoUrl": "https://lh3.googleusercontent.com/a-/AAuE7mBDcSOx-hT0L-jUf7ZECeaUL0zXgJ7UsQk5jreA9w=s64",
      "userId": "08392812212861704534"
     },
     "user_tz": -420
    },
    "id": "oaukw0NRKKdn",
    "outputId": "2f3831f9-2f04-4b23-8085-c70b1ce440b3"
   },
   "outputs": [],
   "source": [
    "pop = {\n",
    "    'Chiang Mai': { 2016: 1630428, 2017: 1664012, 2018: 1687971},\n",
    "    'Phrae': { 2016: 398936, 2017: 410382, 2018: 421653}\n",
    "}\n",
    "df3 = pd.DataFrame(pop)\n",
    "df3"
   ]
  },
  {
   "cell_type": "code",
   "execution_count": null,
   "metadata": {
    "colab": {
     "base_uri": "https://localhost:8080/",
     "height": 0
    },
    "colab_type": "code",
    "executionInfo": {
     "elapsed": 5475,
     "status": "ok",
     "timestamp": 1574402716583,
     "user": {
      "displayName": "Mac Sriyanong",
      "photoUrl": "https://lh3.googleusercontent.com/a-/AAuE7mBDcSOx-hT0L-jUf7ZECeaUL0zXgJ7UsQk5jreA9w=s64",
      "userId": "08392812212861704534"
     },
     "user_tz": -420
    },
    "id": "kmWZZ-JOKKdo",
    "outputId": "143ae039-7d00-4d90-8464-283f7268c28e"
   },
   "outputs": [],
   "source": [
    "# transpose a DataFrame\n",
    "df3.T"
   ]
  },
  {
   "cell_type": "code",
   "execution_count": null,
   "metadata": {
    "colab": {
     "base_uri": "https://localhost:8080/",
     "height": 0
    },
    "colab_type": "code",
    "executionInfo": {
     "elapsed": 5468,
     "status": "ok",
     "timestamp": 1574402716584,
     "user": {
      "displayName": "Mac Sriyanong",
      "photoUrl": "https://lh3.googleusercontent.com/a-/AAuE7mBDcSOx-hT0L-jUf7ZECeaUL0zXgJ7UsQk5jreA9w=s64",
      "userId": "08392812212861704534"
     },
     "user_tz": -420
    },
    "id": "lYjbwMt1KKdq",
    "outputId": "df98c446-1811-40d4-fb96-f0ce5370bc23"
   },
   "outputs": [],
   "source": [
    "# convert DataFrame to array\n",
    "df3.values"
   ]
  },
  {
   "cell_type": "code",
   "execution_count": null,
   "metadata": {
    "colab": {
     "base_uri": "https://localhost:8080/",
     "height": 0
    },
    "colab_type": "code",
    "executionInfo": {
     "elapsed": 5457,
     "status": "ok",
     "timestamp": 1574402716584,
     "user": {
      "displayName": "Mac Sriyanong",
      "photoUrl": "https://lh3.googleusercontent.com/a-/AAuE7mBDcSOx-hT0L-jUf7ZECeaUL0zXgJ7UsQk5jreA9w=s64",
      "userId": "08392812212861704534"
     },
     "user_tz": -420
    },
    "id": "jeaIVjKSKKds",
    "outputId": "5c8b5b73-bdfd-430c-97dd-956d22a7411d"
   },
   "outputs": [],
   "source": [
    "# with differnt structure, converting will lead to different array\n",
    "df2"
   ]
  },
  {
   "cell_type": "code",
   "execution_count": null,
   "metadata": {
    "colab": {
     "base_uri": "https://localhost:8080/",
     "height": 0
    },
    "colab_type": "code",
    "executionInfo": {
     "elapsed": 5448,
     "status": "ok",
     "timestamp": 1574402716585,
     "user": {
      "displayName": "Mac Sriyanong",
      "photoUrl": "https://lh3.googleusercontent.com/a-/AAuE7mBDcSOx-hT0L-jUf7ZECeaUL0zXgJ7UsQk5jreA9w=s64",
      "userId": "08392812212861704534"
     },
     "user_tz": -420
    },
    "id": "CtoaNrUtKKdu",
    "outputId": "dbeeba76-be36-4ce4-967d-babda2784dda"
   },
   "outputs": [],
   "source": [
    "df2.values"
   ]
  },
  {
   "cell_type": "markdown",
   "metadata": {
    "colab_type": "text",
    "id": "dF1LFTKyKKdv"
   },
   "source": [
    "## Operation on Index\n",
    "Index manipulation is very important, especially for time-series data as we use timestamps as index"
   ]
  },
  {
   "cell_type": "markdown",
   "metadata": {
    "colab_type": "text",
    "id": "7iMenhwyKKdw"
   },
   "source": [
    "### Index Objects"
   ]
  },
  {
   "cell_type": "code",
   "execution_count": null,
   "metadata": {
    "colab": {
     "base_uri": "https://localhost:8080/",
     "height": 0
    },
    "colab_type": "code",
    "executionInfo": {
     "elapsed": 5441,
     "status": "ok",
     "timestamp": 1574402716586,
     "user": {
      "displayName": "Mac Sriyanong",
      "photoUrl": "https://lh3.googleusercontent.com/a-/AAuE7mBDcSOx-hT0L-jUf7ZECeaUL0zXgJ7UsQk5jreA9w=s64",
      "userId": "08392812212861704534"
     },
     "user_tz": -420
    },
    "id": "n_snD5G3KKdw",
    "outputId": "d465aec3-2394-46b6-c228-f3c2879f9dd7"
   },
   "outputs": [],
   "source": [
    "s1"
   ]
  },
  {
   "cell_type": "code",
   "execution_count": null,
   "metadata": {
    "colab": {
     "base_uri": "https://localhost:8080/",
     "height": 0
    },
    "colab_type": "code",
    "executionInfo": {
     "elapsed": 5412,
     "status": "ok",
     "timestamp": 1574402716586,
     "user": {
      "displayName": "Mac Sriyanong",
      "photoUrl": "https://lh3.googleusercontent.com/a-/AAuE7mBDcSOx-hT0L-jUf7ZECeaUL0zXgJ7UsQk5jreA9w=s64",
      "userId": "08392812212861704534"
     },
     "user_tz": -420
    },
    "id": "DinoCKTlKKdz",
    "outputId": "70892ed5-1c17-47a1-a120-d255fccde0ca"
   },
   "outputs": [],
   "source": [
    "index = s1.index\n",
    "index"
   ]
  },
  {
   "cell_type": "code",
   "execution_count": null,
   "metadata": {
    "colab": {
     "base_uri": "https://localhost:8080/",
     "height": 0
    },
    "colab_type": "code",
    "executionInfo": {
     "elapsed": 5406,
     "status": "ok",
     "timestamp": 1574402716587,
     "user": {
      "displayName": "Mac Sriyanong",
      "photoUrl": "https://lh3.googleusercontent.com/a-/AAuE7mBDcSOx-hT0L-jUf7ZECeaUL0zXgJ7UsQk5jreA9w=s64",
      "userId": "08392812212861704534"
     },
     "user_tz": -420
    },
    "id": "3pxCB-y4KKd0",
    "outputId": "c264234a-ea4f-453c-de8f-4196fdb8b63e"
   },
   "outputs": [],
   "source": [
    "index[2:]"
   ]
  },
  {
   "cell_type": "markdown",
   "metadata": {
    "colab_type": "text",
    "id": "oAwJU0ibKKd1"
   },
   "source": [
    "Note that index objects are immutable and cannot be modified by the user.\n",
    "Thus:\n",
    "```\n",
    "index[1] = 'delan'\n",
    "```\n",
    "will lead to a runtime error."
   ]
  },
  {
   "cell_type": "markdown",
   "metadata": {
    "colab_type": "text",
    "id": "y5GjqbMtKKd2"
   },
   "source": [
    "### Reindexing\n",
    "We can make pandas objects to conform to a new index with reindexing."
   ]
  },
  {
   "cell_type": "code",
   "execution_count": null,
   "metadata": {
    "colab": {
     "base_uri": "https://localhost:8080/",
     "height": 0
    },
    "colab_type": "code",
    "executionInfo": {
     "elapsed": 5397,
     "status": "ok",
     "timestamp": 1574402716587,
     "user": {
      "displayName": "Mac Sriyanong",
      "photoUrl": "https://lh3.googleusercontent.com/a-/AAuE7mBDcSOx-hT0L-jUf7ZECeaUL0zXgJ7UsQk5jreA9w=s64",
      "userId": "08392812212861704534"
     },
     "user_tz": -420
    },
    "id": "OZ42reDNKKd3",
    "outputId": "996183a3-6b21-47e7-da87-3f0d75a9c22f"
   },
   "outputs": [],
   "source": [
    "s2"
   ]
  },
  {
   "cell_type": "code",
   "execution_count": null,
   "metadata": {
    "colab": {
     "base_uri": "https://localhost:8080/",
     "height": 0
    },
    "colab_type": "code",
    "executionInfo": {
     "elapsed": 5390,
     "status": "ok",
     "timestamp": 1574402716588,
     "user": {
      "displayName": "Mac Sriyanong",
      "photoUrl": "https://lh3.googleusercontent.com/a-/AAuE7mBDcSOx-hT0L-jUf7ZECeaUL0zXgJ7UsQk5jreA9w=s64",
      "userId": "08392812212861704534"
     },
     "user_tz": -420
    },
    "id": "MG28TOYkKKd4",
    "outputId": "26c54431-aac7-403b-8b91-048af6f31971"
   },
   "outputs": [],
   "source": [
    "s3 = s2.reindex(['a', 'b', 'c', 'd', 'e'])\n",
    "s3"
   ]
  },
  {
   "cell_type": "markdown",
   "metadata": {
    "colab_type": "text",
    "id": "ggX-K4XuKKd5"
   },
   "source": [
    "For ordered data like time series, using timestamps as index may lead to non-periodic data.  It is possible to interpolate or fill values of gaps in index using *ffill*, which forward-fills the values."
   ]
  },
  {
   "cell_type": "code",
   "execution_count": null,
   "metadata": {
    "colab": {
     "base_uri": "https://localhost:8080/",
     "height": 0
    },
    "colab_type": "code",
    "executionInfo": {
     "elapsed": 5380,
     "status": "ok",
     "timestamp": 1574402716588,
     "user": {
      "displayName": "Mac Sriyanong",
      "photoUrl": "https://lh3.googleusercontent.com/a-/AAuE7mBDcSOx-hT0L-jUf7ZECeaUL0zXgJ7UsQk5jreA9w=s64",
      "userId": "08392812212861704534"
     },
     "user_tz": -420
    },
    "id": "BgDOrienKKd6",
    "outputId": "fa4bfb49-7f89-406d-963a-64c8a2c85f3d"
   },
   "outputs": [],
   "source": [
    "s4 = pd.Series(['red', 'green', 'blue'], index=[0, 3, 5])\n",
    "s4"
   ]
  },
  {
   "cell_type": "code",
   "execution_count": null,
   "metadata": {
    "colab": {
     "base_uri": "https://localhost:8080/",
     "height": 0
    },
    "colab_type": "code",
    "executionInfo": {
     "elapsed": 5372,
     "status": "ok",
     "timestamp": 1574402716589,
     "user": {
      "displayName": "Mac Sriyanong",
      "photoUrl": "https://lh3.googleusercontent.com/a-/AAuE7mBDcSOx-hT0L-jUf7ZECeaUL0zXgJ7UsQk5jreA9w=s64",
      "userId": "08392812212861704534"
     },
     "user_tz": -420
    },
    "id": "KwBu4LwOKKd7",
    "outputId": "b16be3ea-4364-42a7-9c86-3bf9dd34dadc"
   },
   "outputs": [],
   "source": [
    "s4.reindex(range(7), method='ffill')"
   ]
  },
  {
   "cell_type": "markdown",
   "metadata": {
    "colab_type": "text",
    "id": "uOGSPmEQKKd8"
   },
   "source": [
    "We can also reindex both rows and columns in DataFrame."
   ]
  },
  {
   "cell_type": "code",
   "execution_count": null,
   "metadata": {
    "colab": {
     "base_uri": "https://localhost:8080/",
     "height": 0
    },
    "colab_type": "code",
    "executionInfo": {
     "elapsed": 5360,
     "status": "ok",
     "timestamp": 1574402716589,
     "user": {
      "displayName": "Mac Sriyanong",
      "photoUrl": "https://lh3.googleusercontent.com/a-/AAuE7mBDcSOx-hT0L-jUf7ZECeaUL0zXgJ7UsQk5jreA9w=s64",
      "userId": "08392812212861704534"
     },
     "user_tz": -420
    },
    "id": "SrSdZO8gKKd9",
    "outputId": "7720f67c-f09e-4f85-879d-f1dfb7e51489"
   },
   "outputs": [],
   "source": [
    "df3"
   ]
  },
  {
   "cell_type": "code",
   "execution_count": null,
   "metadata": {
    "colab": {
     "base_uri": "https://localhost:8080/",
     "height": 0
    },
    "colab_type": "code",
    "executionInfo": {
     "elapsed": 5345,
     "status": "ok",
     "timestamp": 1574402716590,
     "user": {
      "displayName": "Mac Sriyanong",
      "photoUrl": "https://lh3.googleusercontent.com/a-/AAuE7mBDcSOx-hT0L-jUf7ZECeaUL0zXgJ7UsQk5jreA9w=s64",
      "userId": "08392812212861704534"
     },
     "user_tz": -420
    },
    "id": "SW48Q3suKKeA",
    "outputId": "6f6915e9-066b-4dd1-a60c-5fc9d9076dd6"
   },
   "outputs": [],
   "source": [
    "df3.reindex([2019, 2018, 2016])"
   ]
  },
  {
   "cell_type": "code",
   "execution_count": null,
   "metadata": {
    "colab": {
     "base_uri": "https://localhost:8080/",
     "height": 0
    },
    "colab_type": "code",
    "executionInfo": {
     "elapsed": 5335,
     "status": "ok",
     "timestamp": 1574402716590,
     "user": {
      "displayName": "Mac Sriyanong",
      "photoUrl": "https://lh3.googleusercontent.com/a-/AAuE7mBDcSOx-hT0L-jUf7ZECeaUL0zXgJ7UsQk5jreA9w=s64",
      "userId": "08392812212861704534"
     },
     "user_tz": -420
    },
    "id": "p_hdxtMgKKeB",
    "outputId": "1e512451-238a-40c1-9258-7d583552569e"
   },
   "outputs": [],
   "source": [
    "df3.reindex(columns=['Lamphun', 'Chiang Mai', 'Lampang'])"
   ]
  },
  {
   "cell_type": "markdown",
   "metadata": {
    "colab_type": "text",
    "id": "YfBOyGz1KKeD"
   },
   "source": [
    "Sometimes, we will have to rename index and column names.  This can be done with rename."
   ]
  },
  {
   "cell_type": "code",
   "execution_count": null,
   "metadata": {
    "colab": {
     "base_uri": "https://localhost:8080/",
     "height": 0
    },
    "colab_type": "code",
    "executionInfo": {
     "elapsed": 5327,
     "status": "ok",
     "timestamp": 1574402716591,
     "user": {
      "displayName": "Mac Sriyanong",
      "photoUrl": "https://lh3.googleusercontent.com/a-/AAuE7mBDcSOx-hT0L-jUf7ZECeaUL0zXgJ7UsQk5jreA9w=s64",
      "userId": "08392812212861704534"
     },
     "user_tz": -420
    },
    "id": "w0j5gshVKKeD",
    "outputId": "11945fb1-1101-4b42-d458-631d3afec090"
   },
   "outputs": [],
   "source": [
    "df3.rename(columns={'Chiang Mai': 'CNX', 'Phrae': 'PRH'})"
   ]
  },
  {
   "cell_type": "markdown",
   "metadata": {
    "colab_type": "text",
    "id": "U0N7VNJ1KKeE"
   },
   "source": [
    "## Indexing, Selection, and Filtering\n",
    "These operations are frequently used in data exploration."
   ]
  },
  {
   "cell_type": "markdown",
   "metadata": {
    "colab_type": "text",
    "id": "IA-MAjJyKKeF"
   },
   "source": [
    "### Series"
   ]
  },
  {
   "cell_type": "code",
   "execution_count": null,
   "metadata": {
    "colab": {
     "base_uri": "https://localhost:8080/",
     "height": 0
    },
    "colab_type": "code",
    "executionInfo": {
     "elapsed": 5309,
     "status": "ok",
     "timestamp": 1574402716592,
     "user": {
      "displayName": "Mac Sriyanong",
      "photoUrl": "https://lh3.googleusercontent.com/a-/AAuE7mBDcSOx-hT0L-jUf7ZECeaUL0zXgJ7UsQk5jreA9w=s64",
      "userId": "08392812212861704534"
     },
     "user_tz": -420
    },
    "id": "objDqyF4KKeF",
    "outputId": "108481e5-1f2b-406a-8ea6-3e197547c828"
   },
   "outputs": [],
   "source": [
    "s2"
   ]
  },
  {
   "cell_type": "code",
   "execution_count": null,
   "metadata": {
    "colab": {
     "base_uri": "https://localhost:8080/",
     "height": 0
    },
    "colab_type": "code",
    "executionInfo": {
     "elapsed": 5299,
     "status": "ok",
     "timestamp": 1574402716592,
     "user": {
      "displayName": "Mac Sriyanong",
      "photoUrl": "https://lh3.googleusercontent.com/a-/AAuE7mBDcSOx-hT0L-jUf7ZECeaUL0zXgJ7UsQk5jreA9w=s64",
      "userId": "08392812212861704534"
     },
     "user_tz": -420
    },
    "id": "nGbuRbbBKKeG",
    "outputId": "e7b0e3f6-775f-42d8-8356-d14cd90122e7"
   },
   "outputs": [],
   "source": [
    "s2['b']"
   ]
  },
  {
   "cell_type": "code",
   "execution_count": null,
   "metadata": {
    "colab": {
     "base_uri": "https://localhost:8080/",
     "height": 0
    },
    "colab_type": "code",
    "executionInfo": {
     "elapsed": 5290,
     "status": "ok",
     "timestamp": 1574402716593,
     "user": {
      "displayName": "Mac Sriyanong",
      "photoUrl": "https://lh3.googleusercontent.com/a-/AAuE7mBDcSOx-hT0L-jUf7ZECeaUL0zXgJ7UsQk5jreA9w=s64",
      "userId": "08392812212861704534"
     },
     "user_tz": -420
    },
    "id": "a6dM3irFKKeI",
    "outputId": "21d66f02-e6cb-4452-b6d1-9b8697baa623"
   },
   "outputs": [],
   "source": [
    "s2[1]"
   ]
  },
  {
   "cell_type": "code",
   "execution_count": null,
   "metadata": {
    "colab": {
     "base_uri": "https://localhost:8080/",
     "height": 0
    },
    "colab_type": "code",
    "executionInfo": {
     "elapsed": 5277,
     "status": "ok",
     "timestamp": 1574402716593,
     "user": {
      "displayName": "Mac Sriyanong",
      "photoUrl": "https://lh3.googleusercontent.com/a-/AAuE7mBDcSOx-hT0L-jUf7ZECeaUL0zXgJ7UsQk5jreA9w=s64",
      "userId": "08392812212861704534"
     },
     "user_tz": -420
    },
    "id": "Kc3TWrOfKKeK",
    "outputId": "ae869b3a-ba8f-49f3-b4d7-1a947f54a150"
   },
   "outputs": [],
   "source": [
    "s2[2:4]"
   ]
  },
  {
   "cell_type": "code",
   "execution_count": null,
   "metadata": {
    "colab": {
     "base_uri": "https://localhost:8080/",
     "height": 0
    },
    "colab_type": "code",
    "executionInfo": {
     "elapsed": 5264,
     "status": "ok",
     "timestamp": 1574402716594,
     "user": {
      "displayName": "Mac Sriyanong",
      "photoUrl": "https://lh3.googleusercontent.com/a-/AAuE7mBDcSOx-hT0L-jUf7ZECeaUL0zXgJ7UsQk5jreA9w=s64",
      "userId": "08392812212861704534"
     },
     "user_tz": -420
    },
    "id": "L8W7nfjiKKeh",
    "outputId": "0cc6b710-600d-4b97-cdaa-a08a6de52b12"
   },
   "outputs": [],
   "source": [
    "s2[['b', 'c', 'd']]"
   ]
  },
  {
   "cell_type": "code",
   "execution_count": null,
   "metadata": {
    "colab": {
     "base_uri": "https://localhost:8080/",
     "height": 0
    },
    "colab_type": "code",
    "executionInfo": {
     "elapsed": 5248,
     "status": "ok",
     "timestamp": 1574402716594,
     "user": {
      "displayName": "Mac Sriyanong",
      "photoUrl": "https://lh3.googleusercontent.com/a-/AAuE7mBDcSOx-hT0L-jUf7ZECeaUL0zXgJ7UsQk5jreA9w=s64",
      "userId": "08392812212861704534"
     },
     "user_tz": -420
    },
    "id": "7bNuL2aMKKei",
    "outputId": "e382532a-86dd-413c-c307-851e630f61b3"
   },
   "outputs": [],
   "source": [
    "s2[[1,3]]"
   ]
  },
  {
   "cell_type": "markdown",
   "metadata": {
    "colab_type": "text",
    "id": "FgxL-HTUKKej"
   },
   "source": [
    "Note that slicing with labels behaves differently than normal Python slicing as it is inclusive"
   ]
  },
  {
   "cell_type": "code",
   "execution_count": null,
   "metadata": {
    "colab": {
     "base_uri": "https://localhost:8080/",
     "height": 0
    },
    "colab_type": "code",
    "executionInfo": {
     "elapsed": 5234,
     "status": "ok",
     "timestamp": 1574402716595,
     "user": {
      "displayName": "Mac Sriyanong",
      "photoUrl": "https://lh3.googleusercontent.com/a-/AAuE7mBDcSOx-hT0L-jUf7ZECeaUL0zXgJ7UsQk5jreA9w=s64",
      "userId": "08392812212861704534"
     },
     "user_tz": -420
    },
    "id": "3zrqPcNdKKej",
    "outputId": "16181959-4247-4cf1-e16a-fcccb82ef218"
   },
   "outputs": [],
   "source": [
    "s2"
   ]
  },
  {
   "cell_type": "code",
   "execution_count": null,
   "metadata": {
    "colab": {
     "base_uri": "https://localhost:8080/",
     "height": 0
    },
    "colab_type": "code",
    "executionInfo": {
     "elapsed": 5216,
     "status": "ok",
     "timestamp": 1574402716595,
     "user": {
      "displayName": "Mac Sriyanong",
      "photoUrl": "https://lh3.googleusercontent.com/a-/AAuE7mBDcSOx-hT0L-jUf7ZECeaUL0zXgJ7UsQk5jreA9w=s64",
      "userId": "08392812212861704534"
     },
     "user_tz": -420
    },
    "id": "7_Twn6mPKKek",
    "outputId": "ebe4ddb4-69c5-4199-cf74-62fd1a40e8cf"
   },
   "outputs": [],
   "source": [
    "s2['b':'c']"
   ]
  },
  {
   "cell_type": "code",
   "execution_count": null,
   "metadata": {
    "colab": {
     "base_uri": "https://localhost:8080/",
     "height": 0
    },
    "colab_type": "code",
    "executionInfo": {
     "elapsed": 5200,
     "status": "ok",
     "timestamp": 1574402716596,
     "user": {
      "displayName": "Mac Sriyanong",
      "photoUrl": "https://lh3.googleusercontent.com/a-/AAuE7mBDcSOx-hT0L-jUf7ZECeaUL0zXgJ7UsQk5jreA9w=s64",
      "userId": "08392812212861704534"
     },
     "user_tz": -420
    },
    "id": "RyWVrHHVKKel",
    "outputId": "fbc1ddea-ee03-400d-dc86-f046578c5ce3"
   },
   "outputs": [],
   "source": [
    "s2['a':'d']"
   ]
  },
  {
   "cell_type": "code",
   "execution_count": null,
   "metadata": {
    "colab": {
     "base_uri": "https://localhost:8080/",
     "height": 0
    },
    "colab_type": "code",
    "executionInfo": {
     "elapsed": 5192,
     "status": "ok",
     "timestamp": 1574402716596,
     "user": {
      "displayName": "Mac Sriyanong",
      "photoUrl": "https://lh3.googleusercontent.com/a-/AAuE7mBDcSOx-hT0L-jUf7ZECeaUL0zXgJ7UsQk5jreA9w=s64",
      "userId": "08392812212861704534"
     },
     "user_tz": -420
    },
    "id": "4hBgNukhKKen",
    "outputId": "553933f0-7a32-49cf-eb59-b377550e2427"
   },
   "outputs": [],
   "source": [
    "s2['a':'c'] = 100\n",
    "s2"
   ]
  },
  {
   "cell_type": "code",
   "execution_count": null,
   "metadata": {
    "colab": {
     "base_uri": "https://localhost:8080/",
     "height": 0
    },
    "colab_type": "code",
    "executionInfo": {
     "elapsed": 5183,
     "status": "ok",
     "timestamp": 1574402716597,
     "user": {
      "displayName": "Mac Sriyanong",
      "photoUrl": "https://lh3.googleusercontent.com/a-/AAuE7mBDcSOx-hT0L-jUf7ZECeaUL0zXgJ7UsQk5jreA9w=s64",
      "userId": "08392812212861704534"
     },
     "user_tz": -420
    },
    "id": "oQL1MS7uKKeo",
    "outputId": "b3a0c0e5-cbed-4461-f85e-4ceacba64a72",
    "scrolled": true
   },
   "outputs": [],
   "source": [
    "s2 < 50"
   ]
  },
  {
   "cell_type": "code",
   "execution_count": null,
   "metadata": {
    "colab": {
     "base_uri": "https://localhost:8080/",
     "height": 0
    },
    "colab_type": "code",
    "executionInfo": {
     "elapsed": 5176,
     "status": "ok",
     "timestamp": 1574402716598,
     "user": {
      "displayName": "Mac Sriyanong",
      "photoUrl": "https://lh3.googleusercontent.com/a-/AAuE7mBDcSOx-hT0L-jUf7ZECeaUL0zXgJ7UsQk5jreA9w=s64",
      "userId": "08392812212861704534"
     },
     "user_tz": -420
    },
    "id": "opamh0NaKKep",
    "outputId": "f4701c05-ddbb-490b-f599-62c63f41f367",
    "scrolled": false
   },
   "outputs": [],
   "source": [
    "s2[s2 < 50]"
   ]
  },
  {
   "cell_type": "markdown",
   "metadata": {
    "colab_type": "text",
    "id": "KZ7vfytuKKeq"
   },
   "source": [
    "### DataFrame"
   ]
  },
  {
   "cell_type": "code",
   "execution_count": null,
   "metadata": {
    "colab": {
     "base_uri": "https://localhost:8080/",
     "height": 0
    },
    "colab_type": "code",
    "executionInfo": {
     "elapsed": 5167,
     "status": "ok",
     "timestamp": 1574402716598,
     "user": {
      "displayName": "Mac Sriyanong",
      "photoUrl": "https://lh3.googleusercontent.com/a-/AAuE7mBDcSOx-hT0L-jUf7ZECeaUL0zXgJ7UsQk5jreA9w=s64",
      "userId": "08392812212861704534"
     },
     "user_tz": -420
    },
    "id": "BBffXv1yKKeq",
    "outputId": "e0fef483-8e53-4eb7-8bf5-bfd11993d718"
   },
   "outputs": [],
   "source": [
    "df2"
   ]
  },
  {
   "cell_type": "code",
   "execution_count": null,
   "metadata": {
    "colab": {
     "base_uri": "https://localhost:8080/",
     "height": 0
    },
    "colab_type": "code",
    "executionInfo": {
     "elapsed": 5160,
     "status": "ok",
     "timestamp": 1574402716599,
     "user": {
      "displayName": "Mac Sriyanong",
      "photoUrl": "https://lh3.googleusercontent.com/a-/AAuE7mBDcSOx-hT0L-jUf7ZECeaUL0zXgJ7UsQk5jreA9w=s64",
      "userId": "08392812212861704534"
     },
     "user_tz": -420
    },
    "id": "kYZ6WLesKKer",
    "outputId": "21d5535f-2d6a-41b8-8151-b3bf10f370ef"
   },
   "outputs": [],
   "source": [
    "df2['population']"
   ]
  },
  {
   "cell_type": "code",
   "execution_count": null,
   "metadata": {
    "colab": {
     "base_uri": "https://localhost:8080/",
     "height": 0
    },
    "colab_type": "code",
    "executionInfo": {
     "elapsed": 5150,
     "status": "ok",
     "timestamp": 1574402716599,
     "user": {
      "displayName": "Mac Sriyanong",
      "photoUrl": "https://lh3.googleusercontent.com/a-/AAuE7mBDcSOx-hT0L-jUf7ZECeaUL0zXgJ7UsQk5jreA9w=s64",
      "userId": "08392812212861704534"
     },
     "user_tz": -420
    },
    "id": "FjuiWaPsKKet",
    "outputId": "fa164c61-2b11-4274-b6b4-031cb6cee329"
   },
   "outputs": [],
   "source": [
    "df2[['province', 'year', 'household']]"
   ]
  },
  {
   "cell_type": "code",
   "execution_count": null,
   "metadata": {
    "colab": {
     "base_uri": "https://localhost:8080/",
     "height": 0
    },
    "colab_type": "code",
    "executionInfo": {
     "elapsed": 5143,
     "status": "ok",
     "timestamp": 1574402716600,
     "user": {
      "displayName": "Mac Sriyanong",
      "photoUrl": "https://lh3.googleusercontent.com/a-/AAuE7mBDcSOx-hT0L-jUf7ZECeaUL0zXgJ7UsQk5jreA9w=s64",
      "userId": "08392812212861704534"
     },
     "user_tz": -420
    },
    "id": "WxsrPphMKKeu",
    "outputId": "47263da7-e20d-40f4-e2e5-c992e9013442"
   },
   "outputs": [],
   "source": [
    "df2[:2]"
   ]
  },
  {
   "cell_type": "code",
   "execution_count": null,
   "metadata": {
    "colab": {
     "base_uri": "https://localhost:8080/",
     "height": 0
    },
    "colab_type": "code",
    "executionInfo": {
     "elapsed": 5136,
     "status": "ok",
     "timestamp": 1574402716600,
     "user": {
      "displayName": "Mac Sriyanong",
      "photoUrl": "https://lh3.googleusercontent.com/a-/AAuE7mBDcSOx-hT0L-jUf7ZECeaUL0zXgJ7UsQk5jreA9w=s64",
      "userId": "08392812212861704534"
     },
     "user_tz": -420
    },
    "id": "IYuompyqKKev",
    "outputId": "6ebbbb23-7c7a-4253-d546-3b76aeba2737"
   },
   "outputs": [],
   "source": [
    "df2['population']> 1500000"
   ]
  },
  {
   "cell_type": "code",
   "execution_count": null,
   "metadata": {
    "colab": {
     "base_uri": "https://localhost:8080/",
     "height": 0
    },
    "colab_type": "code",
    "executionInfo": {
     "elapsed": 5128,
     "status": "ok",
     "timestamp": 1574402716601,
     "user": {
      "displayName": "Mac Sriyanong",
      "photoUrl": "https://lh3.googleusercontent.com/a-/AAuE7mBDcSOx-hT0L-jUf7ZECeaUL0zXgJ7UsQk5jreA9w=s64",
      "userId": "08392812212861704534"
     },
     "user_tz": -420
    },
    "id": "4mko_PoOKKey",
    "outputId": "4c757a58-f5c0-4236-944f-a9c20573d3a8"
   },
   "outputs": [],
   "source": [
    "df2[df2['population']> 1500000]"
   ]
  },
  {
   "cell_type": "markdown",
   "metadata": {
    "colab_type": "text",
    "id": "-Tyt1FRVKKe0"
   },
   "source": [
    "### Data Referencing with *loc* and *iloc*\n",
    "*loc* and *iloc* can be used for slecting a subset of rows and columns in a DataFrame.  *loc* is for label indexing and *iloc* is for integer indexing.  The selecting can be applied for both read and write operations."
   ]
  },
  {
   "cell_type": "code",
   "execution_count": null,
   "metadata": {
    "colab": {
     "base_uri": "https://localhost:8080/",
     "height": 0
    },
    "colab_type": "code",
    "executionInfo": {
     "elapsed": 5121,
     "status": "ok",
     "timestamp": 1574402716601,
     "user": {
      "displayName": "Mac Sriyanong",
      "photoUrl": "https://lh3.googleusercontent.com/a-/AAuE7mBDcSOx-hT0L-jUf7ZECeaUL0zXgJ7UsQk5jreA9w=s64",
      "userId": "08392812212861704534"
     },
     "user_tz": -420
    },
    "id": "h75H_nXXKKe0",
    "outputId": "46afb0c5-39f8-475b-c1a2-ec3c495f67be"
   },
   "outputs": [],
   "source": [
    "df2"
   ]
  },
  {
   "cell_type": "code",
   "execution_count": null,
   "metadata": {
    "colab": {
     "base_uri": "https://localhost:8080/",
     "height": 0
    },
    "colab_type": "code",
    "executionInfo": {
     "elapsed": 5113,
     "status": "ok",
     "timestamp": 1574402716602,
     "user": {
      "displayName": "Mac Sriyanong",
      "photoUrl": "https://lh3.googleusercontent.com/a-/AAuE7mBDcSOx-hT0L-jUf7ZECeaUL0zXgJ7UsQk5jreA9w=s64",
      "userId": "08392812212861704534"
     },
     "user_tz": -420
    },
    "id": "4iTfYo1jKKe1",
    "outputId": "ccba259f-010e-4d7c-ce69-ca1c3c85b0e8"
   },
   "outputs": [],
   "source": [
    "df2.loc['two', 'year']"
   ]
  },
  {
   "cell_type": "code",
   "execution_count": null,
   "metadata": {
    "colab": {
     "base_uri": "https://localhost:8080/",
     "height": 0
    },
    "colab_type": "code",
    "executionInfo": {
     "elapsed": 5105,
     "status": "ok",
     "timestamp": 1574402716602,
     "user": {
      "displayName": "Mac Sriyanong",
      "photoUrl": "https://lh3.googleusercontent.com/a-/AAuE7mBDcSOx-hT0L-jUf7ZECeaUL0zXgJ7UsQk5jreA9w=s64",
      "userId": "08392812212861704534"
     },
     "user_tz": -420
    },
    "id": "yqCCBUSGKKe2",
    "outputId": "e8fb04ed-90f6-4a1e-815b-d249d6110363"
   },
   "outputs": [],
   "source": [
    "df2.loc[['one', 'three', 'six'], ['population', 'household']]"
   ]
  },
  {
   "cell_type": "code",
   "execution_count": null,
   "metadata": {
    "colab": {
     "base_uri": "https://localhost:8080/",
     "height": 0
    },
    "colab_type": "code",
    "executionInfo": {
     "elapsed": 5097,
     "status": "ok",
     "timestamp": 1574402716603,
     "user": {
      "displayName": "Mac Sriyanong",
      "photoUrl": "https://lh3.googleusercontent.com/a-/AAuE7mBDcSOx-hT0L-jUf7ZECeaUL0zXgJ7UsQk5jreA9w=s64",
      "userId": "08392812212861704534"
     },
     "user_tz": -420
    },
    "id": "LTGh4R47KKe4",
    "outputId": "cf84f891-bf8c-4db6-d44f-2070c898c34e"
   },
   "outputs": [],
   "source": [
    "df2.loc['three']"
   ]
  },
  {
   "cell_type": "code",
   "execution_count": null,
   "metadata": {
    "colab": {
     "base_uri": "https://localhost:8080/",
     "height": 0
    },
    "colab_type": "code",
    "executionInfo": {
     "elapsed": 5088,
     "status": "ok",
     "timestamp": 1574402716603,
     "user": {
      "displayName": "Mac Sriyanong",
      "photoUrl": "https://lh3.googleusercontent.com/a-/AAuE7mBDcSOx-hT0L-jUf7ZECeaUL0zXgJ7UsQk5jreA9w=s64",
      "userId": "08392812212861704534"
     },
     "user_tz": -420
    },
    "id": "X_blZDvOKKe6",
    "outputId": "0ea4db33-3ed5-47e7-b43a-35cd2f2bb1d0"
   },
   "outputs": [],
   "source": [
    "df2.loc['three', :]"
   ]
  },
  {
   "cell_type": "code",
   "execution_count": null,
   "metadata": {
    "colab": {
     "base_uri": "https://localhost:8080/",
     "height": 0
    },
    "colab_type": "code",
    "executionInfo": {
     "elapsed": 5081,
     "status": "ok",
     "timestamp": 1574402716604,
     "user": {
      "displayName": "Mac Sriyanong",
      "photoUrl": "https://lh3.googleusercontent.com/a-/AAuE7mBDcSOx-hT0L-jUf7ZECeaUL0zXgJ7UsQk5jreA9w=s64",
      "userId": "08392812212861704534"
     },
     "user_tz": -420
    },
    "id": "6SU2T2CrKKe7",
    "outputId": "b20b06e3-a60a-40a1-fb02-7df4e9235128"
   },
   "outputs": [],
   "source": [
    "df2.loc[:,'population']"
   ]
  },
  {
   "cell_type": "code",
   "execution_count": null,
   "metadata": {
    "colab": {},
    "colab_type": "code",
    "id": "gl_NVw7KKKe8"
   },
   "outputs": [],
   "source": [
    "df2.population += df2.year"
   ]
  },
  {
   "cell_type": "code",
   "execution_count": null,
   "metadata": {
    "colab": {
     "base_uri": "https://localhost:8080/",
     "height": 0
    },
    "colab_type": "code",
    "executionInfo": {
     "elapsed": 5073,
     "status": "ok",
     "timestamp": 1574402716605,
     "user": {
      "displayName": "Mac Sriyanong",
      "photoUrl": "https://lh3.googleusercontent.com/a-/AAuE7mBDcSOx-hT0L-jUf7ZECeaUL0zXgJ7UsQk5jreA9w=s64",
      "userId": "08392812212861704534"
     },
     "user_tz": -420
    },
    "id": "QbdgUFTdavWj",
    "outputId": "66f4a29d-c499-4659-97dc-85fb5cf7d5c7"
   },
   "outputs": [],
   "source": [
    "df2"
   ]
  },
  {
   "cell_type": "code",
   "execution_count": null,
   "metadata": {
    "colab": {
     "base_uri": "https://localhost:8080/",
     "height": 0
    },
    "colab_type": "code",
    "executionInfo": {
     "elapsed": 5067,
     "status": "ok",
     "timestamp": 1574402716605,
     "user": {
      "displayName": "Mac Sriyanong",
      "photoUrl": "https://lh3.googleusercontent.com/a-/AAuE7mBDcSOx-hT0L-jUf7ZECeaUL0zXgJ7UsQk5jreA9w=s64",
      "userId": "08392812212861704534"
     },
     "user_tz": -420
    },
    "id": "DQniR1AfKKe9",
    "outputId": "023358ab-d9ec-40b8-cf9a-912ed705fdef"
   },
   "outputs": [],
   "source": [
    "df2.loc[df2['household'] < 15, 'household'] = 10\n",
    "df2"
   ]
  },
  {
   "cell_type": "code",
   "execution_count": null,
   "metadata": {
    "colab": {
     "base_uri": "https://localhost:8080/",
     "height": 0
    },
    "colab_type": "code",
    "executionInfo": {
     "elapsed": 5062,
     "status": "ok",
     "timestamp": 1574402716606,
     "user": {
      "displayName": "Mac Sriyanong",
      "photoUrl": "https://lh3.googleusercontent.com/a-/AAuE7mBDcSOx-hT0L-jUf7ZECeaUL0zXgJ7UsQk5jreA9w=s64",
      "userId": "08392812212861704534"
     },
     "user_tz": -420
    },
    "id": "gJn_h90iKKe_",
    "outputId": "abdb3f13-6225-40da-bbac-e32ada785c0a"
   },
   "outputs": [],
   "source": [
    "df2.iloc[0]"
   ]
  },
  {
   "cell_type": "code",
   "execution_count": null,
   "metadata": {
    "colab": {
     "base_uri": "https://localhost:8080/",
     "height": 0
    },
    "colab_type": "code",
    "executionInfo": {
     "elapsed": 5056,
     "status": "ok",
     "timestamp": 1574402716606,
     "user": {
      "displayName": "Mac Sriyanong",
      "photoUrl": "https://lh3.googleusercontent.com/a-/AAuE7mBDcSOx-hT0L-jUf7ZECeaUL0zXgJ7UsQk5jreA9w=s64",
      "userId": "08392812212861704534"
     },
     "user_tz": -420
    },
    "id": "bGr_dDowKKfA",
    "outputId": "45146eb8-574e-46a6-a610-ae98f6de54d2"
   },
   "outputs": [],
   "source": [
    "df2.iloc[[0,1], [1, 3]]"
   ]
  },
  {
   "cell_type": "code",
   "execution_count": null,
   "metadata": {
    "colab": {
     "base_uri": "https://localhost:8080/",
     "height": 0
    },
    "colab_type": "code",
    "executionInfo": {
     "elapsed": 5061,
     "status": "ok",
     "timestamp": 1574402716616,
     "user": {
      "displayName": "Mac Sriyanong",
      "photoUrl": "https://lh3.googleusercontent.com/a-/AAuE7mBDcSOx-hT0L-jUf7ZECeaUL0zXgJ7UsQk5jreA9w=s64",
      "userId": "08392812212861704534"
     },
     "user_tz": -420
    },
    "id": "_gnaIkVBKKfA",
    "outputId": "783b810a-a26c-4146-ea17-c42efe4bc9d5"
   },
   "outputs": [],
   "source": [
    "df2.iloc[:4, 1:3]"
   ]
  },
  {
   "cell_type": "markdown",
   "metadata": {
    "colab_type": "text",
    "id": "2lvAFXHJKKfC"
   },
   "source": [
    "## Arithmetic and Data Alignment\n",
    "An important pandas feature is the behavior of arithmteic between objects with different indexes.  The result will be the union of the index pairs."
   ]
  },
  {
   "cell_type": "code",
   "execution_count": null,
   "metadata": {
    "colab": {
     "base_uri": "https://localhost:8080/",
     "height": 102
    },
    "colab_type": "code",
    "executionInfo": {
     "elapsed": 5052,
     "status": "ok",
     "timestamp": 1574402716617,
     "user": {
      "displayName": "Mac Sriyanong",
      "photoUrl": "https://lh3.googleusercontent.com/a-/AAuE7mBDcSOx-hT0L-jUf7ZECeaUL0zXgJ7UsQk5jreA9w=s64",
      "userId": "08392812212861704534"
     },
     "user_tz": -420
    },
    "id": "bqy7gazTKKfC",
    "outputId": "00853176-ad3e-476c-c426-5c3164ac87d7"
   },
   "outputs": [],
   "source": [
    "s1 = pd.Series([4, 7, -5, 3], index=['d','b','a','c'])\n",
    "s1"
   ]
  },
  {
   "cell_type": "code",
   "execution_count": null,
   "metadata": {
    "colab": {
     "base_uri": "https://localhost:8080/",
     "height": 85
    },
    "colab_type": "code",
    "executionInfo": {
     "elapsed": 5041,
     "status": "ok",
     "timestamp": 1574402716617,
     "user": {
      "displayName": "Mac Sriyanong",
      "photoUrl": "https://lh3.googleusercontent.com/a-/AAuE7mBDcSOx-hT0L-jUf7ZECeaUL0zXgJ7UsQk5jreA9w=s64",
      "userId": "08392812212861704534"
     },
     "user_tz": -420
    },
    "id": "0uQr8_JKKKfD",
    "outputId": "583711f4-1918-4b1a-ce02-fb1b92da218e"
   },
   "outputs": [],
   "source": [
    "s2 = pd.Series([1, 0, 9], index=['a','c','x'])\n",
    "s2"
   ]
  },
  {
   "cell_type": "code",
   "execution_count": null,
   "metadata": {
    "colab": {
     "base_uri": "https://localhost:8080/",
     "height": 119
    },
    "colab_type": "code",
    "executionInfo": {
     "elapsed": 5031,
     "status": "ok",
     "timestamp": 1574402716618,
     "user": {
      "displayName": "Mac Sriyanong",
      "photoUrl": "https://lh3.googleusercontent.com/a-/AAuE7mBDcSOx-hT0L-jUf7ZECeaUL0zXgJ7UsQk5jreA9w=s64",
      "userId": "08392812212861704534"
     },
     "user_tz": -420
    },
    "id": "moQ3rUxFKKfD",
    "outputId": "d2e087c8-7235-40cd-f9c6-0c837b2cda17"
   },
   "outputs": [],
   "source": [
    "s1 + s2"
   ]
  },
  {
   "cell_type": "markdown",
   "metadata": {
    "colab_type": "text",
    "id": "Cs_aanR6KKfE"
   },
   "source": [
    "This is also true for DataFrame"
   ]
  },
  {
   "cell_type": "markdown",
   "metadata": {
    "colab_type": "text",
    "id": "CjMU1P_4KKfK"
   },
   "source": [
    "### Arithmetic methods with fill values"
   ]
  },
  {
   "cell_type": "code",
   "execution_count": null,
   "metadata": {
    "colab": {
     "base_uri": "https://localhost:8080/",
     "height": 0
    },
    "colab_type": "code",
    "executionInfo": {
     "elapsed": 4978,
     "status": "ok",
     "timestamp": 1574402716621,
     "user": {
      "displayName": "Mac Sriyanong",
      "photoUrl": "https://lh3.googleusercontent.com/a-/AAuE7mBDcSOx-hT0L-jUf7ZECeaUL0zXgJ7UsQk5jreA9w=s64",
      "userId": "08392812212861704534"
     },
     "user_tz": -420
    },
    "id": "K1q-1CrZKKfK",
    "outputId": "ef6cfe45-3632-4ae8-9da9-5896bbd7b2b0"
   },
   "outputs": [],
   "source": [
    "s1.add(s2, fill_value=0)"
   ]
  },
  {
   "cell_type": "markdown",
   "metadata": {
    "colab_type": "text",
    "id": "n9l8Sq9gKKfN"
   },
   "source": [
    "## Sorting and Ranking"
   ]
  },
  {
   "cell_type": "code",
   "execution_count": null,
   "metadata": {
    "colab": {
     "base_uri": "https://localhost:8080/",
     "height": 102
    },
    "colab_type": "code",
    "executionInfo": {
     "elapsed": 4969,
     "status": "ok",
     "timestamp": 1574402716621,
     "user": {
      "displayName": "Mac Sriyanong",
      "photoUrl": "https://lh3.googleusercontent.com/a-/AAuE7mBDcSOx-hT0L-jUf7ZECeaUL0zXgJ7UsQk5jreA9w=s64",
      "userId": "08392812212861704534"
     },
     "user_tz": -420
    },
    "id": "cJD_uPnGKKfN",
    "outputId": "85b56772-d80e-49d8-cf88-df9adb66e73a"
   },
   "outputs": [],
   "source": [
    "s1 = pd.Series([4, 7, -5, 3], index=['d','b','a','c'])\n",
    "s1"
   ]
  },
  {
   "cell_type": "code",
   "execution_count": null,
   "metadata": {
    "colab": {
     "base_uri": "https://localhost:8080/",
     "height": 102
    },
    "colab_type": "code",
    "executionInfo": {
     "elapsed": 4959,
     "status": "ok",
     "timestamp": 1574402716622,
     "user": {
      "displayName": "Mac Sriyanong",
      "photoUrl": "https://lh3.googleusercontent.com/a-/AAuE7mBDcSOx-hT0L-jUf7ZECeaUL0zXgJ7UsQk5jreA9w=s64",
      "userId": "08392812212861704534"
     },
     "user_tz": -420
    },
    "id": "dvkmZmMSKKfO",
    "outputId": "21048f19-f443-4f11-c1ca-99c84a90f993"
   },
   "outputs": [],
   "source": [
    "s1.sort_index()"
   ]
  },
  {
   "cell_type": "code",
   "execution_count": null,
   "metadata": {
    "colab": {
     "base_uri": "https://localhost:8080/",
     "height": 102
    },
    "colab_type": "code",
    "executionInfo": {
     "elapsed": 4948,
     "status": "ok",
     "timestamp": 1574402716622,
     "user": {
      "displayName": "Mac Sriyanong",
      "photoUrl": "https://lh3.googleusercontent.com/a-/AAuE7mBDcSOx-hT0L-jUf7ZECeaUL0zXgJ7UsQk5jreA9w=s64",
      "userId": "08392812212861704534"
     },
     "user_tz": -420
    },
    "id": "MYYuZOZdKKfP",
    "outputId": "2bb521b7-c84d-4e9a-ffc2-7ae7f6f907c8"
   },
   "outputs": [],
   "source": [
    "s1.sort_values()"
   ]
  },
  {
   "cell_type": "code",
   "execution_count": null,
   "metadata": {
    "colab": {},
    "colab_type": "code",
    "id": "IbM_taXCKKfQ"
   },
   "outputs": [],
   "source": [
    "s1['c'] = np.NaN"
   ]
  },
  {
   "cell_type": "code",
   "execution_count": null,
   "metadata": {
    "colab": {
     "base_uri": "https://localhost:8080/",
     "height": 102
    },
    "colab_type": "code",
    "executionInfo": {
     "elapsed": 4935,
     "status": "ok",
     "timestamp": 1574402716623,
     "user": {
      "displayName": "Mac Sriyanong",
      "photoUrl": "https://lh3.googleusercontent.com/a-/AAuE7mBDcSOx-hT0L-jUf7ZECeaUL0zXgJ7UsQk5jreA9w=s64",
      "userId": "08392812212861704534"
     },
     "user_tz": -420
    },
    "id": "k9o9ICndKKfU",
    "outputId": "e253c715-b0fd-4011-f6e9-a60cb9df6a54"
   },
   "outputs": [],
   "source": [
    "s1"
   ]
  },
  {
   "cell_type": "code",
   "execution_count": null,
   "metadata": {
    "colab": {
     "base_uri": "https://localhost:8080/",
     "height": 102
    },
    "colab_type": "code",
    "executionInfo": {
     "elapsed": 5579,
     "status": "ok",
     "timestamp": 1574402717278,
     "user": {
      "displayName": "Mac Sriyanong",
      "photoUrl": "https://lh3.googleusercontent.com/a-/AAuE7mBDcSOx-hT0L-jUf7ZECeaUL0zXgJ7UsQk5jreA9w=s64",
      "userId": "08392812212861704534"
     },
     "user_tz": -420
    },
    "id": "LZ8sf6pWKKfV",
    "outputId": "d3d7bbe6-ec4b-4e6e-a95b-7021ddd71339"
   },
   "outputs": [],
   "source": [
    "s1.sort_values()"
   ]
  },
  {
   "cell_type": "code",
   "execution_count": null,
   "metadata": {
    "colab": {
     "base_uri": "https://localhost:8080/",
     "height": 102
    },
    "colab_type": "code",
    "executionInfo": {
     "elapsed": 5569,
     "status": "ok",
     "timestamp": 1574402717279,
     "user": {
      "displayName": "Mac Sriyanong",
      "photoUrl": "https://lh3.googleusercontent.com/a-/AAuE7mBDcSOx-hT0L-jUf7ZECeaUL0zXgJ7UsQk5jreA9w=s64",
      "userId": "08392812212861704534"
     },
     "user_tz": -420
    },
    "id": "ku5cQQ26KKfW",
    "outputId": "ae7455fd-f81f-4068-ccfe-e36f3bec80cb"
   },
   "outputs": [],
   "source": [
    "s1.rank()"
   ]
  },
  {
   "cell_type": "code",
   "execution_count": null,
   "metadata": {
    "colab": {
     "base_uri": "https://localhost:8080/",
     "height": 102
    },
    "colab_type": "code",
    "executionInfo": {
     "elapsed": 5558,
     "status": "ok",
     "timestamp": 1574402717280,
     "user": {
      "displayName": "Mac Sriyanong",
      "photoUrl": "https://lh3.googleusercontent.com/a-/AAuE7mBDcSOx-hT0L-jUf7ZECeaUL0zXgJ7UsQk5jreA9w=s64",
      "userId": "08392812212861704534"
     },
     "user_tz": -420
    },
    "id": "f6ZYynpMKKfX",
    "outputId": "1d98c79b-ac1e-4adb-96a5-3ae6d6ae1e67"
   },
   "outputs": [],
   "source": [
    "s1.rank(ascending=False)"
   ]
  },
  {
   "cell_type": "markdown",
   "metadata": {
    "colab_type": "text",
    "id": "aC3yA_8DKKfX"
   },
   "source": [
    "## Summarizing and Desciptive Statistics"
   ]
  },
  {
   "cell_type": "code",
   "execution_count": null,
   "metadata": {
    "colab": {
     "base_uri": "https://localhost:8080/",
     "height": 235
    },
    "colab_type": "code",
    "executionInfo": {
     "elapsed": 5548,
     "status": "ok",
     "timestamp": 1574402717281,
     "user": {
      "displayName": "Mac Sriyanong",
      "photoUrl": "https://lh3.googleusercontent.com/a-/AAuE7mBDcSOx-hT0L-jUf7ZECeaUL0zXgJ7UsQk5jreA9w=s64",
      "userId": "08392812212861704534"
     },
     "user_tz": -420
    },
    "id": "xuIYoydWKKfY",
    "outputId": "31635b68-cc64-4efc-c28e-b605374c758b"
   },
   "outputs": [],
   "source": [
    "df2"
   ]
  },
  {
   "cell_type": "code",
   "execution_count": null,
   "metadata": {
    "colab": {
     "base_uri": "https://localhost:8080/",
     "height": 34
    },
    "colab_type": "code",
    "executionInfo": {
     "elapsed": 3780,
     "status": "ok",
     "timestamp": 1574395380507,
     "user": {
      "displayName": "Mac Sriyanong",
      "photoUrl": "https://lh3.googleusercontent.com/a-/AAuE7mBDcSOx-hT0L-jUf7ZECeaUL0zXgJ7UsQk5jreA9w=s64",
      "userId": "08392812212861704534"
     },
     "user_tz": -420
    },
    "id": "xZJXIP4xKKfZ",
    "outputId": "0d3fe145-890c-4101-8d06-b8c44c7139b3"
   },
   "outputs": [],
   "source": [
    "df2.shape"
   ]
  },
  {
   "cell_type": "code",
   "execution_count": null,
   "metadata": {
    "colab": {
     "base_uri": "https://localhost:8080/",
     "height": 102
    },
    "colab_type": "code",
    "executionInfo": {
     "elapsed": 3777,
     "status": "ok",
     "timestamp": 1574395380507,
     "user": {
      "displayName": "Mac Sriyanong",
      "photoUrl": "https://lh3.googleusercontent.com/a-/AAuE7mBDcSOx-hT0L-jUf7ZECeaUL0zXgJ7UsQk5jreA9w=s64",
      "userId": "08392812212861704534"
     },
     "user_tz": -420
    },
    "id": "uZjlcpZEKKfa",
    "outputId": "ff634526-c58a-45a2-b4c7-30bb74f0136b"
   },
   "outputs": [],
   "source": [
    "df2.count()"
   ]
  },
  {
   "cell_type": "code",
   "execution_count": null,
   "metadata": {
    "colab": {
     "base_uri": "https://localhost:8080/",
     "height": 102
    },
    "colab_type": "code",
    "executionInfo": {
     "elapsed": 3777,
     "status": "ok",
     "timestamp": 1574395380508,
     "user": {
      "displayName": "Mac Sriyanong",
      "photoUrl": "https://lh3.googleusercontent.com/a-/AAuE7mBDcSOx-hT0L-jUf7ZECeaUL0zXgJ7UsQk5jreA9w=s64",
      "userId": "08392812212861704534"
     },
     "user_tz": -420
    },
    "id": "kUECt41bKKfb",
    "outputId": "abed4c71-c5db-4911-8b67-60add34a83e6"
   },
   "outputs": [],
   "source": [
    "df2.min()"
   ]
  },
  {
   "cell_type": "code",
   "execution_count": null,
   "metadata": {
    "colab": {
     "base_uri": "https://localhost:8080/",
     "height": 102
    },
    "colab_type": "code",
    "executionInfo": {
     "elapsed": 3775,
     "status": "ok",
     "timestamp": 1574395380508,
     "user": {
      "displayName": "Mac Sriyanong",
      "photoUrl": "https://lh3.googleusercontent.com/a-/AAuE7mBDcSOx-hT0L-jUf7ZECeaUL0zXgJ7UsQk5jreA9w=s64",
      "userId": "08392812212861704534"
     },
     "user_tz": -420
    },
    "id": "u9dJQHOtKKfc",
    "outputId": "7dc95a96-03cf-45d9-9be1-46063578fb97"
   },
   "outputs": [],
   "source": [
    "df2.max()"
   ]
  },
  {
   "cell_type": "code",
   "execution_count": null,
   "metadata": {
    "colab": {
     "base_uri": "https://localhost:8080/",
     "height": 102
    },
    "colab_type": "code",
    "executionInfo": {
     "elapsed": 1005,
     "status": "ok",
     "timestamp": 1574402846287,
     "user": {
      "displayName": "Mac Sriyanong",
      "photoUrl": "https://lh3.googleusercontent.com/a-/AAuE7mBDcSOx-hT0L-jUf7ZECeaUL0zXgJ7UsQk5jreA9w=s64",
      "userId": "08392812212861704534"
     },
     "user_tz": -420
    },
    "id": "UxPCafGDKKfd",
    "outputId": "52a1ff7c-4f18-46fe-9b2a-23b1e60400e2"
   },
   "outputs": [],
   "source": [
    "df2.sum()"
   ]
  },
  {
   "cell_type": "code",
   "execution_count": null,
   "metadata": {
    "colab": {
     "base_uri": "https://localhost:8080/",
     "height": 235
    },
    "colab_type": "code",
    "executionInfo": {
     "elapsed": 1140,
     "status": "ok",
     "timestamp": 1574402851149,
     "user": {
      "displayName": "Mac Sriyanong",
      "photoUrl": "https://lh3.googleusercontent.com/a-/AAuE7mBDcSOx-hT0L-jUf7ZECeaUL0zXgJ7UsQk5jreA9w=s64",
      "userId": "08392812212861704534"
     },
     "user_tz": -420
    },
    "id": "_KRyW6cJuOmk",
    "outputId": "ffabe3fe-4a74-4701-e616-150978ac8ef1"
   },
   "outputs": [],
   "source": [
    "df2"
   ]
  },
  {
   "cell_type": "code",
   "execution_count": null,
   "metadata": {
    "colab": {
     "base_uri": "https://localhost:8080/",
     "height": 136
    },
    "colab_type": "code",
    "executionInfo": {
     "elapsed": 3773,
     "status": "ok",
     "timestamp": 1574395380510,
     "user": {
      "displayName": "Mac Sriyanong",
      "photoUrl": "https://lh3.googleusercontent.com/a-/AAuE7mBDcSOx-hT0L-jUf7ZECeaUL0zXgJ7UsQk5jreA9w=s64",
      "userId": "08392812212861704534"
     },
     "user_tz": -420
    },
    "id": "TrOd96NBKKfe",
    "outputId": "dc474d6e-58fc-409e-8f5e-cf25d91f221f"
   },
   "outputs": [],
   "source": [
    "df2.sum(axis='columns')"
   ]
  },
  {
   "cell_type": "code",
   "execution_count": null,
   "metadata": {
    "colab": {
     "base_uri": "https://localhost:8080/",
     "height": 85
    },
    "colab_type": "code",
    "executionInfo": {
     "elapsed": 3771,
     "status": "ok",
     "timestamp": 1574395380510,
     "user": {
      "displayName": "Mac Sriyanong",
      "photoUrl": "https://lh3.googleusercontent.com/a-/AAuE7mBDcSOx-hT0L-jUf7ZECeaUL0zXgJ7UsQk5jreA9w=s64",
      "userId": "08392812212861704534"
     },
     "user_tz": -420
    },
    "id": "1GAtJBfIKKfe",
    "outputId": "a0a868c7-008b-4386-db85-fd0587b4f90b"
   },
   "outputs": [],
   "source": [
    "df2.mean()"
   ]
  },
  {
   "cell_type": "code",
   "execution_count": null,
   "metadata": {
    "colab": {
     "base_uri": "https://localhost:8080/",
     "height": 297
    },
    "colab_type": "code",
    "executionInfo": {
     "elapsed": 3771,
     "status": "ok",
     "timestamp": 1574395380511,
     "user": {
      "displayName": "Mac Sriyanong",
      "photoUrl": "https://lh3.googleusercontent.com/a-/AAuE7mBDcSOx-hT0L-jUf7ZECeaUL0zXgJ7UsQk5jreA9w=s64",
      "userId": "08392812212861704534"
     },
     "user_tz": -420
    },
    "id": "rRM5P0DSKKff",
    "outputId": "e24e7619-bc70-482c-91db-66571373809f"
   },
   "outputs": [],
   "source": [
    "df2.describe()"
   ]
  },
  {
   "cell_type": "code",
   "execution_count": null,
   "metadata": {
    "colab": {
     "base_uri": "https://localhost:8080/",
     "height": 235
    },
    "colab_type": "code",
    "executionInfo": {
     "elapsed": 3769,
     "status": "ok",
     "timestamp": 1574395380511,
     "user": {
      "displayName": "Mac Sriyanong",
      "photoUrl": "https://lh3.googleusercontent.com/a-/AAuE7mBDcSOx-hT0L-jUf7ZECeaUL0zXgJ7UsQk5jreA9w=s64",
      "userId": "08392812212861704534"
     },
     "user_tz": -420
    },
    "id": "S7LZDsK2KKfg",
    "outputId": "aa7908ab-e7d2-4a6f-e05b-2ba14c9ca41a"
   },
   "outputs": [],
   "source": [
    "df2"
   ]
  },
  {
   "cell_type": "code",
   "execution_count": null,
   "metadata": {
    "colab": {
     "base_uri": "https://localhost:8080/",
     "height": 85
    },
    "colab_type": "code",
    "executionInfo": {
     "elapsed": 1069,
     "status": "ok",
     "timestamp": 1574402888819,
     "user": {
      "displayName": "Mac Sriyanong",
      "photoUrl": "https://lh3.googleusercontent.com/a-/AAuE7mBDcSOx-hT0L-jUf7ZECeaUL0zXgJ7UsQk5jreA9w=s64",
      "userId": "08392812212861704534"
     },
     "user_tz": -420
    },
    "id": "W880zXuZKKfg",
    "outputId": "8d3b1787-87de-40bf-b15b-0d82bb1c61e9"
   },
   "outputs": [],
   "source": [
    "df2.year.value_counts()"
   ]
  },
  {
   "cell_type": "code",
   "execution_count": null,
   "metadata": {
    "colab": {
     "base_uri": "https://localhost:8080/",
     "height": 68
    },
    "colab_type": "code",
    "executionInfo": {
     "elapsed": 915,
     "status": "ok",
     "timestamp": 1574402901117,
     "user": {
      "displayName": "Mac Sriyanong",
      "photoUrl": "https://lh3.googleusercontent.com/a-/AAuE7mBDcSOx-hT0L-jUf7ZECeaUL0zXgJ7UsQk5jreA9w=s64",
      "userId": "08392812212861704534"
     },
     "user_tz": -420
    },
    "id": "5LATis9TuY-4",
    "outputId": "59f099da-dbcc-42dc-dc11-f5178b49718f"
   },
   "outputs": [],
   "source": [
    "df2.province.value_counts()"
   ]
  }
 ],
 "metadata": {
  "colab": {
   "name": "Copy of 2 - Basic Pandas.ipynb",
   "provenance": [
    {
     "file_id": "1JJO9WUjkVf6UHliVBsWf5aVQvsZQ23fZ",
     "timestamp": 1574393402155
    }
   ]
  },
  "kernelspec": {
   "display_name": "Python 3",
   "language": "python",
   "name": "python3"
  },
  "language_info": {
   "codemirror_mode": {
    "name": "ipython",
    "version": 3
   },
   "file_extension": ".py",
   "mimetype": "text/x-python",
   "name": "python",
   "nbconvert_exporter": "python",
   "pygments_lexer": "ipython3",
   "version": "3.7.3"
  },
  "varInspector": {
   "cols": {
    "lenName": 16,
    "lenType": 16,
    "lenVar": 40
   },
   "kernels_config": {
    "python": {
     "delete_cmd_postfix": "",
     "delete_cmd_prefix": "del ",
     "library": "var_list.py",
     "varRefreshCmd": "print(var_dic_list())"
    },
    "r": {
     "delete_cmd_postfix": ") ",
     "delete_cmd_prefix": "rm(",
     "library": "var_list.r",
     "varRefreshCmd": "cat(var_dic_list()) "
    }
   },
   "types_to_exclude": [
    "module",
    "function",
    "builtin_function_or_method",
    "instance",
    "_Feature"
   ],
   "window_display": false
  }
 },
 "nbformat": 4,
 "nbformat_minor": 1
}
